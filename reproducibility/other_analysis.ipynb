{
 "cells": [
  {
   "attachments": {},
   "cell_type": "markdown",
   "metadata": {},
   "source": [
    "# Other analysis scripts"
   ]
  },
  {
   "cell_type": "code",
   "execution_count": 1,
   "metadata": {},
   "outputs": [],
   "source": [
    "CSV_DIR = './files/csv'"
   ]
  },
  {
   "attachments": {},
   "cell_type": "markdown",
   "metadata": {},
   "source": [
    "## CSV comparison"
   ]
  },
  {
   "cell_type": "code",
   "execution_count": 9,
   "metadata": {},
   "outputs": [
    {
     "name": "stdout",
     "output_type": "stream",
     "text": [
      "Jaccard Similarity between Headless and Native for sites that have more Rejected > Accepted: 0.25925925925925924\n",
      "{'https://worldcat.org', 'https://cancer.org', 'https://avg.com', 'https://match.com', 'https://amplitude.com', 'https://rackspacecloud.com', 'https://bmj.com'}\n",
      "Jaccard Similarity between Headless and Native for sites that have more Rejected > No Interaction: 0.6394557823129252\n",
      "{'https://gumgum.com', 'https://oclc.org', 'https://digicert.com', 'https://barracudanetworks.com', 'https://ccleaner.com', 'https://greenhouse.io', 'https://doodle.com', 'https://tfl.gov.uk', 'https://elsevierhealth.com', 'https://comodo.com', 'https://watchguard.com', 'https://askubuntu.com', 'https://siteground.us', 'https://thelancet.com', 'https://match.com', 'https://urbanairship.com', 'https://teads.tv', 'https://king.com', 'https://technologyreview.com', 'https://senderscore.com', 'https://adtelligent.com', 'https://premierleague.com', 'https://algolianet.com', 'https://docker.com', 'https://pb.com', 'https://wufoo.com', 'https://eurogamer.net', 'https://mastercard.com', 'https://kcl.ac.uk', 'https://rioseo.com', 'https://osu.edu', 'https://narvar.com', 'https://swrve.com', 'https://lnk.to', 'https://ultradns.com', 'https://trustarc.com', 'https://snowflake.com', 'https://ssrn.com', 'https://imperial.ac.uk', 'https://serverfault.com', 'https://playrix.com', 'https://kaltura.com', 'https://mynavi.jp', 'https://smartthings.com', 'https://fifa.com', 'https://iubenda.com', 'https://pubnub.com', 'https://eagleeyenetworks.com', 'https://vertamedia.com', 'https://symantec.com', 'https://gmu.edu', 'https://plos.org', 'https://apptimize.com', 'https://cell.com', 'https://isipp.com', 'https://esa.int', 'https://helpshift.com', 'https://mendeley.com', 'https://surveymonkey.com', 'https://agora.io', 'https://siteground.com', 'https://imgsmail.ru', 'https://cancer.org', 'https://superuser.com', 'https://nationalarchives.gov.uk', 'https://sendinblue.com', 'https://mimecast.net', 'https://mitre.org', 'https://exoclick.com', 'https://verisign.com', 'https://justpremium.com', 'https://esri.com', 'https://seagate.com', 'https://avg.com', 'https://freepik.es', 'https://truste.com', 'https://flashscore.com', 'https://hp.com', 'https://deltadna.net', 'https://worldcat.org', 'https://businesswire.com', 'https://geotrust.com', 'https://zend.com', 'https://rackspacecloud.com', 'https://epam.com', 'https://nap.edu', 'https://nvidia.com', 'https://bmj.com', 'https://aliyun.com', 'https://ey.com', 'https://dxc.com', 'https://broadcom.com', 'https://pandasecurity.com', 'https://viber.com'}\n"
     ]
    }
   ],
   "source": [
    "import csv\n",
    "\n",
    "def compute_jaccard_simmilarity(file1, file2):\n",
    "    \"\"\"\n",
    "    Check similarity between keys of two CSV files\n",
    "    \"\"\"\n",
    "    with open(file1, 'r') as f1, open(file2, 'r') as f2:\n",
    "        reader1 = csv.reader(f1)\n",
    "        reader2 = csv.reader(f2)\n",
    "        \n",
    "        # Skip the headers\n",
    "        next(reader1)\n",
    "        next(reader2)\n",
    "        \n",
    "        # Read the first columns from both files\n",
    "        column1 = [row[0] for row in reader1]\n",
    "        column2 = [row[0] for row in reader2]\n",
    "        \n",
    "        # Compute Jaccard Similarity\n",
    "        # i.e., intersection / union\n",
    "        similarity = len(set(column1) & set(column2)) / len(set(column1) | set(column2))\n",
    "        \n",
    "        return similarity\n",
    "    \n",
    "def get_intersection(file1, file2):\n",
    "    \"\"\"\n",
    "    Get intersection between keys of two CSV files\n",
    "    \"\"\"\n",
    "    with open(file1, 'r') as f1, open(file2, 'r') as f2:\n",
    "        reader1 = csv.reader(f1)\n",
    "        reader2 = csv.reader(f2)\n",
    "\n",
    "        # Skip the headers\n",
    "        next(reader1)\n",
    "        next(reader2)\n",
    "        \n",
    "        # Read the first columns from both files\n",
    "        column1 = [row[0] for row in reader1]\n",
    "        column2 = [row[0] for row in reader2]\n",
    "\n",
    "        return set(column1) & set(column2)\n",
    "\n",
    "\n",
    "# Rejected > Accepted\n",
    "file1_path = CSV_DIR + '/headless_more_rejected_than_accepted.csv'\n",
    "file2_path = CSV_DIR + '/native_more_rejected_than_accepted.csv'\n",
    "similarity_score = compute_jaccard_simmilarity(file1_path, file2_path)\n",
    "print(f\"Jaccard Similarity between Headless and Native for sites that have more Rejected > Accepted: {similarity_score}\")\n",
    "print(get_intersection(file1_path, file2_path))\n",
    "\n",
    "# Rejected > No Interaction\n",
    "file1_path = CSV_DIR + '/headless_more_rejected_than_no_interaction.csv'\n",
    "file2_path = CSV_DIR + '/native_more_rejected_than_no_interaction.csv'\n",
    "similarity_score = compute_jaccard_simmilarity(file1_path, file2_path)\n",
    "print(f\"Jaccard Similarity between Headless and Native for sites that have more Rejected > No Interaction: {similarity_score}\")\n",
    "print(get_intersection(file1_path, file2_path))"
   ]
  }
 ],
 "metadata": {
  "kernelspec": {
   "display_name": "dataverse",
   "language": "python",
   "name": "python3"
  },
  "language_info": {
   "codemirror_mode": {
    "name": "ipython",
    "version": 3
   },
   "file_extension": ".py",
   "mimetype": "text/x-python",
   "name": "python",
   "nbconvert_exporter": "python",
   "pygments_lexer": "ipython3",
   "version": "3.10.4"
  },
  "orig_nbformat": 4
 },
 "nbformat": 4,
 "nbformat_minor": 2
}
