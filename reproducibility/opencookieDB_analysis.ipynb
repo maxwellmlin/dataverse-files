{
 "cells": [
  {
   "attachments": {},
   "cell_type": "markdown",
   "id": "575f4490",
   "metadata": {
    "pycharm": {
     "name": "#%% md\n"
    },
    "tags": []
   },
   "source": [
    "# Geocookies Analysis"
   ]
  },
  {
   "cell_type": "code",
   "execution_count": 93,
   "id": "79f22b28",
   "metadata": {},
   "outputs": [],
   "source": [
    "ROOT = \"data/desktop/detectedBanner\" # path of the crawl data"
   ]
  },
  {
   "attachments": {},
   "cell_type": "markdown",
   "id": "180b8d76-6739-4476-be93-03ae866ff659",
   "metadata": {
    "pycharm": {
     "name": "#%% md\n"
    },
    "tags": []
   },
   "source": [
    "## Package imports"
   ]
  },
  {
   "cell_type": "code",
   "execution_count": 94,
   "id": "1ea022c0-d7a8-47dd-a6a2-29fbe65af8af",
   "metadata": {
    "pycharm": {
     "name": "#%%\n"
    }
   },
   "outputs": [],
   "source": [
    "# imports\n",
    "\n",
    "%matplotlib inline\n",
    "import pandas as pd\n",
    "import numpy as np\n",
    "import sqlite3\n",
    "import os\n",
    "from bs4 import BeautifulSoup as bs\n",
    "import re\n",
    "from functools import reduce\n",
    "import seaborn as sns\n",
    "import matplotlib as mpl\n",
    "import matplotlib.ticker as mtick\n",
    "import matplotlib.pyplot as plt\n",
    "sns.set_theme()\n",
    "import warnings\n",
    "import scipy.stats\n",
    "import scikit_posthocs as sp\n",
    "from publicsuffix2 import PublicSuffixList\n",
    "\n",
    "import matplotlib.patches as mpatches\n",
    "import pingouin as pg\n",
    "\n",
    "from statannotations.Annotator import Annotator\n",
    "\n",
    "import json\n",
    "import csv\n",
    "import math\n",
    "\n",
    "import pprint\n",
    "pp = pprint.PrettyPrinter(indent=4)\n",
    "\n",
    "psl = PublicSuffixList()\n",
    "warnings.filterwarnings('ignore')\n",
    "# %config Completer.use_jedi = False"
   ]
  },
  {
   "attachments": {},
   "cell_type": "markdown",
   "id": "f147cc96",
   "metadata": {
    "pycharm": {
     "name": "#%% md\n"
    },
    "tags": []
   },
   "source": [
    "## Initial variables"
   ]
  },
  {
   "cell_type": "code",
   "execution_count": 95,
   "id": "6e1a6704-3e67-4eaa-a5d3-05906face0d7",
   "metadata": {
    "pycharm": {
     "name": "#%%\n"
    }
   },
   "outputs": [],
   "source": [
    "# plots configs\n",
    "\n",
    "plt.rc('text', usetex=True)\n",
    "\n",
    "plt.rcParams['font.size'] = 9\n",
    "plt.rcParams['axes.linewidth'] = 2\n",
    "plt.rcParams[\"savefig.bbox\"] = \"tight\"\n",
    "plt.rcParams[\"savefig.dpi\"] = 3000\n",
    "plt.rcParams[\"figure.autolayout\"] = True\n",
    "plt.rcParams[\"text.usetex\"] = True\n",
    "# plt.rcParams['figure.figsize'] = 3.35,7.03\n",
    "single_col_width = 3.35\n",
    "double_col_width = 7.03\n",
    "sns.set_style(\"white\")"
   ]
  },
  {
   "cell_type": "code",
   "execution_count": 96,
   "id": "87d45ab4-2f99-4cd0-b6a7-8d5544e236d2",
   "metadata": {
    "pycharm": {
     "name": "#%%\n"
    }
   },
   "outputs": [],
   "source": [
    "# initializing vars\n",
    "# 'eu-central-1' , \n",
    "FIG_DIR = './files/figs'\n",
    "INPUT_DIR = './files/inputs'\n",
    "CSV_DIR = './files/csv'\n",
    "# AWS_names = ['eu-central-1' , 'eu-north-1', 'us-east-1', 'us-west-1', 'ap-south-1', 'sa-east-1', 'af-south-1', 'ap-southeast-2']\n",
    "AWS_names = ['us-east-1']\n",
    "AWS_to_loc = {'eu-central-1': \"Germany\" , 'eu-north-1': \"Sweden\", 'us-east-1': \"US East\", 'us-west-1': \"US West\", 'ap-south-1': \"India\", 'sa-east-1': \"Brazil\", 'af-south-1': \"South Africa\", 'ap-southeast-2': \"Australia\"}\n",
    "loc_to_AWS = {'Germany': \"eu-central-1\" , 'Sweden': \"eu-north-1\", 'US East': \"us-east-1\", 'US West': \"us-west-1\", 'India': \"ap-south-1\", 'Brazil': \"sa-east-1\", 'South Africa': \"af-south-1\", 'Australia': \"ap-southeast-2\"}\n",
    "# locations = ['Germany', 'Sweden', 'US East', 'US West', 'India', 'Brazil', 'South Africa', 'Australia']\n",
    "locations = ['US East']\n",
    "EU_locs = ['Germany', 'Sweden']\n",
    "nonEU_locs = ['US East', 'US West', 'India', 'Brazil', 'South Africa', 'Australia']\n",
    "\n",
    "tranco_list = pd.read_csv(INPUT_DIR+'/Tranco5Nov.csv')\n",
    "OFFSET_ACCEPT = 10000000\n",
    "OFFSET_REJECT = 20000000\n",
    "NUM_BATCH = 10\n",
    "\n",
    "run_to_folder = {\"desktop\": \"desktop\", \"mobile\": \"mobile-sc\", \"ccpa\":\"new-ccpa\", \"innerpages\": \"new-innerpages\", \"consistency\": \"consistency\", \"more-1k\": \"more--1iter-1k\", \"acc_rej_sc\": \"acc_rej_sc\", \"words_extraction\": \"more--1iter-10k-2\", \"sub\": \"sub/1\", \"sub2\": \"sub/22\"}\n",
    "new_runs = [\"acc_rej_sc\", \"sub\", \"sub2\"]\n",
    "\n",
    "cookies_collect = True\n",
    "\n",
    "# AWS_names = ['us-east-1']\n",
    "# run_cat =    desktop    mobile-sc   ccpa\n",
    "# eu_central = None, eu_north = None, us_east = None, us_west = None, ap_south = None\n",
    "# sa_east = None, af_south = None, ap_southeast = None"
   ]
  },
  {
   "cell_type": "code",
   "execution_count": 97,
   "id": "0f77a14c",
   "metadata": {
    "pycharm": {
     "name": "#%%\n"
    }
   },
   "outputs": [],
   "source": [
    "runs = {}"
   ]
  },
  {
   "attachments": {},
   "cell_type": "markdown",
   "id": "cdd30222",
   "metadata": {
    "pycharm": {
     "name": "#%% md\n"
    }
   },
   "source": [
    "## Setup functions"
   ]
  },
  {
   "cell_type": "code",
   "execution_count": 98,
   "id": "7823a63e",
   "metadata": {},
   "outputs": [
    {
     "name": "stdout",
     "output_type": "stream",
     "text": [
      "{'cookiePreferences': 'Functional', 'CookieConsent': 'Functional', 'CookieConsentBulkTicket': 'Functional', 'userlang': 'Functional', 'cookieconsent_variant': 'Functional', 'cookieconsent_system': 'Functional', 'cookieconsent_level': 'Functional', 'cookieconsent_seen': 'Functional', '_ga': 'Analytics', '_ga_': 'Analytics', '_gid': 'Analytics', '_gat': 'Analytics', '_dc_gtm_': 'Analytics', 'AMP_TOKEN': 'Analytics', '_gat_gtag_': 'Analytics', '_gac_': 'Marketing', '__utma': 'Analytics', '__utmt': 'Analytics', '__utmb': 'Analytics', '__utmc': 'Analytics', '__utmz': 'Analytics', '__utmv': 'Analytics', '__utmx': 'Analytics', '__utmxx': 'Analytics', '_GRECAPTCHA': 'Functional', 'S1': 'Analytics', 'C1': 'Analytics', 's_cc': 'Analytics', 's_sq': 'Analytics', 's_vi': 'Analytics', 's_fid': 'Analytics', 'fid': 'Analytics', 'demdex': 'Marketing', 'dextp': 'Marketing', 'dst': 'Marketing', '_dp': 'Marketing', 'aam_uuid': 'Marketing', 'AMCV_': 'Marketing', 'AMCVS_': 'Marketing', 'mbox': 'Marketing', 'at_check': 'Functional', 'renderid': 'Functional', 's_ppv': 'Analytics', 's_tp': 'Analytics', 'TPC': 'Marketing', 'C': 'Marketing', 'uid': 'Marketing', 'cid': 'Marketing', 'GCM': 'Marketing', 'CM': 'Marketing', 'CM14': 'Marketing', 'token': 'Marketing', 'otsid': 'Marketing', 'adtrc': 'Marketing', 'SR': 'Marketing', 'CT': 'Marketing', 'EBFCD': 'Marketing', 'EBFC': 'Marketing', 'CFFC': 'Marketing', 'DigiTrust.v1.identity': 'Marketing', 'lu': 'Marketing', 'xs': 'Marketing', 'c_user': 'Marketing', 'm_user': 'Marketing', 'pl': 'Marketing', 'dbln': 'Marketing', 'aks': 'Marketing', 'aksb': 'Marketing', 'sfau': 'Marketing', 'ick': 'Marketing', 'csm': 'Marketing', 's': 'Marketing', 'datr': 'Marketing', 'sb': 'Marketing', 'fr': 'Marketing', 'oo': 'Marketing', 'ddid': 'Marketing', 'locale': 'Marketing', '_fbp': 'Marketing', '_fbc': 'Marketing', 'js_ver': 'Marketing', 'rc': 'Marketing', 'campaign_click_url': 'Marketing', 'wd': 'Functional', 'IDE': 'Marketing', 'DSID': 'Marketing', 'ID': 'Marketing', 'RUL': 'Marketing', '__gads': 'Marketing', 'GoogleAdServingTest': 'Marketing', 'fl_inst': 'Marketing', 'pvc2': 'Marketing', 'pcc2': 'Marketing', 'trc': 'Marketing', 'tuuid': 'Marketing', 'ad2': 'Marketing', 'MR': 'Marketing', 'MUID': 'Marketing', 'MUIDB': 'Marketing', 'MC1': 'Marketing', 'MSFPC': 'Marketing', '_uetsid': 'Marketing', '_uetvid': 'Marketing', 'ANON': 'Marketing', 'ANONCHK': 'Marketing', 'CC': 'Marketing', 'PPAuth': 'Functional', 'MSPAuth': 'Functional', 'MSNRPSAuth': 'Functional', 'KievRPSAuth': 'Functional', 'WLSSC': 'Functional', 'MSPProf': 'Functional', 'MC0': 'Functional', 'MS0': 'Functional', 'NAP': 'Marketing', 'MH': 'Marketing', 'childinfo': 'Marketing', 'kcdob': 'Marketing', 'kcrelid': 'Marketing', 'kcru': 'Marketing', 'pcfm': 'Marketing', 'x-ms-gateway-slice': 'Functional', 'ToptOut': 'Marketing', 'ACH01': 'Marketing', 'AADSSO': 'Functional', 'brcap': 'Functional', 'SRM_B': 'Functional', 'buid': 'Functional', 'esctx': 'Functional', 'fpc': 'Functional', 'stsservicecookie': 'Functional', 'ARRAffinity': 'Functional', 'ARRAffinitySameSite': 'Functional', '__AntiXsrfToken': 'Functional', '.ASPXANONYMOUS': 'Functional', '.ASPXAUTH': 'Functional', 'nSGt-': 'Functional', 'RpsContextCookie': 'Functional', 'ASLBSACORS': 'Functional', 'ASLBSA': 'Functional', 'ASPSESSIONID': 'Functional', 'ApplicationGatewayAffinity': 'Functional', 'ApplicationGatewayAffinityCORS': 'Functional', 'VisitorStorageGuid': 'Functional', 'ai_session': 'Functional', 'ai_user': 'Functional', 'AADNonce.forms': 'Functional', 'DcLcid': 'Functional', '_clck': 'Analytics', '_clsk': 'Analytics', 'SM': 'Analytics', 'CLID': 'Analytics', 'MicrosoftApplicationsTelemetryDeviceId': 'Analytics', 'guest_id': 'Marketing', 'personalization_id': 'Marketing', 'ct0': 'Marketing', 'gt': 'Marketing', 'guest_id_marketing': 'Marketing', 'guest_id_ads': 'Marketing', 'muc_ads': 'Marketing', '__insp_pad': 'Analytics', '__insp_sid': 'Analytics', '__insp_ref': 'Analytics', '__insp_scpt': 'Analytics', '__insp_nv': 'Analytics', '__insp_wid': 'Analytics', '__insp_uid': 'Analytics', '__insp_dct': 'Analytics', 'CTK': 'Analytics', 'ctkgen': 'Analytics', 'INDEED_CSRF_TOKEN': 'Analytics', 'jasx_pool_id': 'Analytics', 'pagead/conv/%INTEGER%': 'Analytics', 'tv_spot_tracker': 'Analytics', 'cookie-consent-io': 'Functional', 'cookie-consent-io-timestamp': 'Functional', 'cookie-consent-io-gdpr': 'Functional', 'ccec_user': 'Marketing', 'GPS': 'Marketing', 'VISITOR_INFO1_LIVE': 'Marketing', 'PREF': 'Functional', 'YSC': 'Functional', 'DEVICE_INFO': 'Functional', '__adm_ui': 'Marketing', '__adm_uiex': 'Marketing', '__adm_usyncc': 'Marketing', 'uids': 'Marketing', '__cfduid': 'Functional', '__cfruid': 'Functional', '__cf_bm': 'Functional', 'cf_chl_2': 'Functional', '__cflb': 'Functional', '__uin_bw': 'Marketing', '__uir_bw': 'Marketing', '__uis': 'Marketing', 'HAPLB5S': 'Marketing', '_dbefe': 'Marketing', '_hjid': 'Analytics', '_hjIncludedInSample': 'Analytics', '_hjClosedSurveyInvites': 'Analytics', '_hjDonePolls': 'Analytics', '_hjMinimizedPolls': 'Analytics', '_hjDoneTestersWidgets': 'Analytics', '_hjMinimizedTestersWidgets': 'Analytics', '_hjShownFeedbackMessage': 'Analytics', '_hjTLDTest': 'Functional', '_hjUserAttributesHash': 'Functional', '_hjCachedUserAttributes': 'Analytics', '_hjLocalStorageTest': 'Functional', '_hjptid': 'Functional', '_hjAbsoluteSessionInProgress': 'Functional', '_hjFirstSeen': 'Functional', '_hjIncludedInPageviewSample': 'Functional', '_hjIncludedInSessionSample': 'Functional', '_hjSession_': 'Functional', '_hjSessionUser_': 'Functional', '_hjSessionTooLarge': 'Functional', '_hjSessionRejected': 'Functional', '_hjSessionResumed': 'Functional', '_kuid_': 'Marketing', '_twitter_sess': 'Marketing', '_gcl_au': 'Marketing', 'ac_enable_tracking': 'Marketing', 'ASP.NET_SessionId': 'Functional', 'ASP.NET_SessionId_Fallback': 'Functional', 'JSESSIONID': 'Functional', 'ORA_WWV_APP_': 'Functional', 'laravel_session': 'Functional', 'PHPSESSID': 'Functional', 'XSRF-TOKEN': 'Functional', 'lidc': 'Marketing', 'bcookie': 'Marketing', 'bscookie': 'Marketing', 'trkCode': 'Marketing', 'trkInfo': 'Marketing', 'li_oatml': 'Marketing', 'liap': 'Marketing', 'lissc': 'Marketing', 'spectroscopyId': 'Marketing', 'UserMatchHistory': 'Marketing', 'lang': 'Functional', 'li_gc': 'Functional', 'li_rm': 'Functional', 'AnalyticsSyncHistory': 'Functional', 'ln_or': 'Analytics', 'li_sugr': 'Marketing', 'GCLB': 'Functional', 'AWSALB': 'Functional', 'AWSALBCORS': 'Functional', 'AWSELBCORS': 'Functional', 'AWSELB': 'Functional', 'aws-csds-token': 'Functional', 'aws_lang': 'Functional', 'aws-target-visitor-id': 'Analytics', 'aws-priv': 'Functional', 'CMID': 'Marketing', 'CMPRO': 'Marketing', 'CMPS': 'Marketing', 'CMRUM3': 'Marketing', 'CMST': 'Marketing', 'cookieJartestCookie': 'Marketing', 'obuid': 'Marketing', 'apnxs': 'Marketing', 'criteo': 'Marketing', 'mdfrc': 'Marketing', 'adrl': 'Marketing', 'ttd': 'Marketing', 'jpxumaster': 'Marketing', 'jpxumatched': 'Marketing', 'PUBMDCID': 'Marketing', 'PugT': 'Marketing', 'Kiyohnl': 'Functional', 'id5': 'Marketing', 'cip': 'Marketing', 'car': 'Marketing', 'callback': 'Marketing', 'cnac': 'Marketing', 'cf': 'Marketing', 'gdpr': 'Functional', 'UIDR': 'Marketing', 'SEUNCY': 'Marketing', 'OAID': 'Marketing', 'OAGEO': 'Marketing', 'ljt_reader': 'Marketing', 'rek_content': 'Marketing', 'um': 'Marketing', 'umeh': 'Marketing', 'BSWtracker': 'Marketing', '_rxuuid': 'Marketing', 'AA003': 'Marketing', 'ATN': 'Marketing', 'tt_viewer': 'Marketing', 'cfid': 'Functional', 'cftoken': 'Functional', 'test_cookie': 'Functional', 'gckp': 'Marketing', 'um2': 'Marketing', 'tuuid_lu': 'Marketing', 'uu': 'Marketing', 'cct': 'Marketing', 'tu': 'Marketing', 'betweendigital.com': 'Marketing', 'ss': 'Functional', 'st_csd': 'Marketing', 'st_cs': 'Marketing', '_gaexp': 'Functional', 'TestIfCookieP': 'Marketing', 'pid': 'Marketing', '.AspNetCore.Antiforgery.': 'Functional', 'unruly_m': 'Marketing', 'KRTBCOOKIE_': 'Marketing', 'bdswch': 'Marketing', 'csync': 'Marketing', 'lidid': 'Marketing', 'f5_cspm': 'Analytics', 'tluid': 'Marketing', 't_gid': 'Marketing', '__zlcmid': 'Marketing', 'i': 'Marketing', 'dpm': 'Marketing', '__atuvc': 'Functional', '__atuvs': 'Functional', 'ssc': 'Functional', 'uvc': 'Functional', 'loc': 'Functional', 'na_id': 'Functional', 'na_tc': 'Functional', 'ouid': 'Functional', 'DG_HID': 'Marketing', 'DG_IID': 'Marketing', 'DG_SID': 'Marketing', 'DG_UID': 'Marketing', 'DG_ZID': 'Marketing', 'DG_ZUID': 'Marketing', 'fonts-loaded': 'Functional', 'html-classes': 'Functional', 'SNLB2': 'Functional', 'lz_last_visit': 'Functional', 'lz_userid': 'Functional', 'lz_visits': 'Functional', '.secureclient': 'Functional', '.securesession': 'Functional', '.stateflags': 'Functional', '.auth': 'Functional', 'advst_uid_11': 'Marketing', 'DISPATCHER': 'Marketing', 'DSP_UID': 'Marketing', 'picreel_tracker__visited': 'Analytics', 'picreel_tracker__first_visit': 'Analytics', 'picreel_tracker__page_views': 'Analytics', 'picreel_new_price': 'Analytics', '__auc': 'Analytics', 'ajs_user_id': 'Analytics', 'ajs_anonymous_id': 'Analytics', 'ajs_group_id': 'Analytics', '1P_JAR': 'Marketing', 'CONSENT': 'Functional', 'ads_prefs': 'Marketing', 'auth_token': 'Marketing', 'csrf_same_site': 'Marketing', 'csrf_same_site_set': 'Marketing', 'dnt': 'Marketing', 'eu_cn': 'Marketing', 'external_referer': 'Marketing', 'kdt': 'Marketing', 'remember_checked_on': 'Marketing', 'rweb_optin': 'Marketing', 'syndication_guest_id': 'Marketing', 'twid': 'Marketing', 'tfw_exp': 'Marketing', '__asc': 'Analytics', '__insp_norec_sess': 'Analytics', '__insp_slim': 'Analytics', '__insp_targlpt': 'Analytics', '__insp_targlpu': 'Analytics', '__RequestVerificationToken': 'Functional', '__stid': 'Analytics', '__uin_mm': 'Marketing', '__uir_mm': 'Marketing', '_cc_aud': 'Marketing', '_cc_cc': 'Marketing', '_cc_id': 'Marketing', 'ab': 'Marketing', 'bkdc': 'Marketing', 'bku': 'Marketing', 'everest_g_v2': 'Marketing', 'mt_misc': 'Marketing', 'mt_mop': 'Marketing', 'pl_user_id': 'Marketing', 'pxrc': 'Marketing', 'rlas3': 'Marketing', 'TapAd_DID': 'Marketing', 'TapAd_TS': 'Marketing', 'TDCPM': 'Marketing', 'TDID': 'Marketing', 'uid-bp-': 'Marketing', 'uuidc': 'Marketing', 'zc': 'Marketing', 'amplitude_id': 'Marketing', 'csrf-canary': 'Functional', '3pi': 'Marketing', 'am-uid': 'Marketing', '_cc_dc': 'Marketing', 'bkpa': 'Marketing', '_ljtrtb_': 'Marketing', 'ljtrtb': 'Marketing', 'uuid': 'Marketing', '_pinterest_cm': 'Functional', '_pinterest_sess': 'Functional', '_pin_unauth': 'Marketing', '_pinterest_ct_ua': 'Marketing', 'sessionFunnelEventLogged': 'Marketing', '_routing_id': 'Marketing', 'Nop.customer': 'Functional', 'NopCommerce.RecentlyViewedProducts': 'Functional', 'NOPCOMMERCE.AUTH': 'Functional', 'tsrvid': 'Functional', 'SEARCH_SAMESITE': 'Functional', 'AID': 'Marketing', 'SID': 'Marketing', 'HSID': 'Marketing', 'APISID': 'Marketing', 'SAPISID': 'Marketing', 'SSID': 'Marketing', 'SIDCC': 'Marketing', 'OTZ': 'Marketing', 'ANID': 'Marketing', 'DV': 'Marketing', 'NID': 'Marketing', 'form_key': 'Functional', 'mage-cache-sessid': 'Functional', 'mage-cache-storage': 'Functional', 'mage-cache-storage-section-invalidation': 'Functional', 'mage-messages': 'Functional', 'mage-translation-file-version': 'Functional', 'mage-translation-storage': 'Functional', 'product_data_storage': 'Functional', 'recently_compared_product': 'Functional', 'recently_compared_product_previous': 'Functional', 'recently_viewed_product': 'Functional', 'recently_viewed_product_previous': 'Functional', 'user_allowed_save_cookie': 'Functional', 'external_no_cache': 'Functional', 'persistent_shopping_cart': 'Functional', 'stf': 'Functional', 'pollN': 'Functional', 'frontend': 'Functional', 'guest-view': 'Functional', 'mage-banners-cache-storage': 'Functional', 'searchReport-log': 'Functional', 'private_content_version': 'Functional', 'X-Magento-Vary': 'Functional', 'section_data_ids': 'Functional', 'section_data_clean': 'Functional', 'last_visited_store': 'Functional', 'dsps:': 'Marketing', 'TapAd_3WAY_SYNCS': 'Marketing', '_mb': 'Marketing', 'wordpress_test_cookie': 'Functional', 'componentType': 'Functional', 'componentStyle': 'Functional', 'nrid': 'Functional', 'sat_track': 'Functional', 'cookieconsent_status': 'Functional', 'cookieconsent_page': 'Functional', 'koitk': 'Marketing', '__ss_referrer': 'Marketing', '__ss_tk': 'Marketing', '__ss': 'Marketing', '_pk_id': 'Analytics', '_pk_ref': 'Analytics', '_pk_ses': 'Analytics', '_pk_cvar': 'Analytics', '_pk_hsr': 'Analytics', '_pk_testcookie': 'Analytics', 'mtm_consent': 'Analytics', 'datatrics_optin': 'Marketing', 'datatricsDebugger': 'Marketing', 'datatrics_customData': 'Marketing', '_wepublishGa': 'Analytics', '_wepublishGa_gid': 'Analytics', 'OptanonConsent': 'Functional', 'optimizelyEndUserId': 'Marketing', 'optimizelyRedirectData': 'Marketing', 'optimizelyDomainTestCookie': 'Marketing', 'optimizelyOptOut': 'Marketing', 'wwwchannelme_z_sid': 'Functional', 'app_ts': 'Marketing', 'viewer': 'Marketing', 'spx_ts': 'Marketing', 'adx_ts': 'Marketing', 'id_ts': 'Marketing', 'euconsent': 'Marketing', 'SSR-caching': 'Functional', 'smSession': 'Functional', 'svSession': 'Marketing', 'ForceFlashSite': 'Functional', 'hs': 'Functional', 'bSession': 'Functional', 'TS01': 'Functional', 'fedops.logger.sessionId': 'Functional', 'wixLanguage': 'Functional', '_ab': 'Functional', '_secure_session_id': 'Functional', 'Cart': 'Functional', 'cart_sig': 'Functional', 'cart_ts': 'Functional', 'checkout_token': 'Functional', 'Secret': 'Functional', 'Secure_customer_sig': 'Functional', 'storefront_digest': 'Functional', '_shopify_u': 'Functional', '_tracking_consent': 'Marketing', '_landing_page': 'Marketing', '_orig_referrer': 'Marketing', '_s': 'Analytics', '_shopify_fs': 'Analytics', '_shopify_s': 'Analytics', '_shopify_sa_p': 'Marketing', '_shopify_sa_t': 'Marketing', '_shopify_uniq': 'Analytics', '_shopify_visit': 'Analytics', '_shopify_y': 'Analytics', '_y': 'Analytics', 'tracked_start_checkout': 'Analytics', 'ki_r': 'Analytics', 'ki_t': 'Analytics', '_Brochure_session': 'Analytics', 'shopify_pay_redirect': 'Functional', 'cart_currency': 'Functional', 'dynamic_checkout_shown_on_cart': 'Functional', 'keep_alive': 'Functional', 'checkout_session_token': 'Functional', 'checkout_session_lookup': 'Functional', 'cart_ver': 'Functional', 'localization': 'Functional', 'locale_bar_accepted': 'Functional', '_cmp_a': 'Functional', '__hs_opt_out': 'Functional', '__hs_do_not_track': 'Functional', '__hs_initial_opt_in': 'Functional', 'hs_ab_test': 'Functional', 'hs-messages-is-open': 'Functional', 'hs-messages-hide-welcome-message': 'Functional', '__hsmem': 'Functional', 'hs-membership-csrf': 'Functional', 'hs_langswitcher_choice': 'Functional', '__hstc': 'Marketing', 'hubspotutk': 'Marketing', '__hssc': 'Marketing', '__hssrc': 'Marketing', 'messagesUtk': 'Marketing', 'renderCtx': 'Functional', 'pctrk': 'Analytics', 'force-stream': 'Functional', 'sfdc-stream': 'Functional', 'BrowserId_sec': 'Functional', 'force-proxy-stream': 'Functional', 'BrowserId': 'Functional', 'QCQQ': 'Functional', 'sid_Client': 'Functional', 'idccsrf': 'Functional', 'rsid': 'Functional', 'rsid2': 'Functional', 'RRetURL': 'Functional', 'RRetURL2': 'Functional', 'alohaEpt': 'Functional', 'clientSrc': 'Functional', 'oinfo': 'Marketing', 'autocomplete': 'Functional', 'inst': 'Functional', 'expid_': 'Marketing', 'disco': 'Marketing', 'oid': 'Functional', 'CookieConsentPolicy': 'Functional', 'vuid': 'Analytics', 'Player': 'Functional', 'continuous_play_v3': 'Functional', '__stripe_mid': 'Functional', '__stripe_sid': 'Functional', 'm': 'Functional', '_gat_pro': 'Functional', 'woocommerce_cart_hash': 'Functional', 'woocommerce_items_in_cart': 'Functional', 'wp_woocommerce_session_': 'Functional', 'woocommerce_recently_viewed': 'Functional', 'edgebucket': 'Marketing', 'initref': 'Marketing', 'incap_ses_': 'Functional', 'nlbi_': 'Functional', 'visid_incap_': 'Functional', 'sp_t': 'Functional', 'sp_landing': 'Functional', 'anj': 'Marketing', 'uuid2': 'Marketing', 'cc-': 'Functional', 'pgid-org-': 'Functional', 'SecureSessionID-': 'Functional', 'CMSCsrfCookie': 'Functional', 'CMSCookieLevel': 'Functional', 'CMSLandingPageLoaded': 'Analytics', 'CMSPreferredCulture': 'Functional', 'CMSUserPage': 'Analytics', 'CurrentContact': 'Analytics', 'VisitorStatus': 'Analytics', 'sc_at': 'Marketing', '_scid': 'Marketing', '_schn': 'Marketing', 'X-AB': 'Functional', '_vwo_uuid_v2': 'Functional', '_vis_opt_s': 'Functional', '_vis_opt_test_cookie': 'Functional', '_vis_opt_exp_': 'Functional', 'zc_consent': 'Functional', 'ZCAMPAIGN_CSRF_TOKEN': 'Functional', 'zc_show': 'Marketing', 'zc_cu_exp': 'Functional', 'zc_loc': 'Marketing', 'wa_ul': 'Functional', 'wa_lang_pref': 'Functional', 'pa_rubicon_ts': 'Marketing', 'pa_google_ts': 'Marketing', 'pa_twitter_ts': 'Marketing', 'pa_yahoo_ts': 'Marketing', 'pa_openx_ts': 'Marketing', 'pa_uid': 'Marketing', 'mailmunch_second_pageview': 'Marketing', '_mailmunch_visitor_id': 'Marketing', 'tk_ai': 'Analytics', 'tPHG-PS': 'Marketing', 'digitalAudience': 'Marketing', 'has_js': 'Functional', '_omappvs': 'Marketing', '_omappvp': 'Marketing', '_lfa': 'Marketing', 'SnapABugHistory': 'Marketing', 'SnapABugUserAlias': 'Functional', 'SnapABugVisit': 'Functional', 'SnapABugRef': 'Marketing', 'audience': 'Marketing', 'yith_wcwl_session_': 'Functional', 'A3': 'Marketing', 'APID': 'Marketing', 'APIDTS': 'Marketing', 'IDSYNC': 'Marketing', 'INGRESSCOOKIE': 'Functional', 'AlteonP': 'Functional', 'cref': 'Marketing', 'mc': 'Marketing', 'd': 'Marketing', 'iutk': 'Marketing', 'cookielawinfo-checkbox-necessary': 'Functional', 'cookielawinfo-checkbox-non-necessary': 'Functional', 'viewed_cookie_policy': 'Functional', 'cookielawinfo-checkbox-marketing': 'Functional', 'cookielawinfo-checkbox-analytics': 'Functional', 'cookielawinfo-checkbox-performance': 'Functional', 'cookielawinfo-checkbox-others': 'Functional', 'cookielawinfo-checkbox-functional': 'Functional', 'cookielawinfo-checkbox-advertisement': 'Functional', '__qca': 'Marketing', 'stg_traffic_source_priority': 'Analytics', 'stg_last_interaction': 'Analytics', 'stg_returning_visitor': 'Analytics', 'stg_externalReferrer': 'Analytics', '__sqra': 'Functional', '__sqrb': 'Functional', '__sqrc': 'Functional', 'nmstat': 'Analytics', 'sp': 'Analytics', '_sp_id.': 'Analytics', '_sp_ses.': 'Analytics', 'AUTH_SESSION_ID': 'Functional', 'KC_RESTART': 'Functional', 'KC_START': 'Functional', 'KEYCLOAK_IDENTITY': 'Functional', 'KEYCLOAK_LOCALE': 'Functional', 'KEYCLOAK_REMEMBER_ME': 'Functional', 'KEYCLOAK_SESSION': 'Functional', '_abck': 'Functional', 'AKA_A2': 'Functional', 'ak_bmsc': 'Functional', 'bm_sv': 'Functional', 'CRAFT_CSRF_TOKEN': 'Functional', 'CraftSessionId': 'Functional', 'ci_session': 'Functional', '__lc_cid': 'Functional', '__lc_cst': 'Functional', '__lc2_cid': 'Functional', '__lc2_cst': 'Functional', '__livechat': 'Functional', 'BVBRANDID': 'Analytics', 'BVBRANDSID': 'Analytics', 'BVID': 'Marketing', 'BVSID': 'Marketing', '_li_id': 'Marketing', '_li_ses': 'Marketing', 'CAKEPHP': 'Functional', 'wp-wpml_current_language': 'Functional', '_flowbox': 'Functional', 'acalltracker': 'Marketing', 'acalltrackersession': 'Functional', 'acalltrackerreferrer': 'Analytics', 'excludecalltracking': 'Functional', 'acalltrackernumber': 'Marketing', 'wordpress_google_apps_login': 'Functional', 'ckies_functional': 'Functional', 'ckies_necessary': 'Functional', 'ckies_performance': 'Functional', 'ckies_marketing': 'Functional', 'ClickAndChange': 'Functional', 'pll_language': 'Functional', 'browserupdateorg': 'Functional', 'TawkConnectionTime': 'Functional', 'tawkUUID': 'Analytics', 'TawkCookie': 'Functional', '__tawkuuid': 'Functional', 'stx_user_id': 'Marketing', 'dc': 'Marketing', 'sqzl_abs': 'Marketing', 'sqzl_consent': 'Functional', 'sqzl_session_id': 'Marketing', 'sqzl_vw': 'Marketing', 'sqzllocal': 'Marketing', 'belco-anonymous-id': 'Functional', 'belco-cookies': 'Functional', 'ABTasty': 'Analytics', 'ABTastySession': 'Analytics', 'BCSessionID': 'Marketing', 'BCTempID': 'Marketing', 'BCPermissionLevel': 'Functional', 'BCReferrerOverrule': 'Marketing', 'BCRefusedObjectives': 'Marketing', 'BCRevision': 'Marketing', 'BCTracking': 'Marketing', '__adal_ca': 'Marketing', '__adal_cw': 'Marketing', '__adal_id': 'Marketing', '__adal_ses': 'Marketing', 'Pastease.passive.activated': 'Analytics', 'Pastease.passive.chance': 'Analytics', 'AFFICHE_W': 'Analytics', 'matchadform': 'Marketing', 'wfivefivec': 'Marketing', 'UserID1': 'Marketing', 'arcki2': 'Marketing', 'arcki2_adform': 'Marketing', 'arcki2_ddp': 'Marketing', '_sn_a': 'Analytics', '_sn_m': 'Marketing', '_sn_n': 'Functional', 'apbct_antibot': 'Functional', 'ct_check_js': 'Functional', 'ct_fkp_timestamp': 'Functional', 'ct_has_scrolled': 'Functional', 'ct_pointer_data': 'Functional', 'ct_ps_timestamp': 'Functional', 'ct_timezone': 'Functional', '__kla_id': 'Marketing', '__trf.src': 'Marketing', '_ALGOLIA': 'Analytics', '_csrf': 'Functional', '_tt_enable_cookie': 'Marketing', '_ttp': 'Marketing', 'MONITOR_WEB_ID': 'Marketing', 'msToken': 'Marketing', 'ttwid': 'Marketing', 'ahoy_visit': 'Analytics', 'ahoy_visitor': 'Analytics', 'auth0': 'Functional', 'auth0_compat': 'Functional', 'auth0-mf': 'Functional', 'auth0-mf_compat': 'Functional', 'a0_users:sess': 'Functional', 'a0_users:sess.sig': 'Functional', 'did': 'Functional', 'did_compat': 'Functional', 'HAPLB8S': 'Marketing', 'atidvisitor': 'Analytics', 'atuserid': 'Analytics', 'ja_purity_tpl': 'Functional', 'ja_purity_ii_tpl': 'Functional', 'BIGipServer': 'Functional', 'active_template::': 'Functional', 'ezds': 'Functional', 'ezoab_': 'Functional', 'ezoadgid_': 'Analytics', 'ezohw': 'Functional', 'ezopvc_': 'Analytics', 'ezoref_': 'Analytics', 'ezostid_': 'Functional', 'ezosuigeneris': 'Marketing', 'ezosuibasgeneris-1': 'Marketing', 'ezouid_': 'Analytics', 'ezovid_': 'Analytics', 'ezovuuid_': 'Analytics', 'ezovuuidtime_': 'Analytics', 'ezux_et_': 'Analytics', 'ezux_ifep_': 'Analytics', 'ezux_lpl_': 'Analytics', 'ezux_tos_': 'Analytics', 'ezoawesome_': 'Functional', 'easysize_button_loaded_for_user': 'Functional', 'swym-email': 'Functional', 'swym-session-id': 'Functional', 'swym-pid': 'Functional', 'swym-swymRegid': 'Functional', 'swym-cu_ct': 'Functional', 'swym-o_s': 'Functional', 'swym-instrumentMap': 'Functional', 'swym-ol_ct': 'Functional', 'swym-v-ckd': 'Functional', 'swym-tpermts': 'Functional', 'swym-u_pref': 'Functional', 'swym-weml': 'Functional', 'enforce_policy': 'Functional', 'x-pp-s': 'Functional', 'ts': 'Functional', 'ts_c': 'Functional', 'tsrce': 'Functional', 'nsid': 'Functional', 'X-PP-SILOVER': 'Functional', 'X-PP-L7': 'Functional', 'l7_az': 'Functional', 'SERVERID': 'Functional', 'v_usr': 'Marketing', 'idsync-bsw-uid-s': 'Marketing', 'done_redirects': 'Marketing', 'vidoomy-uids': 'Marketing', 'bbuserid': 'Functional', 'bbpassword': 'Functional', 'bbsessionhash': 'Functional', 'bbcpsessionhash': 'Functional', 'bbnp_notices_displayed': 'Functional', 'bbsitebuilder_active': 'Functional', 'bblastactivity': 'Functional', 'bblastvisit': 'Functional', 'viewer_token': 'Marketing', 'wires': 'Functional', 'wires_challenge': 'Functional', 'ab.storage.userId.': 'Functional', 'ab.storage.sessionId.': 'Analytics', 'ab.storage.deviceId.': 'Analytics', 'ab.optOut': 'Functional', 'ab._gd': 'Functional', 'devicePixelRatio': 'Functional', 'tk_lr': 'Marketing', 'tk_or': 'Marketing', 'wp-settings-': 'Functional', 'wporg_logged_in': 'Functional', 'wporg_sec': 'Functional', 'wporg_locale': 'Functional', 'welcome-': 'Functional', 'showComments': 'Functional', 'trac_form_token': 'Functional', 'trac_session': 'Functional', 'codexToken': 'Functional', 'codexUserId': 'Functional', 'codexUserName': 'Functional', 'camptix_client_stats': 'Analytics', 'wp-saving-post': 'Functional', 'comment_author_': 'Functional', 'comment_author_url_': 'Functional', 'wp-postpass_': 'Functional', 'wp-settings-time-': 'Functional', 'tix_view_token': 'Functional', 'jetpackState': 'Functional', 'jpp_math_pass': 'Functional', 'stnojs': 'Functional', 'wordpress_logged_in_': 'Functional'}\n"
     ]
    }
   ],
   "source": [
    "\n",
    "import pandas as pd\n",
    "import matplotlib.pyplot as mpl\n",
    "\n",
    "df = pd.read_csv('open-cookie-database.csv')\n",
    "\n",
    "# # Group the data by Category and count the number of cookies in each Category\n",
    "# category_counts = df['Category'].value_counts()\n",
    "\n",
    "# display(category_counts)\n",
    "\n",
    "# plt.pie(category_counts, labels=category_counts.index, autopct='%1.1f%%')\n",
    "# plt.title('Distribution of Cookies by Category Within Cookie Database')\n",
    "# plt.axis('equal')\n",
    "# plt.show()\n",
    "\n",
    "\n",
    "\n",
    "# Create a dictionary with \"Cookie / Data Key name\" as keys and \"Category\" as values\n",
    "cookie_category_dict = dict(zip(df['Cookie / Data Key name'], df['Category']))\n",
    "\n",
    "# Print the dictionary\n",
    "print(cookie_category_dict)\n"
   ]
  },
  {
   "cell_type": "code",
   "execution_count": 99,
   "id": "fb81ef36",
   "metadata": {},
   "outputs": [],
   "source": [
    "# def print_cookies_with_different_categories(csv_file_path):\n",
    "#     # Read the CSV file into a pandas DataFrame\n",
    "#     df = pd.read_csv(csv_file_path)\n",
    "\n",
    "#     # Group the DataFrame by \"Cookie / Data Key name\" and filter groups with more than one unique \"Category\"\n",
    "#     grouped = df.groupby('Cookie / Data Key name').filter(lambda x: x['Category'].nunique() > 1)\n",
    "\n",
    "#     # Iterate through the groups and print the cookies with different categories\n",
    "#     for _, group in grouped.groupby('Cookie / Data Key name'):\n",
    "#         cookie_key = group['Cookie / Data Key name'].iloc[0]\n",
    "#         print(f\"Cookie Key: {cookie_key}\")\n",
    "#         for _, row in group.iterrows():\n",
    "#             category = row['Category']\n",
    "#             domain = row['Domain']\n",
    "#             print(f\"    Category: {category}\")\n",
    "#             print(f\"    Domain: {domain}\")\n",
    "#         print(\"--------------------\")\n",
    "\n",
    "\n",
    "# print_cookies_with_different_categories('open-cookie-database.csv')"
   ]
  },
  {
   "cell_type": "code",
   "execution_count": 100,
   "id": "25c1f08f",
   "metadata": {},
   "outputs": [],
   "source": [
    "\n",
    "# def load_cookie_script(cookie_script_path=\"files/inputs/cookie-script/results.json\"):\n",
    "#     \"\"\"\n",
    "#     Returns Cookie-Script JSON file as a dictionary.\n",
    "    \n",
    "#     NOTE: This function ignores duplicates (same \"website\" and \"cookieKey\") in the JSON file and only takes the last entry.\n",
    "#     This does not affect the results as the duplicates have identical classes (but may be different elsewhere).\n",
    "    \n",
    "#     The JSON file is reformatted as relevant key-value pairs.\n",
    "#     i.e., cookie_data = cookie_script[site_url][cookie_name]\n",
    "#     \"\"\"\n",
    "#     object_list = []\n",
    "#     with open(cookie_script_path) as file:\n",
    "#         for line in file:\n",
    "#             object_ = json.loads(line)\n",
    "#             object_list.append(object_)\n",
    "\n",
    "#     cookie_script = {}\n",
    "\n",
    "#     for object_ in object_list:\n",
    "#         # Extract the website and cookies from the current JSON object\n",
    "#         website = object_[\"website\"]\n",
    "#         cookies = object_[\"cookies\"]\n",
    "\n",
    "#         # Create a nested dictionary for the current website\n",
    "#         cookie_script[website] = {}\n",
    "\n",
    "#         # Populate the nested dictionary with cookie data for the current website\n",
    "#         for cookie in cookies:\n",
    "#             cookie_key = cookie.pop(\n",
    "#                 \"cookieKey\"\n",
    "#             )  # Remove 'cookieKey' from the dictionary values and assign it as a key\n",
    "#             cookie_script[website][cookie_key] = cookie\n",
    "\n",
    "#     return cookie_script"
   ]
  },
  {
   "cell_type": "code",
   "execution_count": 101,
   "id": "784f7e6b",
   "metadata": {},
   "outputs": [],
   "source": [
    "# import pprint\n",
    "# cookie_script = load_cookie_script()\n",
    "# pprint.pprint(cookie_script)"
   ]
  },
  {
   "cell_type": "code",
   "execution_count": 102,
   "id": "7e96b25a-4cdc-4cec-9424-77191b265eb3",
   "metadata": {
    "pycharm": {
     "name": "#%%\n"
    }
   },
   "outputs": [],
   "source": [
    "# printing utility functions\n",
    "\n",
    "def show_detection_status(run_cat=\"desktop\"):\n",
    "    for name, aws in runs[run_cat].AWS_map.items():\n",
    "        df = aws.visits\n",
    "        if 'banners' in df:\n",
    "            print('{:14} detect {:4} and {:4} websites with banners and CMP respectively out of {:4} entries in DB.'.format(name, df[df.banners>0].shape[0], df[df.__tcfapi==1].shape[0], df.shape[0]))\n",
    "            \n",
    "def show_run_status(run_cat=\"desktop\"):\n",
    "    for name, aws in runs[run_cat].AWS_map.items():\n",
    "        df = aws.visits\n",
    "        if 'banners' in df:\n",
    "            print('{:14} reachable: {:3}, selenium timeout: {:3}, unreachable: {:3}, exception during banner detection {:3}.'.format(name, df[df.status==0].shape[0], df[df.status==1].shape[0], df[df.status==2].shape[0], df[df.status==-1].shape[0]))"
   ]
  },
  {
   "cell_type": "code",
   "execution_count": 103,
   "id": "dd5e3b7a-1f2c-44fe-bb20-771a3e9a5367",
   "metadata": {
    "pycharm": {
     "name": "#%%\n"
    }
   },
   "outputs": [],
   "source": [
    "# logical utility functions\n",
    "\n",
    "def awstoserver(aws):\n",
    "    return f\"inet-gc-p-{aws}.dyn.mpi-klsb.mpg.de\"\n",
    "\n",
    "def make_suffix(string):\n",
    "    return \"_\" + string.replace('-', '_')\n",
    "    \n",
    "def add_suffix(df, name, base_column=[\"visit_id\", \"domain\"], inplace=False):\n",
    "    suffix = make_suffix(name)\n",
    "    if inplace:\n",
    "        df = df.add_suffix(suffix).rename(columns=dict(zip([f\"{bc}{suffix}\" for bc in base_column], base_column)), inplace=True)\n",
    "        return df\n",
    "    else:\n",
    "        temp = df.add_suffix(suffix)\n",
    "        return temp.rename(columns=dict(zip([f\"{bc}{suffix}\" for bc in base_column], base_column)), inplace=False)\n",
    "\n",
    "def get_db_path(AWS, batch=0, run_name=\"desktop\"):\n",
    "    server_name = \"inet-gc-p-\"+AWS+\".dyn.mpi-klsb.mpg.de\"\n",
    "    data_dir = \"data\"\n",
    "    run_folder = run_name\n",
    "    dir_list = os.listdir(f\"{data_dir}/{run_folder}/{server_name}/\")\n",
    "    SP_list = [int(directory.split(\"SP\")[1]) for directory in dir_list]\n",
    "    SP_list = list(set(SP_list))\n",
    "    SP_list.sort()\n",
    "    top = str(SP_list[batch])\n",
    "    folder_names = [name for name in dir_list if \"SP\" in name and top == name.split(\"SP\")[1]]\n",
    "    data_file = folder_names[-1]\n",
    "    path = f\"{data_dir}/{run_folder}/{server_name}/{data_file}/crawl-data.sqlite\"\n",
    "    return path, int(top)\n",
    "\n",
    "def get_last_visit(visits):  # not a good implementation since the last one can be unreachable by OpenWPM\n",
    "    last_visit = visits[visits.visit_id<OFFSET_ACCEPT-2].visit_id.max() + 1\n",
    "    return last_visit\n",
    "\n",
    "def to_bool(df, cmp_mod, x):\n",
    "    if cmp_mod == 1:\n",
    "        return df == x\n",
    "    elif cmp_mod == -1:\n",
    "        return df != x\n",
    "\n",
    "def do_all(dfs, operand, cmp_mod, to_cmp):\n",
    "    if operand == '&':\n",
    "        res = reduce(lambda x, y: x&y, [to_bool(df,cmp_mod,to_cmp) for df in dfs])\n",
    "    if operand == '|':\n",
    "        res = reduce(lambda x, y: x|y, [to_bool(df,cmp_mod,to_cmp) for df in dfs])\n",
    "    if operand == '+':\n",
    "        res = reduce(lambda x, y: x+y, [to_bool(df,cmp_mod,to_cmp) for df in dfs])\n",
    "        \n",
    "    return res\n",
    "\n",
    "# Returns dataframe containing all vantage points together. Column names appended by \"_AWS_NAME\"\n",
    "def merge_dfs(AWS_list, table='visits'):\n",
    "    dfs = []\n",
    "    for aws in AWS_list:\n",
    "        aws_name = aws.name\n",
    "        df = aws.table_map[table]\n",
    "        df = add_suffix(df, aws_name)\n",
    "        dfs.append(df)\n",
    "    merged = reduce(lambda  left,right: pd.merge(left, right, how='outer', left_on=['visit_id','domain'], right_on=['visit_id','domain']), dfs)\n",
    "    return merged\n",
    "\n",
    "def get_column(df, base_column, aws_name):\n",
    "    cl = base_column + make_suffix(aws_name)\n",
    "    return df[cl]\n",
    "\n",
    "def get_columns(df, base_column, aws_names):\n",
    "    cls = [base_column + make_suffix(name) for name in aws_names]\n",
    "    return df[cls]    \n",
    "\n",
    "def get_AWS_obj(run, location):\n",
    "    return runs[run].AWS_map[loc_to_AWS[location]]\n",
    "\n",
    "# return only rechables crawls\n",
    "# status=1 means loaded websites, if it is the case for all VP then we consider ot\n",
    "# TODO: these should be changed, here we assume runs with same visit_id should considered together which is wrong.\n",
    "# However it is too rare that not all of the crawls for the same domain in one VP behave differently. (see appendix.1)\n",
    "def pulish_with_status(merged, aws_names=[]):\n",
    "    rd = merged[get_columns(merged, 'status', aws_names).any(axis=1).eq(0)]\n",
    "    return rd\n",
    "\n",
    "def append_series(AWSs, table, column):\n",
    "    dfs = pd.Series()\n",
    "    flag = False\n",
    "    for aws in AWSs:\n",
    "        aws_name = aws.name\n",
    "        df = aws.table_map[table][column]\n",
    "        if not flag:\n",
    "            flag = True\n",
    "            dfs = df\n",
    "            continue\n",
    "        dfs = dfs.append(df, ignore_index=True)\n",
    "    return dfs\n",
    "# d = append_series(runs['mobile-sc'].AWS_list, 'visits', 'ttw')\n"
   ]
  },
  {
   "cell_type": "code",
   "execution_count": 104,
   "id": "d3d2fd1b-0fee-40ca-9362-0087c7b83bdf",
   "metadata": {
    "pycharm": {
     "name": "#%%\n"
    }
   },
   "outputs": [],
   "source": [
    "# classes\n",
    "\n",
    "# AWS class is for each VP and contains all variable needed to handle VP charachtristics like location, different DBs and etc.\n",
    "class AWS:\n",
    "    def __init__(self, name=None, visits=None, banners=None, htmls=None, site_visits=None, crawl_history=None, javascript_cookies=None, incomplete_visits=None):\n",
    "        table_map = {}\n",
    "        self.name = name\n",
    "        self.location = AWS_to_loc[name]\n",
    "        self.visits = visits\n",
    "        self.banners = banners\n",
    "        self.htmls = htmls\n",
    "        self.site_visits = site_visits\n",
    "        self.crawl_history = crawl_history\n",
    "        self.javascript_cookies = javascript_cookies\n",
    "        self.incomplete_visits = incomplete_visits\n",
    "        table_map[\"visits\"] = self.visits\n",
    "        table_map[\"banners\"] = self.banners\n",
    "        table_map[\"htmls\"] = self.htmls\n",
    "        table_map[\"site_visits\"] = self.site_visits\n",
    "        table_map[\"crawl_history\"] = self.crawl_history\n",
    "        table_map[\"javascript_cookies\"] = self.javascript_cookies\n",
    "        table_map[\"incomplete_visits\"] = self.incomplete_visits\n",
    "        self.table_map = table_map\n",
    "\n",
    "# Run class contains all the required information about a spesific compaign run, e.g. Desktop Measurement.\n",
    "class Run:\n",
    "    def __init__(self, name=None, AWS_map=None, AWS_list=None):\n",
    "        self.name = name\n",
    "        self.AWS_map = AWS_map\n",
    "        self.AWS_list = AWS_list\n",
    "        self.AWS_names = self.AWS_map.keys()\n",
    "        self.aws_to_var()\n",
    "        self.merged = merge_dfs(AWS_list, 'visits')\n",
    "        self.polished = pulish_with_status(self.merged, self.AWS_names)\n",
    "        \n",
    "    def aws_to_var(self):\n",
    "        AWS_map = self.AWS_map\n",
    "        if \"eu-central-1\" in AWS_map:\n",
    "            self.eu_central = AWS_map[\"eu-central-1\"]\n",
    "        if \"eu-north-1\" in AWS_map:\n",
    "            self.eu_north = AWS_map[\"eu-north-1\"]\n",
    "        if \"us-east-1\" in AWS_map:\n",
    "            self.us_east = AWS_map[\"us-east-1\"]\n",
    "        if \"us-west-1\" in AWS_map:\n",
    "            self.us_west = AWS_map[\"us-west-1\"]\n",
    "        if \"ap-south-1\" in AWS_map:\n",
    "            self.ap_south = AWS_map[\"ap-south-1\"]\n",
    "        if \"sa-east-1\" in AWS_map:\n",
    "            self.a_east = AWS_map[\"sa-east-1\"]\n",
    "        if \"af-south-1\" in AWS_map:\n",
    "            self.af_south = AWS_map[\"af-south-1\"]\n",
    "        if \"ap-southeast-2\" in AWS_map:\n",
    "            self.ap_southeast = AWS_map[\"ap-southeast-2\"]"
   ]
  },
  {
   "cell_type": "code",
   "execution_count": 105,
   "id": "b16b1c54-937c-4f9f-8701-61d2e4ddad41",
   "metadata": {
    "pycharm": {
     "name": "#%%\n"
    }
   },
   "outputs": [],
   "source": [
    "# This function fetches the DB on hard disk for a certain run and save it in an RUN class. \n",
    "# For each vantage point it saves the DB in an AWS class.\n",
    "def fetch_db(run_name=\"desktop\", number_of_batches=NUM_BATCH, aws_names=AWS_names, root=ROOT):\n",
    "    AWSs = {}\n",
    "    AWS_list = []\n",
    "    for aws_name in aws_names:\n",
    "        first_flag = True\n",
    "        \n",
    "        \"\"\"\n",
    "        for i in range(number_of_batches):\n",
    "            try:\n",
    "                data_dir, SP = get_db_path(aws_name, i, run_name)\n",
    "            except:\n",
    "                print(\"Exception occurred!\")\n",
    "                break\n",
    "        \"\"\"\n",
    "        \n",
    "        dirs = []\n",
    "        for item in os.listdir(root):\n",
    "            path = os.path.join(root, item)\n",
    "            if os.path.isdir(path):\n",
    "                dirs.append(f'{path}/crawl-data.sqlite')\n",
    "\n",
    "        for data_dir in dirs:\n",
    "            # print(data_dir)\n",
    "            db = sqlite3.connect(data_dir)\n",
    "            if first_flag:\n",
    "                visits = pd.read_sql_query(\"SELECT * FROM visits\", db)\n",
    "                banners = pd.read_sql_query(\"SELECT * FROM banners\", db)\n",
    "                site_visits = pd.read_sql_query(\"SELECT * FROM site_visits\", db)\n",
    "                htmls = pd.read_sql_query(\"SELECT * FROM htmls\", db)\n",
    "                # if cookies_collect:\n",
    "                site_visits = pd.read_sql_query(\"SELECT visit_id, site_url, site_rank FROM site_visits\", db)\n",
    "                crawl_history = pd.read_sql_query(\"SELECT * FROM crawl_history\", db)\n",
    "                javascript_cookies = pd.read_sql_query(\"SELECT visit_id, event_ordinal, record_type, host, name, expiry, time_stamp, is_secure, is_http_only FROM javascript_cookies\", db)\n",
    "                incomplete_visits = pd.read_sql_query(\"SELECT visit_id FROM incomplete_visits\", db)\n",
    "                first_flag = False\n",
    "            else:\n",
    "                last_visit = get_last_visit(visits)\n",
    "                # last_visit = i * 1000\n",
    "                new_visits = pd.read_sql_query(\"SELECT * FROM visits\", db)\n",
    "                new_banners = pd.read_sql_query(\"SELECT * FROM banners\", db)\n",
    "                new_htmls = pd.read_sql_query(\"SELECT * FROM htmls\", db)\n",
    "                new_site_visits = pd.read_sql_query(\"SELECT visit_id, site_url, site_rank FROM site_visits\", db)\n",
    "                new_crawl_history = pd.read_sql_query(\"SELECT * FROM crawl_history\", db)\n",
    "                new_javascript_cookies = pd.read_sql_query(\"SELECT visit_id, event_ordinal, record_type, host, name, expiry, time_stamp, is_secure, is_http_only FROM javascript_cookies\", db)\n",
    "                new_incomplete_visits = pd.read_sql_query(\"SELECT visit_id FROM incomplete_visits\", db)\n",
    "                new_visits.visit_id = new_visits.visit_id + last_visit\n",
    "                new_banners.visit_id = new_banners.visit_id + last_visit\n",
    "                new_htmls.visit_id = new_htmls.visit_id + last_visit\n",
    "                new_site_visits.site_rank = new_site_visits.site_rank + last_visit\n",
    "                visits = pd.concat([visits, new_visits])\n",
    "                banners = pd.concat([banners, new_banners])\n",
    "                htmls = pd.concat([htmls, new_htmls])\n",
    "                site_visits = pd.concat([site_visits, new_site_visits])\n",
    "                crawl_history = pd.concat([crawl_history, new_crawl_history])\n",
    "                javascript_cookies = pd.concat([javascript_cookies, new_javascript_cookies])\n",
    "                incomplete_visits = pd.concat([incomplete_visits, new_incomplete_visits])\n",
    "        AWSs[aws_name] = AWS(aws_name, visits, banners, htmls, site_visits, crawl_history, javascript_cookies, incomplete_visits)\n",
    "    AWS_list = list(AWSs.values())\n",
    "    runs[run_name] = Run(run_name, AWSs, AWS_list)\n",
    "if \"desktop\" in runs.keys():\n",
    "    # eu_central, eu_north, us_east, us_west, ap_south, sa_east, af_south, ap_southeast = runs[\"desktop\"].AWS_list\n",
    "    us_east = runs[\"desktop\"].AWS_list"
   ]
  },
  {
   "attachments": {},
   "cell_type": "markdown",
   "id": "0e5ef4a7",
   "metadata": {
    "pycharm": {
     "name": "#%% md\n"
    },
    "tags": [],
    "toc-hr-collapsed": true
   },
   "source": [
    "## Data fetching"
   ]
  },
  {
   "cell_type": "code",
   "execution_count": 106,
   "id": "61860049-155b-431d-a5f9-9922b1dd3b7d",
   "metadata": {
    "pycharm": {
     "name": "#%%\n"
    },
    "tags": []
   },
   "outputs": [],
   "source": [
    "fetch_db(\"desktop\")"
   ]
  },
  {
   "cell_type": "code",
   "execution_count": 107,
   "id": "47de6c36",
   "metadata": {
    "pycharm": {
     "name": "#%%\n"
    },
    "tags": []
   },
   "outputs": [],
   "source": [
    "# fetch_db(\"mobile\", 1)"
   ]
  },
  {
   "cell_type": "code",
   "execution_count": 108,
   "id": "739d4bfe-9b55-451e-bcd0-a33929a57112",
   "metadata": {
    "pycharm": {
     "is_executing": true,
     "name": "#%%\n"
    },
    "tags": []
   },
   "outputs": [],
   "source": [
    "# fetch_db(\"ccpa\")"
   ]
  },
  {
   "cell_type": "code",
   "execution_count": 109,
   "id": "df9c474f",
   "metadata": {
    "pycharm": {
     "name": "#%%\n"
    },
    "tags": []
   },
   "outputs": [],
   "source": [
    "# fetch_db(\"consistency\")"
   ]
  },
  {
   "cell_type": "code",
   "execution_count": 110,
   "id": "94ab5df6",
   "metadata": {
    "pycharm": {
     "name": "#%%\n"
    },
    "tags": []
   },
   "outputs": [],
   "source": [
    "# fetch_db(\"innerpages\")"
   ]
  },
  {
   "cell_type": "code",
   "execution_count": 111,
   "id": "b98a2ae2-c69d-420e-b436-2745735da9eb",
   "metadata": {
    "tags": []
   },
   "outputs": [],
   "source": [
    "# fetch_db(\"words-extraction\")"
   ]
  },
  {
   "attachments": {},
   "cell_type": "markdown",
   "id": "2e4d38de-8968-42f9-ade6-4e3643c991cf",
   "metadata": {
    "pycharm": {
     "name": "#%%\n"
    }
   },
   "source": [
    "## Utility functions and initialization"
   ]
  },
  {
   "attachments": {},
   "cell_type": "markdown",
   "id": "d5e20022",
   "metadata": {
    "pycharm": {
     "name": "#%% md\n"
    }
   },
   "source": [
    "### Overall utility functions"
   ]
  },
  {
   "cell_type": "code",
   "execution_count": 112,
   "id": "4e90cc69",
   "metadata": {
    "pycharm": {
     "name": "#%%\n"
    }
   },
   "outputs": [],
   "source": [
    "tracking_lists = [\"adguarddns\", \"easylist\", \"easyprivacy\", \"nocoin\"]\n",
    "LIST_DIR = INPUT_DIR+\"/blocklists/lists/\"\n",
    "\n",
    "def get_domain_of_url(url):\n",
    "    domain = runs['desktop'].eu_north.visits[runs['desktop'].eu_north.visits.url == url].iloc[0].domain\n",
    "    return domain\n",
    "\n",
    "def get_pure_js_cookies(js_cookies_df):\n",
    "    temp_df = js_cookies_df[js_cookies_df.record_type != \"deleted\"]\n",
    "    return temp_df\n",
    "\n",
    "def is_first_party(url, host, psl):\n",
    "#     url = url.split(\"/\")[2]\n",
    "#     if url.startswith(\"http\"):\n",
    "#         url = url[url.index(\"/\")+2:]\n",
    "#     url = url.strip()\n",
    "#     if url.endswith(\"/\"):\n",
    "#         url = url[:url.index(\"/\")]\n",
    "#     if host.startswith(\"http\"):\n",
    "#         host = host[host.index(\"/\")+2:]\n",
    "#     host = host.strip()\n",
    "#     if host.endswith(\"/\"):\n",
    "#         host = host[:host.index(\"/\")]\n",
    "        \n",
    "    return psl.get_public_suffix(get_domain(url)) == psl.get_public_suffix(get_domain(host))\n",
    "\n",
    "\n",
    "# this function return the Dataframe of those domains that have all three possible interation mode (clicked)\n",
    "def get_acc_rej_intersection(df):\n",
    "    return df[df.site_url.isin(df[df[\"clicked\"]==\"Rejected\"].site_url)&(df.site_url.isin(df[df[\"clicked\"]==\"Accepted\"].site_url))&(df.complete)]\n",
    "\n",
    "\n",
    "def get_tracking_list(tracking_lists_name=['easylist']):\n",
    "    whole_list = {}\n",
    "    for l in tracking_lists_name:\n",
    "        list_file = LIST_DIR+l+\"-justdomains.txt\"\n",
    "        with open(list_file) as file:\n",
    "            lines = file.readlines()\n",
    "            for line in lines:\n",
    "                whole_list[line.rstrip()] = True\n",
    "    return whole_list\n",
    "\n",
    "\n",
    "def get_domain(url):\n",
    "    temp = url.split(\"/\")\n",
    "    if len(temp)>2:\n",
    "        return psl.get_public_suffix(temp[2])\n",
    "    elif len(temp)>1:\n",
    "        return psl.get_public_suffix(temp[1])\n",
    "    else:\n",
    "        return psl.get_public_suffix(url)\n",
    "\n",
    "\n",
    "def is_tracking(url, host, psl, tracking_list):\n",
    "    if is_first_party(url, host, psl):\n",
    "        return False\n",
    "    return psl.get_public_suffix(host) in tracking_list\n",
    "\n",
    "def get_cookie_class(cookie_name):\n",
    "    # domain = get_domain(url)\n",
    "\n",
    "    # if not (domain_cookies := cookie_script.get(domain)):\n",
    "    #     # domain not in cookie_script\n",
    "    #     return \"Unclassified\"\n",
    "\n",
    "    if not (cookie := cookie_category_dict.get(cookie_name)):\n",
    "        # cookie_name not in Open Cookie Database\n",
    "        return \"Unclassified\"\n",
    "    \n",
    "    return cookie\n",
    "\n",
    "\n",
    "def get_interaction_mode(acc, rej):\n",
    "    if acc:\n",
    "        return \"Accept\"\n",
    "    elif rej:\n",
    "        return \"Reject\"\n",
    "    else:\n",
    "        return \"No interaction\"\n",
    "\n",
    "    \n",
    "def get_clicked(acc, rej):\n",
    "    if acc:\n",
    "        return \"Accepted\"\n",
    "    elif rej:\n",
    "        return \"Rejected\"\n",
    "    else:\n",
    "        return \"No interaction\"    \n",
    "    \n",
    "\n",
    "def intersection(lst1, lst2):\n",
    "    return list(set(lst1) & set(lst2))\n",
    "\n",
    "\n",
    "def get_acc_rej_intersection_on_columns(dfs, column=\"site_url\"):\n",
    "    valid_domains = []\n",
    "    for vp in dfs:\n",
    "        vp_domains = list(vp[column])\n",
    "        if len(valid_domains):\n",
    "            valid_domains = intersection(valid_domains, vp_domains)\n",
    "        else:\n",
    "            valid_domains = vp_domains\n",
    "    return valid_domains\n",
    "\n",
    "\n",
    "def get_reject_intersection_domains(dfs):\n",
    "    temp_dfs = [get_acc_rej_intersection(df) for df in dfs]\n",
    "    domains = get_acc_rej_intersection_on_columns(temp_dfs)\n",
    "    return domains\n",
    "\n",
    "\n",
    "def calc_banners(df):\n",
    "    return df.banners.sum()/df.shape[0]\n",
    "\n",
    "\n",
    "def sub(x, y):\n",
    "    return x-y\n",
    "\n",
    "\n",
    "def get_intersection_column(dfs, column=\"domain\"):\n",
    "    temp_set = []\n",
    "    for df in dfs:\n",
    "        df_clm = list(df[column])\n",
    "        if len(temp_set):\n",
    "            temp_set = intersection(temp_set, df_clm)\n",
    "        else:\n",
    "            temp_set = df_clm\n",
    "\n",
    "    return temp_set\n",
    "\n",
    "\n",
    "def groupby_url_and_interaction_mode_and_clicked(df):\n",
    "    temp = df.groupby([\"site_url\",\"interaction\", \"clicked\"]).agg(\"mean\").reset_index()\n",
    "    return temp\n",
    "\n",
    "\n",
    "def get_complete(df):\n",
    "    temp = df[df.complete]\n",
    "    return temp\n",
    "\n",
    "                               \n",
    "def do_both(df):\n",
    "    temp1 = get_complete(df)     \n",
    "    temp2 = groupby_url_and_interaction_mode_and_clicked(temp1)\n",
    "    return temp2       \n",
    "\n",
    "\n",
    "def get_show_banner(df):\n",
    "    temp = get_complete(df)  \n",
    "    temp1 = temp[(temp.site_url.isin(temp[temp[\"clicked\"]==\"Accepted\"].site_url))]\n",
    "    return temp1"
   ]
  },
  {
   "cell_type": "code",
   "execution_count": 113,
   "id": "e168c4e3",
   "metadata": {},
   "outputs": [
    {
     "data": {
      "text/plain": [
       "'Analytics'"
      ]
     },
     "execution_count": 113,
     "metadata": {},
     "output_type": "execute_result"
    }
   ],
   "source": [
    "# Test\n",
    "get_cookie_class('_gid')"
   ]
  },
  {
   "cell_type": "code",
   "execution_count": 114,
   "id": "e7a89c21-c24a-4c53-92d3-f669bb6a57a3",
   "metadata": {
    "pycharm": {
     "is_executing": true,
     "name": "#%%\n"
    }
   },
   "outputs": [],
   "source": [
    "\n",
    "# This function will perform all necessary operations on the results of a specific location to and merge operations in a manageable Dataframe for further analysis and ploting.\n",
    "def get_final_merge(run='desktop', location=\"Sweden\"):\n",
    "    AWS_obj = get_AWS_obj(run, location)\n",
    "    javascript_cookies = AWS_obj.javascript_cookies\n",
    "    incomplete_visits = AWS_obj.incomplete_visits\n",
    "    site_visits  = AWS_obj.site_visits\n",
    "    visits = AWS_obj.visits\n",
    "    \n",
    "    incomplete_visits.drop_duplicates(inplace=True)\n",
    "    incomplete_visits[\"complete\"] = False\n",
    "\n",
    "    # NOTE: Drop duplicates based on visit_id, host, and name. Keep the last one.\n",
    "    javascript_cookies = javascript_cookies.sort_values(by=[\"visit_id\", \"event_ordinal\"]).drop_duplicates(subset=[\"visit_id\", \"host\", \"name\"], keep=\"last\")\n",
    "\n",
    "    # NOTE: Only use cookies that were added or changed\n",
    "    javascript_cookies = javascript_cookies[javascript_cookies[\"record_type\"] == \"added-or-changed\"]\n",
    "\n",
    "    site_visits = pd.merge(site_visits, incomplete_visits, on=\"visit_id\", how=\"left\").fillna(\"True\")\n",
    "    site_visits = site_visits.astype({\"complete\": bool})\n",
    "    site_visits = pd.merge(site_visits, visits, left_on=\"site_rank\", right_on=\"visit_id\", how=\"left\", suffixes=(\"\", \"_dropme\")).drop(columns=\"visit_id_dropme\").fillna(0)\n",
    "    \n",
    "    site_visits[\"accept_clicked\"] = site_visits.apply(lambda x: abs(x[\"btn_status\"]) == 1, axis=1)\n",
    "    site_visits[\"reject_clicked\"] = site_visits.apply(lambda x: abs(x[\"btn_status\"]) == 2 or x[\"btn_set_status\"] == 1, axis=1)\n",
    "    \n",
    "    site_visits_cookies = pd.merge(site_visits, javascript_cookies, on=\"visit_id\")\n",
    "\n",
    "    site_visits_cookies[\"is_first_party\"] = site_visits_cookies.apply(lambda x: is_first_party(x[\"site_url\"], x[\"host\"], psl), axis=1)\n",
    "    \n",
    "    tracking_list = get_tracking_list(tracking_lists)\n",
    "    site_visits_cookies[\"is_tracking\"] = site_visits_cookies.apply(lambda x: is_tracking(x[\"site_url\"], x[\"host\"], psl, tracking_list), axis=1)\n",
    "    \n",
    "    df_to_cookie_script_class_names = {\n",
    "        \"necessary\": \"Functional\",\n",
    "        \"performance\": \"Analytics\",\n",
    "        \"functional\": \"Preferences\",\n",
    "        \"targeting\": \"Marketing\",\n",
    "        \"unclassified\": \"Unclassified\"\n",
    "    }\n",
    "\n",
    "    for df_name, cookie_script_name in df_to_cookie_script_class_names.items():\n",
    "        site_visits_cookies[f'is_{df_name}'] = site_visits_cookies.apply(lambda x: get_cookie_class(x[\"name\"]) == cookie_script_name, axis=1)\n",
    "\n",
    "    # Total number of cookies per mode of interaction\n",
    "    site_visits_cookies_grouped_count = site_visits_cookies.groupby([\"site_rank\", \"site_url\", \"visit_id\"]).count().rename(columns={\"name\": \"count_total\"})[\"count_total\"].reset_index()\n",
    "    site_visits_cookies_grouped_count = pd.merge(site_visits, site_visits_cookies_grouped_count, how=\"left\").fillna(value={\"count_total\": 0}).convert_dtypes().sort_values(\"site_rank\")\n",
    "\n",
    "    site_visits_cookies_grouped = site_visits_cookies.groupby([\"site_rank\", \"site_url\", \"visit_id\", \"is_first_party\"]).count().rename(columns={\"name\": \"count\"})[\"count\"].reset_index()\n",
    "    site_visits_cookies_grouped_2 = site_visits_cookies.groupby([\"site_rank\", \"site_url\", \"visit_id\", \"is_tracking\"]).count().rename(columns={\"name\": \"count_tr\"})[\"count_tr\"].reset_index()\n",
    "\n",
    "    site_visits_cookies_grouped_fp = pd.merge(site_visits, site_visits_cookies_grouped[site_visits_cookies_grouped[\"is_first_party\"]], how=\"left\").fillna(value={\"is_first_party\": True, \"count\": 0}).convert_dtypes().sort_values(\"site_rank\")\n",
    "    site_visits_cookies_grouped_tr = pd.merge(site_visits, site_visits_cookies_grouped_2[site_visits_cookies_grouped_2[\"is_tracking\"]], how=\"left\").fillna(value={\"is_tracking\": False, \"count_tr\": 0}).convert_dtypes().sort_values(\"site_rank\")\n",
    "    site_visits_cookies_grouped_tp = pd.merge(site_visits, site_visits_cookies_grouped[~site_visits_cookies_grouped[\"is_first_party\"]], how=\"left\").fillna(value={\"is_first_party\": False, \"count\": 0}).convert_dtypes().sort_values(\"site_rank\")\n",
    "    site_visits_cookies_grouped_combined = pd.merge(site_visits_cookies_grouped_fp, site_visits_cookies_grouped_tp, on=[\"visit_id\", \"site_url\", \"site_rank\", \"complete\", \"accept_clicked\", \"reject_clicked\"], suffixes=[\"_fp\", \"_tp\"])\n",
    "    site_visits_cookies_grouped_combined = pd.merge(site_visits_cookies_grouped_combined, site_visits_cookies_grouped_tr, on=[\"visit_id\", \"site_url\", \"site_rank\", \"complete\", \"accept_clicked\", \"reject_clicked\"], suffixes=[\"\", \"_tr\"])\n",
    "    site_visits_cookies_grouped_combined = pd.merge(site_visits_cookies_grouped_combined, site_visits_cookies_grouped_count, on=[\"visit_id\", \"site_url\", \"site_rank\", \"complete\", \"accept_clicked\", \"reject_clicked\"], suffixes=[\"\", \"_total\"])\n",
    "    \n",
    "    \n",
    "    for df_name in df_to_cookie_script_class_names:\n",
    "        site_visits_cookies_grouped_class = site_visits_cookies.groupby([\"site_rank\", \"site_url\", \"visit_id\", f'is_{df_name}']).count().rename(columns={\"name\": f'count_{df_name}'})[f'count_{df_name}'].reset_index()\n",
    "        site_visits_cookies_grouped_class = pd.merge(site_visits, site_visits_cookies_grouped_class[site_visits_cookies_grouped_class[f'is_{df_name}']], how=\"left\").fillna(value={f'is_{df_name}': True, f\"count_{df_name}\": 0}).convert_dtypes().sort_values(\"site_rank\")\n",
    "        site_visits_cookies_grouped_combined = pd.merge(site_visits_cookies_grouped_combined, site_visits_cookies_grouped_class, on=[\"visit_id\", \"site_url\", \"site_rank\", \"complete\", \"accept_clicked\", \"reject_clicked\"], suffixes=[\"\", f'_{df_name}'])\n",
    "\n",
    "    site_visits_cookies_grouped_combined[\"reject\"] = site_visits_cookies_grouped_combined[\"site_rank\"] >= OFFSET_REJECT\n",
    "    site_visits_cookies_grouped_combined[\"accept\"] = (site_visits_cookies_grouped_combined[\"site_rank\"] < OFFSET_REJECT) & (site_visits_cookies_grouped_combined[\"site_rank\"] >= OFFSET_ACCEPT)\n",
    "    site_visits_cookies_grouped_combined[\"interaction\"] = site_visits_cookies_grouped_combined.apply(lambda x: get_interaction_mode(x[\"accept\"], x[\"reject\"]), axis=1)\n",
    "    site_visits_cookies_grouped_combined[\"clicked\"] = site_visits_cookies_grouped_combined.apply(lambda x: get_clicked(x[\"accept_clicked\"], x[\"reject_clicked\"]), axis=1)\n",
    "    site_visits_cookies_grouped_combined[\"tr/tp\"] = site_visits_cookies_grouped_combined['count_tr']/site_visits_cookies_grouped_combined['count_tp']\n",
    "\n",
    "    class_counts = [f'count_{df_name}' for df_name in df_to_cookie_script_class_names]\n",
    "    final = site_visits_cookies_grouped_combined[[\"visit_id\", \"site_url\", \"site_rank\", \"complete\", \"banners\", \"interaction\", \"clicked\", \"count_fp\", \"count_tp\", \"count_tr\", \"count_total\", \"nc_cmp_name\", \"cmp_name\"] + class_counts]\n",
    "    \n",
    "    return final"
   ]
  },
  {
   "cell_type": "code",
   "execution_count": 115,
   "id": "5795ee57",
   "metadata": {
    "pycharm": {
     "name": "#%%\n"
    }
   },
   "outputs": [],
   "source": [
    "def groupby_url_and_interaction_mode(df, agg_func=\"mean\"):\n",
    "    temp = df.groupby([\"site_url\",\"interaction\"]).agg(agg_func).reset_index()\n",
    "    return temp\n",
    "    \n",
    "\n",
    "# this function might keep some time to be executed.\n",
    "def map_of_finals(run=\"desktop\"):\n",
    "    map = {}\n",
    "    for loc in locations:\n",
    "        map[loc] = get_final_merge(run, loc)\n",
    "    return map\n",
    "\n",
    "\n",
    "def map_of_acc_rej_intersection(finals_map):\n",
    "    map = {}\n",
    "    for loc in finals_map:\n",
    "        map[loc] = get_acc_rej_intersection(finals_map[loc])\n",
    "    return map"
   ]
  },
  {
   "cell_type": "code",
   "execution_count": 116,
   "id": "59d1f5ca",
   "metadata": {
    "pycharm": {
     "name": "#%%\n"
    }
   },
   "outputs": [],
   "source": [
    "# This function returns the dataframe containing all three categories for EU vs nonEU comparison.\n",
    "def get_EU_nonEU_acc_no():\n",
    "    EU_des = [do_both(map_des_finals[\"Sweden\"]), do_both(map_des_finals[\"Germany\"])]\n",
    "    nonEU_des = [do_both(map_des_finals[\"South Africa\"]), do_both(map_des_finals[\"India\"]), do_both(map_des_finals[\"Brazil\"]), do_both(map_des_finals[\"US East\"]), do_both(map_des_finals[\"US West\"]), do_both(map_des_finals[\"Australia\"])]\n",
    "    All_des = EU_des.copy()\n",
    "    All_des.extend(nonEU_des)\n",
    "    show_banner_germany = get_show_banner(map_des_finals[\"Germany\"])\n",
    "    show_banner_sweden = get_show_banner(map_des_finals[\"Sweden\"])\n",
    "    valid_domains = get_intersection_column([show_banner_germany, show_banner_sweden], \"site_url\")\n",
    "    \n",
    "    nonEU_merge = pd.concat(nonEU_des)\n",
    "    nonEU_merge.reset_index(inplace=True)\n",
    "    \n",
    "    EU_merge = pd.concat(EU_des)\n",
    "    EU_merge.reset_index(inplace=True)\n",
    "    \n",
    "    EU_merge_accept = EU_merge[(EU_merge.clicked==\"Accepted\")&(EU_merge.site_url.isin(valid_domains))]\n",
    "    EU_merge_accept[\"mode\"] = \"Accept EU\"\n",
    "\n",
    "    EU_merge_no = EU_merge[(EU_merge.interaction==\"No interaction\")&(EU_merge.site_url.isin(valid_domains))]\n",
    "    EU_merge_no[\"mode\"] = \"No interaction EU\"\n",
    "    \n",
    "    nonEU_merge_no = nonEU_merge[(nonEU_merge.interaction==\"No interaction\")&(nonEU_merge.site_url.isin(valid_domains))]\n",
    "    nonEU_merge_no[\"mode\"] = \"No interaction non-EU\"\n",
    "    \n",
    "    dfs = [EU_merge_accept, EU_merge_no, nonEU_merge_no]\n",
    "    tt1_concat = pd.concat(dfs)\n",
    "    tt1_concat = tt1_concat[tt1_concat.site_url.isin(valid_domains)]\n",
    "    tt1_concat.reset_index(inplace=True) \n",
    "    return tt1_concat"
   ]
  },
  {
   "cell_type": "code",
   "execution_count": 117,
   "id": "d42f4997",
   "metadata": {
    "pycharm": {
     "name": "#%%\n"
    }
   },
   "outputs": [],
   "source": [
    "def merge_site_visits_crawl_history_on_visit_id(aws_name, run_name = \"desktop\"):\n",
    "    ch = runs[run_name].AWS_map[aws_name].crawl_history\n",
    "    sv = runs[run_name].AWS_map[aws_name].site_visits\n",
    "    ch = ch[ch.command == \"InitializeCommand\"]\n",
    "    svch = ch.merge(right=sv, on = \"visit_id\")\n",
    "    svch = svch[[\"site_url\", \"site_rank\", \"dtg\"]]\n",
    "    return svch\n",
    "\n",
    "\n",
    "def calc_max_min_time_def_for_all_vps():\n",
    "    merged_svch = pd.DataFrame()\n",
    "    for aws in AWS_names:\n",
    "        svch = merge_site_visits_crawl_history_on_visit_id(aws, \"innerpages\")\n",
    "        if merged_svch.empty:\n",
    "            merged_svch = svch\n",
    "            merged_svch.rename(columns = {'dtg':'dtg_'+aws}, inplace = True)\n",
    "        else:\n",
    "            merged_svch = merged_svch.merge(right=svch[[\"site_rank\", \"dtg\"]], on = \"site_rank\")\n",
    "            merged_svch.rename(columns = {'dtg':'dtg_'+aws}, inplace = True)\n",
    "\n",
    "    df2 = merged_svch.filter(regex='dtg')\n",
    "    merged_svch[\"max\"] = df2.max(axis=1)\n",
    "    merged_svch[\"min\"] = df2.min(axis=1)\n",
    "    merged_svch[\"max_i\"] = merged_svch['max'].apply(lambda x: pd.to_datetime(x).value)\n",
    "    merged_svch[\"min_i\"] = merged_svch['min'].apply(lambda x: pd.to_datetime(x).value)\n",
    "    merged_svch[\"def\"] = (merged_svch[\"max_i\"] - merged_svch[\"min_i\"]) / 10**9\n",
    "    \n",
    "    return merged_svch"
   ]
  },
  {
   "cell_type": "code",
   "execution_count": 118,
   "id": "46e3ad69",
   "metadata": {
    "pycharm": {
     "name": "#%%\n"
    }
   },
   "outputs": [],
   "source": [
    "# this cell enables plotting of boxplot with ticks in \"symlog\" mode.\n",
    "from matplotlib.ticker import Locator\n",
    "\n",
    "\n",
    "class MinorSymLogLocator(Locator):\n",
    "    \"\"\"\n",
    "    Dynamically find minor tick positions based on the positions of\n",
    "    major ticks for a symlog scaling.\n",
    "    \"\"\"\n",
    "    def __init__(self, linthresh):\n",
    "        \"\"\"\n",
    "        Ticks will be placed between the major ticks.\n",
    "        The placement is linear for x between -linthresh and linthresh,\n",
    "        logarithmically otherwise\n",
    "        \"\"\"\n",
    "        self.linthresh = linthresh\n",
    "\n",
    "    def __call__(self):\n",
    "        'Return the locations of the ticks'\n",
    "        majorlocs = self.axis.get_majorticklocs()\n",
    "\n",
    "        # iterate through minor locs\n",
    "        minorlocs = []\n",
    "\n",
    "        # handle the lowest part\n",
    "        for i in range(1, len(majorlocs)):\n",
    "            majorstep = majorlocs[i] - majorlocs[i-1]\n",
    "            if abs(majorlocs[i-1] + majorstep/2) < self.linthresh:\n",
    "                ndivs = 10\n",
    "            else:\n",
    "                ndivs = 9\n",
    "            minorstep = majorstep / ndivs\n",
    "            locs = np.arange(majorlocs[i-1], majorlocs[i], minorstep)[1:]\n",
    "            minorlocs.extend(locs)\n",
    "\n",
    "        return self.raise_if_exceeds(np.array(minorlocs))\n",
    "\n",
    "    def tick_values(self, vmin, vmax):\n",
    "        raise NotImplementedError('Cannot get tick locations for a '\n",
    "                                  '%s type.' % type(self))"
   ]
  },
  {
   "attachments": {},
   "cell_type": "markdown",
   "id": "f9f7a4fd-f4ed-45be-b2bb-50a0cd43bd5d",
   "metadata": {
    "pycharm": {
     "name": "#%% md\n"
    },
    "tags": [],
    "toc-hr-collapsed": true
   },
   "source": [
    "### Desktop run"
   ]
  },
  {
   "attachments": {},
   "cell_type": "markdown",
   "id": "256e8447",
   "metadata": {
    "pycharm": {
     "name": "#%% md\n"
    }
   },
   "source": [
    "#### Initialization of DataFrames"
   ]
  },
  {
   "cell_type": "code",
   "execution_count": 119,
   "id": "2621347f",
   "metadata": {
    "pycharm": {
     "name": "#%%\n"
    }
   },
   "outputs": [],
   "source": [
    "map_des_finals = map_of_finals(run=\"desktop\")\n",
    "map_des_finals['US East'].to_csv(CSV_DIR+'/map_des_finals.csv')"
   ]
  },
  {
   "cell_type": "code",
   "execution_count": 120,
   "id": "c74e306e",
   "metadata": {
    "pycharm": {
     "name": "#%%\n"
    }
   },
   "outputs": [],
   "source": [
    "map_des_intersection = map_of_acc_rej_intersection(map_des_finals)\n",
    "map_des_intersection['US East'].to_csv(CSV_DIR+'/map_des_intersection.csv')"
   ]
  },
  {
   "attachments": {},
   "cell_type": "markdown",
   "id": "977350f3",
   "metadata": {},
   "source": [
    "#### Dataframe statistics"
   ]
  },
  {
   "cell_type": "code",
   "execution_count": 121,
   "id": "3cd087b7",
   "metadata": {},
   "outputs": [],
   "source": [
    "def write_list_to_csv(list, file_name=CSV_DIR+'/out.csv'):\n",
    "    with open(file_name, 'w') as f:\n",
    "        for line in list:\n",
    "            f.write(f\"{line}\\n\")"
   ]
  },
  {
   "cell_type": "code",
   "execution_count": 122,
   "id": "18ab62d1",
   "metadata": {},
   "outputs": [
    {
     "name": "stdout",
     "output_type": "stream",
     "text": [
      "Sites crawled: 255\n",
      "Positive sites: 177\n",
      "Positive rate: 0.6941176470588235\n",
      "Adjusted positive rate: 0.8119266055045872\n",
      "Negative sites {'https://hyprmx.com', 'https://ultradns.org', 'https://mailerlite.com', 'https://wish.com', 'https://nationalgeographic.org', 'https://entrust.net', 'https://chinatelecomglobal.com', 'https://sportingnews.com', 'https://treehugger.com', 'https://pcworld.com', 'https://macworld.com', 'https://byu.edu', 'https://segment.io', 'https://liveperson.net', 'https://bunq.com', 'https://ecwid.com', 'https://grserver.gr', 'https://health.com', 'https://casalemedia.com', 'https://segment.com', 'https://gulfnews.com', 'https://europa.eu', 'https://thebalance.com', 'https://mlb.com', 'https://epfl.ch', 'https://weborama.fr', 'https://2k.com', 'https://rt.com', 'https://coe.int', 'https://logitech.com', 'https://app.link', 'https://gog.com', 'https://seekingalpha.com', 'https://doubleverify.com', 'https://rightmove.co.uk', 'https://merchantlink.com', 'https://rte.ie', 'https://lifewire.com', 'https://americanbar.org', 'https://flightradar24.com', 'https://complex.com', 'https://sap.com', 'https://ebscohost.com', 'https://logi.com', 'https://thebalancecareers.com', 'https://realsimple.com', 'https://cymru.com', 'https://travelandleisure.com', 'https://thespruce.com', 'https://gamespot.com', 'https://mediatek.com', 'https://branch.io', 'https://flaticon.com', 'https://yieldmo.com', 'https://uservoice.com', 'https://verywellhealth.com', 'https://n-able.com', 'https://thomsonreuters.net', 'https://xoom.com', 'https://screenconnect.com', 'https://smugmug.com', 'https://rockstargames.com', 'https://ap.org', 'https://thoughtco.com', 'https://sanofi-synthelabo.com', 'https://bartleby.com', 'https://overleaf.com', 'https://zoom.us', 'https://bhg.com', 'https://iubenda.com', 'https://paloaltonetworks.com', 'https://verywellmind.com', 'https://liveabout.com', 'https://allrecipes.com', 'https://abc.net.au', 'https://thespruceeats.com', 'https://foodandwine.com', 'https://observer.com'}\n"
     ]
    }
   ],
   "source": [
    "site_count = {}\n",
    "for site in map_des_finals['US East'].site_url:\n",
    "    if site not in site_count:\n",
    "        site_count[site] = 0\n",
    "    site_count[site] += 1\n",
    "\n",
    "print('Sites crawled:', len(site_count))\n",
    "\n",
    "# Check for double-counting due to multiple batches\n",
    "\"\"\"\n",
    "EXPECTED_CRAWL_COUNT = 3\n",
    "print(f'Sites not crawled {EXPECTED_CRAWL_COUNT} times (due to BannerClick bug):')\n",
    "for site, count in site_count.items():\n",
    "    if count != EXPECTED_CRAWL_COUNT:\n",
    "        print(site, count)\n",
    "\"\"\"\n",
    "\n",
    "positive_sites = set()\n",
    "for site in map_des_intersection['US East'].site_url:\n",
    "    positive_sites.add(site)\n",
    "\n",
    "DOWN_SITES = 37 # 37 sites were down or did not have a cookie banner for detectedBanner.txt\n",
    "print('Positive sites:', len(positive_sites))\n",
    "print('Positive rate:', len(positive_sites) / len(site_count))\n",
    "print('Adjusted positive rate:', len(positive_sites) / (len(site_count) - DOWN_SITES)) \n",
    "\n",
    "negative_sites = set()\n",
    "for site in site_count:\n",
    "    if site not in positive_sites:\n",
    "        negative_sites.add(site)\n",
    "print('Negative sites', negative_sites)\n",
    "\n",
    "# write_list_to_csv(negative_sites)"
   ]
  },
  {
   "attachments": {},
   "cell_type": "markdown",
   "id": "5f2aaa73",
   "metadata": {},
   "source": [
    "### Discrepancy analysis"
   ]
  },
  {
   "cell_type": "code",
   "execution_count": 123,
   "id": "c7745d3e",
   "metadata": {},
   "outputs": [],
   "source": [
    "def get_cookies(site_url, run='desktop', location=\"US East\"):\n",
    "    \"\"\"\n",
    "    Creates CSV files for each of the three modes of interaction for a given site_url.\n",
    "    \"\"\"\n",
    "    AWS_obj = get_AWS_obj(run, location)\n",
    "    javascript_cookies = AWS_obj.javascript_cookies\n",
    "    incomplete_visits = AWS_obj.incomplete_visits\n",
    "    site_visits  = AWS_obj.site_visits\n",
    "    visits = AWS_obj.visits\n",
    "    \n",
    "    incomplete_visits.drop_duplicates(inplace=True)\n",
    "    incomplete_visits[\"complete\"] = False\n",
    "    \n",
    "    # NOTE: Drop duplicates based on visit_id, host, and name. Keep the last one.\n",
    "    javascript_cookies = javascript_cookies.sort_values(by=[\"visit_id\", \"event_ordinal\"]).drop_duplicates(subset=[\"visit_id\", \"host\", \"name\"], keep=\"last\")\n",
    "\n",
    "    # NOTE: Only use cookies that were added or changed\n",
    "    javascript_cookies = javascript_cookies[javascript_cookies[\"record_type\"] == \"added-or-changed\"]\n",
    "\n",
    "    site_visits = pd.merge(site_visits, incomplete_visits, on=\"visit_id\", how=\"left\").fillna(\"True\")\n",
    "    site_visits = site_visits.astype({\"complete\": bool})\n",
    "    site_visits = pd.merge(site_visits, visits, left_on=\"site_rank\", right_on=\"visit_id\", how=\"left\", suffixes=(\"\", \"_dropme\")).drop(columns=\"visit_id_dropme\").fillna(0)\n",
    "    \n",
    "    site_visits[\"accept_clicked\"] = site_visits.apply(lambda x: abs(x[\"btn_status\"]) == 1, axis=1)\n",
    "    site_visits[\"reject_clicked\"] = site_visits.apply(lambda x: abs(x[\"btn_status\"]) == 2 or x[\"btn_set_status\"] == 1, axis=1)\n",
    "    \n",
    "    site_visits_cookies = pd.merge(site_visits, javascript_cookies, on=\"visit_id\")\n",
    "\n",
    "    site_visits_cookies[\"is_first_party\"] = site_visits_cookies.apply(lambda x: is_first_party(x[\"site_url\"], x[\"host\"], psl), axis=1)\n",
    "    \n",
    "    tracking_list = get_tracking_list(tracking_lists)\n",
    "    site_visits_cookies[\"is_tracking\"] = site_visits_cookies.apply(lambda x: is_tracking(x[\"site_url\"], x[\"host\"], psl, tracking_list), axis=1)\n",
    "\n",
    "    cookies = site_visits_cookies.loc[site_visits_cookies[\"site_url\"] == site_url]\n",
    "\n",
    "    accept = cookies[cookies[\"accept_clicked\"] == True]\n",
    "    reject = cookies[cookies[\"reject_clicked\"] == True]\n",
    "    no_interaction = cookies[(cookies[\"accept_clicked\"] == False) & (cookies[\"reject_clicked\"] == False)]\n",
    "\n",
    "    domain = get_domain(site_url)\n",
    "    accept.to_csv(CSV_DIR+f\"/{domain}_accept.csv\")\n",
    "    reject.to_csv(CSV_DIR+f\"/{domain}_reject.csv\")\n",
    "    no_interaction.to_csv(CSV_DIR+f\"/{domain}_no_interaction.csv\")\n",
    "\n",
    "get_cookies(\"https://bmj.com\")"
   ]
  },
  {
   "attachments": {},
   "cell_type": "markdown",
   "id": "7bdd5cdd",
   "metadata": {},
   "source": [
    "### CDF"
   ]
  },
  {
   "attachments": {},
   "cell_type": "markdown",
   "id": "82f0b2f2",
   "metadata": {},
   "source": [
    "Recreating Figure 3 in Helen’s paper"
   ]
  },
  {
   "cell_type": "code",
   "execution_count": 124,
   "id": "66eb6dba",
   "metadata": {},
   "outputs": [],
   "source": [
    "def all_cookies(row):\n",
    "    return row.count_total\n",
    "def get_ratios(over, under, count=all_cookies, df=map_des_intersection['US East'], positive_sites=positive_sites):\n",
    "    \"\"\"\n",
    "    Returns a dictionary that maps a site_url to its ratio of `over`/`under`.\n",
    "\n",
    "    `over` and `under` can be 'Accept', 'Reject', or 'No interaction'.\n",
    "    `count` should be a function that takes in a row of the dataframe and returns the desired count for the ratio. By default, `count` returns the total number of cookies.\n",
    "    \"\"\"\n",
    "    ratios = {}\n",
    "    for site_url in positive_sites:\n",
    "        site_df = df.loc[df['site_url'] == site_url]\n",
    "\n",
    "        if over in site_df.interaction.values and under in site_df.interaction.values:\n",
    "            over_row = site_df.loc[site_df['interaction'] == over]\n",
    "            over_cookie_count = count(over_row)\n",
    "            over_cookie_count = over_cookie_count.values[0]\n",
    "\n",
    "            under_row = site_df.loc[site_df['interaction'] == under]\n",
    "            under_cookie_count = count(under_row)\n",
    "            under_cookie_count = under_cookie_count.values[0]\n",
    "\n",
    "            ratios[site_url] = over_cookie_count / under_cookie_count\n",
    "    \n",
    "    return ratios\n",
    "\n",
    "\"\"\"\n",
    "Returns a dataframe which can be plotted as a CDF graph (see plot below).\n",
    "`list` should be a list of values\n",
    "\"\"\"\n",
    "def get_cdf(list):\n",
    "    s = pd.Series(list, name = 'value')\n",
    "    df = pd.DataFrame(s)\n",
    "\n",
    "    # Frequency\n",
    "    stats_df = df \\\n",
    "    .groupby('value') \\\n",
    "    ['value'] \\\n",
    "    .agg('count') \\\n",
    "    .pipe(pd.DataFrame) \\\n",
    "    .rename(columns = {'value': 'frequency'})\n",
    "\n",
    "    # PDF\n",
    "    stats_df['pdf'] = stats_df['frequency'] / sum(stats_df['frequency'])\n",
    "\n",
    "    # CDF\n",
    "    stats_df['cdf'] = stats_df['pdf'].cumsum()\n",
    "    stats_df = stats_df.reset_index()\n",
    "\n",
    "    return stats_df\n"
   ]
  },
  {
   "cell_type": "code",
   "execution_count": 125,
   "id": "baa26bc1",
   "metadata": {},
   "outputs": [
    {
     "data": {
      "image/png": "[encoded data removed]",
      "text/plain": [
       "<Figure size 432x288 with 1 Axes>"
      ]
     },
     "metadata": {
      "needs_background": "light"
     },
     "output_type": "display_data"
    }
   ],
   "source": [
    "import matplotlib as mpl\n",
    "mpl.rcParams.update(mpl.rcParamsDefault)\n",
    "\n",
    "%matplotlib inline\n",
    "\n",
    "rejected_over_no_interaction = get_ratios('Reject', 'No interaction')\n",
    "accepted_over_no_interaction = get_ratios('Accept', 'No interaction')\n",
    "\n",
    "rejected_over_no_interaction_stats_df = get_cdf(rejected_over_no_interaction.values())\n",
    "accepted_over_no_interaction_stats_df = get_cdf(accepted_over_no_interaction.values())\n",
    "\n",
    "plt.plot(rejected_over_no_interaction_stats_df['value'], rejected_over_no_interaction_stats_df['cdf'], label='Rejected / No Interaction')\n",
    "plt.plot(accepted_over_no_interaction_stats_df['value'], accepted_over_no_interaction_stats_df['cdf'], label='Accepted / No Interaction')\n",
    "\n",
    "plt.axis([0.4, 2, 0, 1])\n",
    "\n",
    "plt.title('detectedBanner.txt CDF')\n",
    "plt.xlabel('Ratio')\n",
    "plt.ylabel('CDF')\n",
    "\n",
    "plt.legend(loc='upper left')\n",
    "\n",
    "plt.grid(visible = True)\n",
    "\n",
    "plt.savefig(FIG_DIR+'/CDF_rejected_accepted_over_no_interaction.png', dpi=600, facecolor='white')\n",
    "plt.show()\n"
   ]
  },
  {
   "cell_type": "code",
   "execution_count": 126,
   "id": "6462c958",
   "metadata": {},
   "outputs": [
    {
     "data": {
      "image/png": "[encoded data removed]",
      "text/plain": [
       "<Figure size 432x288 with 1 Axes>"
      ]
     },
     "metadata": {
      "needs_background": "light"
     },
     "output_type": "display_data"
    }
   ],
   "source": [
    "import matplotlib as mpl\n",
    "mpl.rcParams.update(mpl.rcParamsDefault)\n",
    "\n",
    "%matplotlib inline\n",
    "\n",
    "rejected_over_accepted = get_ratios('Reject', 'Accept')\n",
    "rejected_over_accepted_stats_df = get_cdf(rejected_over_accepted.values())\n",
    "\n",
    "plt.plot(rejected_over_accepted_stats_df['value'], rejected_over_accepted_stats_df['cdf'], label='Rejected / Accepted')\n",
    "\n",
    "plt.axis([0, 1.4, 0, 1])\n",
    "\n",
    "plt.title('detectedBanner.txt CDF')\n",
    "plt.xlabel('Ratio')\n",
    "plt.ylabel('CDF')\n",
    "\n",
    "plt.legend(loc='upper left')\n",
    "\n",
    "plt.grid(visible = True)\n",
    "\n",
    "plt.savefig(FIG_DIR+'/CDF_rejected_over_accepted.png', dpi=600, facecolor='white')\n",
    "plt.show()\n"
   ]
  },
  {
   "attachments": {},
   "cell_type": "markdown",
   "id": "294a5f33",
   "metadata": {},
   "source": [
    "### Sites with more rejected than accepted cookies"
   ]
  },
  {
   "cell_type": "code",
   "execution_count": 127,
   "id": "aefc061c",
   "metadata": {},
   "outputs": [],
   "source": [
    "# more_rejected_than_accepted = {}\n",
    "# for site_url, ratio in rejected_over_accepted.items():\n",
    "#     if ratio > 1:\n",
    "#         more_rejected_than_accepted[site_url] = ratio\n",
    "\n",
    "# with open(CSV_DIR+'/more_rejected_than_accepted.csv', 'w') as csv_file:  \n",
    "#     writer = csv.writer(csv_file)\n",
    "#     writer.writerow([\"site_url\", \"rejected/accepted\"])\n",
    "#     for key, value in more_rejected_than_accepted.items():\n",
    "#        writer.writerow([key, value])\n",
    "\n",
    "# more_rejected_than_no_interaction = {}\n",
    "# for site_url, ratio in rejected_over_no_interaction.items():\n",
    "#     if ratio > 1:\n",
    "#         more_rejected_than_no_interaction[site_url] = ratio\n",
    "\n",
    "# with open(CSV_DIR+'/more_rejected_than_no_interaction.csv', 'w') as csv_file:  \n",
    "#     writer = csv.writer(csv_file)\n",
    "#     writer.writerow([\"site_url\", \"rejected/no_interaction\"])\n",
    "#     for key, value in more_rejected_than_no_interaction.items():\n",
    "#        writer.writerow([key, value])"
   ]
  },
  {
   "attachments": {},
   "cell_type": "markdown",
   "id": "044865c6",
   "metadata": {},
   "source": [
    "### Plots by Cookie Type"
   ]
  },
  {
   "attachments": {},
   "cell_type": "markdown",
   "id": "122dfc10",
   "metadata": {},
   "source": [
    "#### CDF Reject / No interaction"
   ]
  },
  {
   "cell_type": "code",
   "execution_count": 128,
   "id": "320434bd",
   "metadata": {},
   "outputs": [
    {
     "data": {
      "image/png": "[encoded data removed]",
      "text/plain": [
       "<Figure size 432x288 with 1 Axes>"
      ]
     },
     "metadata": {
      "needs_background": "light"
     },
     "output_type": "display_data"
    }
   ],
   "source": [
    "import matplotlib as mpl\n",
    "mpl.rcParams.update(mpl.rcParamsDefault)\n",
    "\n",
    "%matplotlib inline\n",
    "\n",
    "df_label_to_plot_label = {\n",
    "    \"count_necessary\": \"Necessary\",\n",
    "    \"count_performance\": \"Performance\",\n",
    "    \"count_functional\": \"Functional\",\n",
    "    \"count_targeting\": \"Targeting\",\n",
    "    \"count_unclassified\": \"Unclassified\"\n",
    "}\n",
    "\n",
    "dfs = {}\n",
    "for df_label, plot_label in df_label_to_plot_label.items():\n",
    "    ratios = get_ratios('Reject', 'No interaction', lambda row: row[df_label])\n",
    "    stats_df = get_cdf(ratios.values())\n",
    "    dfs[plot_label] = stats_df\n",
    "\n",
    "for plot_label, stats_df in dfs.items():\n",
    "    plt.plot(stats_df['value'], stats_df['cdf'], label=plot_label)\n",
    "\n",
    "plt.axis([0.4, 2, 0, 1])\n",
    "\n",
    "plt.title('detectedBanner.txt CDF by Class')\n",
    "plt.xlabel('Reject / No interaction')\n",
    "plt.ylabel('CDF')\n",
    "\n",
    "plt.legend(loc='upper left')\n",
    "\n",
    "plt.grid(visible = True)\n",
    "\n",
    "plt.savefig(FIG_DIR+'/CDF_class_reject_no_interaction.png', dpi=600, facecolor='white')\n",
    "plt.show()"
   ]
  },
  {
   "attachments": {},
   "cell_type": "markdown",
   "id": "6dc2e07f",
   "metadata": {},
   "source": [
    "#### CDF Accept / No interaction"
   ]
  },
  {
   "cell_type": "code",
   "execution_count": 129,
   "id": "1b5b753d",
   "metadata": {},
   "outputs": [
    {
     "data": {
      "image/png": "[encoded data removed]",
      "text/plain": [
       "<Figure size 432x288 with 1 Axes>"
      ]
     },
     "metadata": {
      "needs_background": "light"
     },
     "output_type": "display_data"
    }
   ],
   "source": [
    "import matplotlib as mpl\n",
    "mpl.rcParams.update(mpl.rcParamsDefault)\n",
    "\n",
    "%matplotlib inline\n",
    "\n",
    "df_label_to_plot_label = {\n",
    "    \"count_necessary\": \"Functional\",\n",
    "    \"count_performance\": \"Analytics\",\n",
    "    \"count_functional\": \"Preferences\",\n",
    "    \"count_targeting\": \"Marketing\",\n",
    "    \"count_unclassified\": \"Unclassified\"\n",
    "    }\n",
    "\n",
    "dfs = {}\n",
    "for df_label, plot_label in df_label_to_plot_label.items():\n",
    "    ratios = get_ratios('Accept', 'No interaction', lambda row: row[df_label])\n",
    "    stats_df = get_cdf(ratios.values())\n",
    "    dfs[plot_label] = stats_df\n",
    "\n",
    "for plot_label, stats_df in dfs.items():\n",
    "    plt.plot(stats_df['value'], stats_df['cdf'], label=plot_label)\n",
    "\n",
    "plt.axis([0.4, 2, 0, 1])\n",
    "\n",
    "plt.title('detectedBanner.txt CDF by Class')\n",
    "plt.xlabel('Accept / No interaction')\n",
    "plt.ylabel('CDF')\n",
    "\n",
    "plt.legend(loc='upper left')\n",
    "\n",
    "plt.grid(visible = True)\n",
    "\n",
    "plt.savefig(FIG_DIR+'/CDF_class_accept_no_interaction.png', dpi=600, facecolor='white')\n",
    "plt.show()"
   ]
  },
  {
   "attachments": {},
   "cell_type": "markdown",
   "id": "9e505c01",
   "metadata": {},
   "source": [
    "#### Boxplot Colorized by the 5 Cookie Types"
   ]
  },
  {
   "attachments": {},
   "cell_type": "markdown",
   "id": "01e4b1f6",
   "metadata": {},
   "source": [
    "Recreating Figure 4 from Helen's paper"
   ]
  },
  {
   "cell_type": "code",
   "execution_count": 136,
   "id": "7af2574a",
   "metadata": {},
   "outputs": [],
   "source": [
    "# plot boxplot for distribution of 5 different cookie types (strictly necessary, performance, functional, targeting, unclassified) for three different modes of interactions.\n",
    "def plot_boxplot_for_cookie_type(df):\n",
    "    f, axes = plt.subplots(1, 5, figsize=(double_col_width, single_col_width))\n",
    "\n",
    "    colors = ['#78C850', '#F08030', '#6890F0','#F8D030', '#F85888', '#705898', '#B42C63','#EC5B49']\n",
    "\n",
    "    bp = sns.boxplot(x=\"clicked\", y=\"count_necessary\", data=df, palette=colors, showfliers=False, saturation=0.65, ax = axes[0], orient=\"v\")\n",
    "    axes[0].set(ylabel=\"Number of cookies\", xlabel=\"\")\n",
    "    axes[0].set(yscale=\"linear\")\n",
    "    axes[0].set(ylim=(0,10))\n",
    "    axes[0].set(title=\"Necessary\")\n",
    "    # axes[0].set(xticklabels(rotation=30, ha=\"right\"))\n",
    "    xtl = axes[0].get_xticklabels()\n",
    "    yaxis = bp.yaxis\n",
    "    axes[0].set_xticklabels(labels=xtl,rotation=70)\n",
    "    axes[0].tick_params(axis='y',which='both',left=True)\n",
    "\n",
    "    bp = sns.boxplot(x=\"clicked\", y=\"count_performance\", data=df, palette=colors, showfliers=False, saturation=0.65, ax = axes[1], orient=\"v\")\n",
    "    axes[1].set(ylabel=\"Number of cookies\",xlabel=\"\")\n",
    "    axes[1].set(yscale=\"linear\")\n",
    "    axes[1].set(ylim=(0,10))\n",
    "    axes[1].set(title=\"Performance\")\n",
    "    xtl = axes[0].get_xticklabels()\n",
    "    yaxis = bp.yaxis\n",
    "    axes[1].set_xticklabels(labels=xtl,rotation=70)\n",
    "    axes[1].tick_params(axis='y',which='both',left=True)\n",
    "\n",
    "    bp = sns.boxplot(x=\"clicked\", y=\"count_functional\", data=df, palette=colors, showfliers=False, saturation=0.65, ax = axes[2], orient=\"v\")\n",
    "    axes[2].set(ylabel=\"Number of cookies\",xlabel=\"\")\n",
    "    axes[2].set(yscale=\"linear\")\n",
    "    axes[2].set(ylim=(0,10))\n",
    "    axes[2].set(title=\"Functional\")\n",
    "    xtl = axes[0].get_xticklabels()\n",
    "    yaxis = bp.yaxis\n",
    "    axes[2].set_xticklabels(labels=xtl,rotation=70)\n",
    "    axes[2].tick_params(axis='y',which='both',left=True)\n",
    "\n",
    "    bp = sns.boxplot(x=\"clicked\", y=\"count_targeting\", data=df, palette=colors, showfliers=False, saturation=0.65, ax = axes[3], orient=\"v\")\n",
    "    axes[3].set(ylabel=\"Number of cookies\",xlabel=\"\")\n",
    "    axes[3].set(yscale=\"linear\")\n",
    "    axes[3].set(ylim=(0,20))\n",
    "    axes[3].set(title=\"Targeting\") # FIXME: increase y axis limit to view\n",
    "    xtl = axes[0].get_xticklabels()\n",
    "    yaxis = bp.yaxis\n",
    "    axes[3].set_xticklabels(labels=xtl,rotation=70)\n",
    "    axes[3].tick_params(axis='y',which='both',left=True)\n",
    "\n",
    "    bp = sns.boxplot(x=\"clicked\", y=\"count_unclassified\", data=df, palette=colors, showfliers=False, saturation=0.65, ax = axes[4], orient=\"v\")\n",
    "    axes[4].set(ylabel=\"Number of cookies\",xlabel=\"\")\n",
    "    axes[4].set(yscale=\"symlog\")\n",
    "    axes[4].set(ylim=(0,10**2))\n",
    "    axes[4].set(title=\"Unclassified\")\n",
    "    xtl = axes[0].get_xticklabels()\n",
    "    yaxis = bp.yaxis\n",
    "    yaxis.set_minor_locator(MinorSymLogLocator(1e-1))\n",
    "    axes[4].set_xticklabels(labels=xtl,rotation=70)\n",
    "    axes[4].tick_params(axis='y',which='both',left=True)\n",
    "\n",
    "    # plt.ylim( (0,10**2) )\n",
    "    plt.subplots_adjust(wspace=1, hspace=1)\n",
    "    plt.figure(figsize=(20, 10)) # width, height (in inches)\n",
    "    plt.rc('xtick', labelsize=8)\n",
    "    # plt.show()\n",
    "\n",
    "    f.savefig(FIG_DIR+'/boxplot_class.png', dpi=600, facecolor='white', bbox_inches='tight')\n",
    "    # f.savefig(FIG_DIR+'/boxplot_class.pdf', bbox_inches='tight')\n"
   ]
  },
  {
   "cell_type": "code",
   "execution_count": 137,
   "id": "8d1d0600",
   "metadata": {},
   "outputs": [
    {
     "data": {
      "image/png": "[encoded data removed]",
      "text/plain": [
       "<Figure size 506.16x241.2 with 5 Axes>"
      ]
     },
     "metadata": {
      "needs_background": "light"
     },
     "output_type": "display_data"
    },
    {
     "data": {
      "text/plain": [
       "<Figure size 1440x720 with 0 Axes>"
      ]
     },
     "metadata": {},
     "output_type": "display_data"
    }
   ],
   "source": [
    "import matplotlib as mpl\n",
    "mpl.rcParams.update(mpl.rcParamsDefault)\n",
    "\n",
    "%matplotlib inline\n",
    "\n",
    "plot_boxplot_for_cookie_type(map_des_intersection['US East'])"
   ]
  },
  {
   "cell_type": "code",
   "execution_count": 133,
   "id": "2685d751",
   "metadata": {
    "pycharm": {
     "name": "#%%\n"
    }
   },
   "outputs": [
    {
     "ename": "KeyError",
     "evalue": "'Germany'",
     "output_type": "error",
     "traceback": [
      "\u001b[0;31m---------------------------------------------------------------------------\u001b[0m",
      "\u001b[0;31mKeyError\u001b[0m                                  Traceback (most recent call last)",
      "\u001b[1;32m/home/kw336/dataverse_files/reproducibility/opencookieDB_analysis.ipynb Cell 59\u001b[0m in \u001b[0;36m<cell line: 1>\u001b[0;34m()\u001b[0m\n\u001b[0;32m----> <a href='vscode-notebook-cell://ssh-remote%2Bvcm-34053.vm.duke.edu/home/kw336/dataverse_files/reproducibility/opencookieDB_analysis.ipynb#Y112sdnNjb2RlLXJlbW90ZQ%3D%3D?line=0'>1</a>\u001b[0m EU_des \u001b[39m=\u001b[39m [map_des_finals[loc] \u001b[39mfor\u001b[39;00m loc \u001b[39min\u001b[39;00m EU_locs]\n\u001b[1;32m      <a href='vscode-notebook-cell://ssh-remote%2Bvcm-34053.vm.duke.edu/home/kw336/dataverse_files/reproducibility/opencookieDB_analysis.ipynb#Y112sdnNjb2RlLXJlbW90ZQ%3D%3D?line=1'>2</a>\u001b[0m nonEU_des \u001b[39m=\u001b[39m [map_des_finals[loc] \u001b[39mfor\u001b[39;00m loc \u001b[39min\u001b[39;00m nonEU_locs]\n",
      "\u001b[1;32m/home/kw336/dataverse_files/reproducibility/opencookieDB_analysis.ipynb Cell 59\u001b[0m in \u001b[0;36m<listcomp>\u001b[0;34m(.0)\u001b[0m\n\u001b[0;32m----> <a href='vscode-notebook-cell://ssh-remote%2Bvcm-34053.vm.duke.edu/home/kw336/dataverse_files/reproducibility/opencookieDB_analysis.ipynb#Y112sdnNjb2RlLXJlbW90ZQ%3D%3D?line=0'>1</a>\u001b[0m EU_des \u001b[39m=\u001b[39m [map_des_finals[loc] \u001b[39mfor\u001b[39;00m loc \u001b[39min\u001b[39;00m EU_locs]\n\u001b[1;32m      <a href='vscode-notebook-cell://ssh-remote%2Bvcm-34053.vm.duke.edu/home/kw336/dataverse_files/reproducibility/opencookieDB_analysis.ipynb#Y112sdnNjb2RlLXJlbW90ZQ%3D%3D?line=1'>2</a>\u001b[0m nonEU_des \u001b[39m=\u001b[39m [map_des_finals[loc] \u001b[39mfor\u001b[39;00m loc \u001b[39min\u001b[39;00m nonEU_locs]\n",
      "\u001b[0;31mKeyError\u001b[0m: 'Germany'"
     ]
    }
   ],
   "source": [
    "EU_des = [map_des_finals[loc] for loc in EU_locs]\n",
    "nonEU_des = [map_des_finals[loc] for loc in nonEU_locs]"
   ]
  },
  {
   "cell_type": "code",
   "execution_count": 134,
   "id": "25b97097",
   "metadata": {
    "pycharm": {
     "name": "#%%\n"
    }
   },
   "outputs": [
    {
     "ename": "NameError",
     "evalue": "name 'EU_des' is not defined",
     "output_type": "error",
     "traceback": [
      "\u001b[0;31m---------------------------------------------------------------------------\u001b[0m",
      "\u001b[0;31mNameError\u001b[0m                                 Traceback (most recent call last)",
      "\u001b[1;32m/home/kw336/dataverse_files/reproducibility/opencookieDB_analysis.ipynb Cell 60\u001b[0m in \u001b[0;36m<cell line: 1>\u001b[0;34m()\u001b[0m\n\u001b[0;32m----> <a href='vscode-notebook-cell://ssh-remote%2Bvcm-34053.vm.duke.edu/home/kw336/dataverse_files/reproducibility/opencookieDB_analysis.ipynb#Y113sdnNjb2RlLXJlbW90ZQ%3D%3D?line=0'>1</a>\u001b[0m all_final_des \u001b[39m=\u001b[39m EU_des \u001b[39m+\u001b[39m nonEU_des\n",
      "\u001b[0;31mNameError\u001b[0m: name 'EU_des' is not defined"
     ]
    }
   ],
   "source": [
    "all_final_des = EU_des + nonEU_des"
   ]
  },
  {
   "attachments": {},
   "cell_type": "markdown",
   "id": "95033b20",
   "metadata": {
    "pycharm": {
     "name": "#%% md\n"
    },
    "tags": [],
    "toc-hr-collapsed": true
   },
   "source": [
    "### Desktop vs Mobile"
   ]
  },
  {
   "attachments": {},
   "cell_type": "markdown",
   "id": "6158bd1c",
   "metadata": {
    "pycharm": {
     "name": "#%% md\n"
    }
   },
   "source": [
    "#### Utility Functions"
   ]
  },
  {
   "cell_type": "code",
   "execution_count": null,
   "id": "85484d39",
   "metadata": {
    "pycharm": {
     "name": "#%%\n"
    }
   },
   "outputs": [],
   "source": [
    "def merge_des_mob(des, mob):\n",
    "    return pd.merge(des, mob, on=[\"site_url\",\"interaction\"],how=\"inner\", suffixes=[\"_d\",\"_m\"])\n",
    "\n",
    "def add_diff_and_loc(df, first, second, loc):\n",
    "    df[\"tr_des_mob_dif\"] = df.apply(lambda x: x[first]-x[second], axis=1)\n",
    "    df[\"loc\"] = loc\n"
   ]
  },
  {
   "cell_type": "code",
   "execution_count": null,
   "id": "fad5c4c7",
   "metadata": {
    "pycharm": {
     "name": "#%%\n"
    }
   },
   "outputs": [],
   "source": [
    "def get_complete_df_for_des_mob():\n",
    "    pd_list = []\n",
    "    for loc in locations:\n",
    "        temp_des = groupby_url_and_interaction_mode(map_des_finals[loc])\n",
    "        temp_mob = groupby_url_and_interaction_mode(map_mob_finals[loc])\n",
    "        \n",
    "        temp_merged = pd.merge(temp_des, temp_mob, on=[\"site_url\",\"interaction\"],how=\"inner\", suffixes=[\"_d\",\"_m\"])\n",
    "        temp_merged[\"tr_des_mob_dif\"] = temp_merged.apply(lambda x: x[\"count_tr_d\"]-x[\"count_tr_m\"], axis=1)\n",
    "        temp_merged[\"tp_des_mob_dif\"] = temp_merged.apply(lambda x: x[\"count_tp_d\"]-x[\"count_tp_m\"], axis=1)\n",
    "        temp_merged[\"loc\"] = loc\n",
    "        \n",
    "        pd_list.append(temp_merged)\n",
    "    \n",
    "    return pd.concat(pd_list)"
   ]
  },
  {
   "attachments": {},
   "cell_type": "markdown",
   "id": "7ad05490",
   "metadata": {
    "pycharm": {
     "name": "#%% md\n"
    }
   },
   "source": [
    "#### Initialization of DataFrames"
   ]
  },
  {
   "cell_type": "code",
   "execution_count": null,
   "id": "69eeb9b1",
   "metadata": {
    "pycharm": {
     "name": "#%%\n"
    }
   },
   "outputs": [
    {
     "ename": "KeyError",
     "evalue": "'mobile'",
     "output_type": "error",
     "traceback": [
      "\u001b[0;31m---------------------------------------------------------------------------\u001b[0m",
      "\u001b[0;31mKeyError\u001b[0m                                  Traceback (most recent call last)",
      "\u001b[1;32m/home/kw336/dataverse_files/reproducibility/opencookieDB_analysis.ipynb Cell 66\u001b[0m in \u001b[0;36m<cell line: 1>\u001b[0;34m()\u001b[0m\n\u001b[0;32m----> <a href='vscode-notebook-cell://ssh-remote%2Bvcm-34053.vm.duke.edu/home/kw336/dataverse_files/reproducibility/opencookieDB_analysis.ipynb#Y122sdnNjb2RlLXJlbW90ZQ%3D%3D?line=0'>1</a>\u001b[0m map_mob_finals \u001b[39m=\u001b[39m map_of_finals(run\u001b[39m=\u001b[39;49m\u001b[39m\"\u001b[39;49m\u001b[39mmobile\u001b[39;49m\u001b[39m\"\u001b[39;49m)\n",
      "\u001b[1;32m/home/kw336/dataverse_files/reproducibility/opencookieDB_analysis.ipynb Cell 66\u001b[0m in \u001b[0;36mmap_of_finals\u001b[0;34m(run)\u001b[0m\n\u001b[1;32m      <a href='vscode-notebook-cell://ssh-remote%2Bvcm-34053.vm.duke.edu/home/kw336/dataverse_files/reproducibility/opencookieDB_analysis.ipynb#Y122sdnNjb2RlLXJlbW90ZQ%3D%3D?line=7'>8</a>\u001b[0m \u001b[39mmap\u001b[39m \u001b[39m=\u001b[39m {}\n\u001b[1;32m      <a href='vscode-notebook-cell://ssh-remote%2Bvcm-34053.vm.duke.edu/home/kw336/dataverse_files/reproducibility/opencookieDB_analysis.ipynb#Y122sdnNjb2RlLXJlbW90ZQ%3D%3D?line=8'>9</a>\u001b[0m \u001b[39mfor\u001b[39;00m loc \u001b[39min\u001b[39;00m locations:\n\u001b[0;32m---> <a href='vscode-notebook-cell://ssh-remote%2Bvcm-34053.vm.duke.edu/home/kw336/dataverse_files/reproducibility/opencookieDB_analysis.ipynb#Y122sdnNjb2RlLXJlbW90ZQ%3D%3D?line=9'>10</a>\u001b[0m     \u001b[39mmap\u001b[39m[loc] \u001b[39m=\u001b[39m get_final_merge(run, loc)\n\u001b[1;32m     <a href='vscode-notebook-cell://ssh-remote%2Bvcm-34053.vm.duke.edu/home/kw336/dataverse_files/reproducibility/opencookieDB_analysis.ipynb#Y122sdnNjb2RlLXJlbW90ZQ%3D%3D?line=10'>11</a>\u001b[0m \u001b[39mreturn\u001b[39;00m \u001b[39mmap\u001b[39m\n",
      "\u001b[1;32m/home/kw336/dataverse_files/reproducibility/opencookieDB_analysis.ipynb Cell 66\u001b[0m in \u001b[0;36mget_final_merge\u001b[0;34m(run, location)\u001b[0m\n\u001b[1;32m      <a href='vscode-notebook-cell://ssh-remote%2Bvcm-34053.vm.duke.edu/home/kw336/dataverse_files/reproducibility/opencookieDB_analysis.ipynb#Y122sdnNjb2RlLXJlbW90ZQ%3D%3D?line=1'>2</a>\u001b[0m \u001b[39mdef\u001b[39;00m \u001b[39mget_final_merge\u001b[39m(run\u001b[39m=\u001b[39m\u001b[39m'\u001b[39m\u001b[39mdesktop\u001b[39m\u001b[39m'\u001b[39m, location\u001b[39m=\u001b[39m\u001b[39m\"\u001b[39m\u001b[39mSweden\u001b[39m\u001b[39m\"\u001b[39m):\n\u001b[0;32m----> <a href='vscode-notebook-cell://ssh-remote%2Bvcm-34053.vm.duke.edu/home/kw336/dataverse_files/reproducibility/opencookieDB_analysis.ipynb#Y122sdnNjb2RlLXJlbW90ZQ%3D%3D?line=2'>3</a>\u001b[0m     AWS_obj \u001b[39m=\u001b[39m get_AWS_obj(run, location)\n\u001b[1;32m      <a href='vscode-notebook-cell://ssh-remote%2Bvcm-34053.vm.duke.edu/home/kw336/dataverse_files/reproducibility/opencookieDB_analysis.ipynb#Y122sdnNjb2RlLXJlbW90ZQ%3D%3D?line=3'>4</a>\u001b[0m     javascript_cookies \u001b[39m=\u001b[39m AWS_obj\u001b[39m.\u001b[39mjavascript_cookies\n\u001b[1;32m      <a href='vscode-notebook-cell://ssh-remote%2Bvcm-34053.vm.duke.edu/home/kw336/dataverse_files/reproducibility/opencookieDB_analysis.ipynb#Y122sdnNjb2RlLXJlbW90ZQ%3D%3D?line=4'>5</a>\u001b[0m     incomplete_visits \u001b[39m=\u001b[39m AWS_obj\u001b[39m.\u001b[39mincomplete_visits\n",
      "\u001b[1;32m/home/kw336/dataverse_files/reproducibility/opencookieDB_analysis.ipynb Cell 66\u001b[0m in \u001b[0;36mget_AWS_obj\u001b[0;34m(run, location)\u001b[0m\n\u001b[1;32m     <a href='vscode-notebook-cell://ssh-remote%2Bvcm-34053.vm.duke.edu/home/kw336/dataverse_files/reproducibility/opencookieDB_analysis.ipynb#Y122sdnNjb2RlLXJlbW90ZQ%3D%3D?line=70'>71</a>\u001b[0m \u001b[39mdef\u001b[39;00m \u001b[39mget_AWS_obj\u001b[39m(run, location):\n\u001b[0;32m---> <a href='vscode-notebook-cell://ssh-remote%2Bvcm-34053.vm.duke.edu/home/kw336/dataverse_files/reproducibility/opencookieDB_analysis.ipynb#Y122sdnNjb2RlLXJlbW90ZQ%3D%3D?line=71'>72</a>\u001b[0m     \u001b[39mreturn\u001b[39;00m runs[run]\u001b[39m.\u001b[39mAWS_map[loc_to_AWS[location]]\n",
      "\u001b[0;31mKeyError\u001b[0m: 'mobile'"
     ]
    }
   ],
   "source": [
    "map_mob_finals = map_of_finals(run=\"mobile\")"
   ]
  },
  {
   "cell_type": "code",
   "execution_count": null,
   "id": "edb4379c",
   "metadata": {
    "pycharm": {
     "name": "#%%\n"
    }
   },
   "outputs": [],
   "source": [
    "merged_des_mob = get_complete_df_for_des_mob()"
   ]
  },
  {
   "attachments": {},
   "cell_type": "markdown",
   "id": "521954e7",
   "metadata": {
    "pycharm": {
     "name": "#%% md\n"
    },
    "toc-hr-collapsed": true
   },
   "source": [
    "### Inner vs Landing Pages"
   ]
  },
  {
   "attachments": {},
   "cell_type": "markdown",
   "id": "b951d03e",
   "metadata": {
    "pycharm": {
     "name": "#%% md\n"
    }
   },
   "source": [
    "#### Utility Functions"
   ]
  },
  {
   "cell_type": "code",
   "execution_count": null,
   "id": "7c49c777",
   "metadata": {
    "pycharm": {
     "name": "#%%\n"
    }
   },
   "outputs": [],
   "source": [
    "#This function plots the percentage of differences for inner vs. landing page for each VP and for All together.\n",
    "def print_inner_landing_dif_percentage(df):\n",
    "    temp = df[df.interaction==\"No interaction\"]\n",
    "    temp[\"more_landing_tp\"] = temp['tp_in_land_dif'] < 0\n",
    "    temp[\"more_inner_tp\"] = temp['tp_in_land_dif'] > 0\n",
    "    temp[\"more_landing_tr\"] = temp['tr_in_land_dif'] < 0\n",
    "    temp[\"more_inner_tr\"] = temp['tr_in_land_dif'] > 0\n",
    "    temp[\"eq_tp\"] = temp['tp_in_land_dif'] == 0\n",
    "    temp[\"eq_tr\"] = temp['tr_in_land_dif'] == 0\n",
    "    df_bools = temp[[\"domain\", \"more_landing_tp\", \"more_inner_tp\", \"more_landing_tr\", \"more_inner_tr\", \"eq_tp\", \"eq_tr\", \"loc\"]]\n",
    "    df_bools.reset_index(inplace=True, drop=True)\n",
    "    grouped_domain_loc = df_bools.groupby([\"domain\", \"loc\"]).agg(\"all\").reset_index()\n",
    "    for loc in locations:\n",
    "        temp_loc = grouped_domain_loc[grouped_domain_loc[\"loc\"]==loc]\n",
    "        print(f'location: {loc}')\n",
    "        print(f\"{'% of more TP in landing page:':<{37}} {temp_loc[temp_loc.more_landing_tp].shape[0]/temp_loc.shape[0]*100}\")\n",
    "        print(f\"{'% of more TP in inner pages:':<{37}} {temp_loc[temp_loc.more_inner_tp].shape[0]/temp_loc.shape[0]*100}\")\n",
    "        print(f\"{'% of more tracking in landing page:':<{37}} {temp_loc[temp_loc.more_landing_tr].shape[0]/temp_loc.shape[0]*100}\")\n",
    "        print(f\"{'% of more tracking in inner pages:':<{37}} {temp_loc[temp_loc.more_inner_tr].shape[0]/temp_loc.shape[0]*100}\")\n",
    "    \n",
    "    grouped_domain = grouped_domain_loc.groupby([\"domain\"]).agg(\"all\").reset_index()\n",
    "    print(f'\\nlocation: All')\n",
    "    print(f\"{'% of more TP in landing page:':<{37}} {grouped_domain[grouped_domain.more_landing_tp].shape[0]/grouped_domain.shape[0]*100}\")\n",
    "    print(f\"{'% of more TP in inner pages:':<{37}} {grouped_domain[grouped_domain.more_inner_tp].shape[0]/grouped_domain.shape[0]*100}\")\n",
    "    print(f\"{'% of more tracking in landing page:':<{37}} {grouped_domain[grouped_domain.more_landing_tr].shape[0]/grouped_domain.shape[0]*100}\")\n",
    "    print(f\"{'% of more tracking in inner pages:':<{37}} {grouped_domain[grouped_domain.more_inner_tr].shape[0]/grouped_domain.shape[0]*100}\")         \n",
    "\n",
    "    \n",
    "def is_inner(url):\n",
    "    return url.count(\"/\") > 2\n",
    "\n",
    "\n",
    "def add_is_inner(df):\n",
    "    df[\"is_inner\"] = df.apply(lambda x: is_inner(x[\"site_url\"]), axis=1)\n",
    "    df[\"domain\"] = df.apply(lambda x: get_domain(x[\"site_url\"]), axis=1)\n",
    "\n",
    "\n",
    "def get_df_with_landing_inner_diff(df):\n",
    "    t1 = add_is_inner(df)\n",
    "    t1 = df.groupby([\"domain\", \"interaction\",\"is_inner\"]).agg(\"mean\").reset_index()\n",
    "    t2_i = t1[t1.is_inner]\n",
    "    t2_l = t1[~t1.is_inner]\n",
    "    t3 = pd.merge(t2_i, t2_l, on=[\"domain\", \"interaction\"],how=\"left\", suffixes=[\"_i\",\"_l\"])\n",
    "    t3[\"tr_in_land_dif\"] =  t3.apply(lambda x: x[\"count_tr_i\"]-x[\"count_tr_l\"], axis=1)\n",
    "    t3[\"tp_in_land_dif\"] =  t3.apply(lambda x: x[\"count_tp_i\"]-x[\"count_tp_l\"], axis=1)\n",
    "    t3[\"fp_in_land_dif\"] =  t3.apply(lambda x: x[\"count_fp_i\"]-x[\"count_fp_l\"], axis=1)\n",
    "    return t3\n",
    "        \n",
    "    \n",
    "def add_isinner_column(dfs):\n",
    "    for df in dfs:\n",
    "        add_is_inner(df)\n",
    "\n",
    "\n",
    "def get_complete_df_for_landing_inner():\n",
    "    pd_list = []\n",
    "    for loc in map_inner_finals:\n",
    "        temp = get_df_with_landing_inner_diff(map_inner_finals[loc]) \n",
    "        temp[\"loc\"] = loc\n",
    "        pd_list.append(temp)\n",
    "    concat_temp = pd.concat(pd_list)\n",
    "    concat_temp.reset_index(inplace=True) \n",
    "    return concat_temp\n"
   ]
  },
  {
   "attachments": {},
   "cell_type": "markdown",
   "id": "5e7d4de6",
   "metadata": {
    "pycharm": {
     "name": "#%% md\n"
    }
   },
   "source": [
    "#### Initialization of DataFrames"
   ]
  },
  {
   "cell_type": "code",
   "execution_count": null,
   "id": "c600a745",
   "metadata": {
    "pycharm": {
     "name": "#%%\n"
    }
   },
   "outputs": [],
   "source": [
    "map_inner_finals = map_of_finals(run=\"innerpages\")"
   ]
  },
  {
   "attachments": {},
   "cell_type": "markdown",
   "id": "adb2b65b",
   "metadata": {
    "pycharm": {
     "name": "#%% md\n"
    },
    "toc-hr-collapsed": true
   },
   "source": [
    "### Impact of CCPA"
   ]
  },
  {
   "attachments": {},
   "cell_type": "markdown",
   "id": "2122eb21",
   "metadata": {
    "pycharm": {
     "name": "#%% md\n"
    }
   },
   "source": [
    "#### Utility Functions"
   ]
  },
  {
   "cell_type": "code",
   "execution_count": null,
   "id": "e4cb9ad6",
   "metadata": {
    "pycharm": {
     "name": "#%%\n"
    }
   },
   "outputs": [],
   "source": [
    "\n",
    "# This function iterates DOM of all the websites and looks for DNSMPI phrases.\n",
    "def dnsmpi_detection(html_df):\n",
    "    with_dnsmpi = []\n",
    "\n",
    "    dnsmpi_list = [\"do not sell my personal information\", \n",
    "    \"do not sell my information\", \n",
    "    \"do not sell or share my personal information\", \n",
    "    \"do not sell or share my information\"]\n",
    "    \n",
    "    dnsmpi_list_info = [\"do not sell my info\", \n",
    "    \"do not sell my personal info\", \n",
    "    \"do not sell or share my info\", \n",
    "    \"do not sell or share my personal info\"]\n",
    "    domain_checked = []\n",
    "    \n",
    "    for i, x in html_df.iterrows():\n",
    "        html = x.html.lower()\n",
    "        soup = bs(html)\n",
    "        substr_list = []\n",
    "        domain = x.domain\n",
    "        if domain in domain_checked:\n",
    "            continue\n",
    "        else:\n",
    "            domain_checked.append(domain)\n",
    "            for substr in dnsmpi_list:\n",
    "                b = substr in html\n",
    "                if b:\n",
    "                    substr_list.append(substr)\n",
    "                    dic_temp = {\"domain\": domain, \"dnsmpi\": substr_list, \"html\": html}\n",
    "                    with_dnsmpi.append(dic_temp)\n",
    "            if len(substr_list)==0:\n",
    "                for substr in dnsmpi_list_info:\n",
    "                    b = substr in html\n",
    "                    if b:\n",
    "                        substr_list.append(substr)\n",
    "                        dic_temp = {\"domain\": domain, \"dnsmpi\": substr_list, \"html\": html}\n",
    "                        with_dnsmpi.append(dic_temp)\n",
    "    return with_dnsmpi\n",
    "\n"
   ]
  },
  {
   "cell_type": "code",
   "execution_count": null,
   "id": "e8baf351",
   "metadata": {
    "pycharm": {
     "name": "#%%\n"
    }
   },
   "outputs": [],
   "source": [
    "def readlist(name):\n",
    "    l = []\n",
    "    file1= open(name, \"r\")\n",
    "    while True:\n",
    "        s = file1.readline()\n",
    "        if not s:\n",
    "            break\n",
    "        s = s.strip('\\n')\n",
    "        l.append(s)\n",
    "    return l"
   ]
  },
  {
   "attachments": {},
   "cell_type": "markdown",
   "id": "afe9bf14",
   "metadata": {
    "pycharm": {
     "name": "#%% md\n"
    }
   },
   "source": [
    "#### Initialization of DataFrames"
   ]
  },
  {
   "cell_type": "code",
   "execution_count": null,
   "id": "1c32ad6d",
   "metadata": {
    "pycharm": {
     "name": "#%%\n"
    }
   },
   "outputs": [],
   "source": [
    "# load the domains for with DNSMPI and without DNSMPI in the lists\n",
    "ran1k = readlist(INPUT_DIR+'/random39.txt')\n",
    "ccp1k = readlist(INPUT_DIR+'/us_domain_dnsmpi39.txt')\n",
    "\n",
    "ran10k = readlist(INPUT_DIR+'/random1373.txt')\n",
    "ccp10k = readlist(INPUT_DIR+'/us_domain_dnsmpi1373.txt')"
   ]
  },
  {
   "attachments": {},
   "cell_type": "markdown",
   "id": "e14aca65",
   "metadata": {
    "pycharm": {
     "name": "#%% md\n"
    },
    "toc-hr-collapsed": true
   },
   "source": [
    "### Others"
   ]
  },
  {
   "attachments": {},
   "cell_type": "markdown",
   "id": "b79f867c",
   "metadata": {
    "pycharm": {
     "name": "#%% md\n"
    }
   },
   "source": [
    "#### Distribution of banner detection time (Time To Wait)"
   ]
  },
  {
   "cell_type": "code",
   "execution_count": null,
   "id": "36b1beb0",
   "metadata": {
    "pycharm": {
     "name": "#%%\n"
    }
   },
   "outputs": [
    {
     "data": {
      "text/plain": [
       "0     375\n",
       "10     31\n",
       "Name: ttw, dtype: int64"
      ]
     },
     "execution_count": 28,
     "metadata": {},
     "output_type": "execute_result"
    }
   ],
   "source": [
    "runs['desktop'].eu_north.visits[runs['desktop'].eu_north.visits.banners>0].ttw.value_counts()"
   ]
  },
  {
   "cell_type": "code",
   "execution_count": null,
   "id": "4bab2a98",
   "metadata": {
    "pycharm": {
     "name": "#%%\n"
    }
   },
   "outputs": [],
   "source": [
    "# Mobile and Desktop Dataframes polished for reachable crawls\n",
    "\n",
    "# rd_m = runs['mobile'].polished\n",
    "rd_d = runs['desktop'].polished"
   ]
  },
  {
   "cell_type": "code",
   "execution_count": null,
   "id": "d2ce49f0",
   "metadata": {},
   "outputs": [
    {
     "ename": "AttributeError",
     "evalue": "'DataFrame' object has no attribute 'cmp_name'",
     "output_type": "error",
     "traceback": [
      "\u001b[0;31m---------------------------------------------------------------------------\u001b[0m",
      "\u001b[0;31mAttributeError\u001b[0m                            Traceback (most recent call last)",
      "\u001b[1;32m/home/kw336/dataverse_files/reproducibility/analysis.ipynb Cell 77\u001b[0m in \u001b[0;36m<cell line: 10>\u001b[0;34m()\u001b[0m\n\u001b[1;32m      <a href='vscode-notebook-cell://ssh-remote%2Bvcm-34053.vm.duke.edu/home/kw336/dataverse_files/reproducibility/analysis.ipynb#Y665sdnNjb2RlLXJlbW90ZQ%3D%3D?line=6'>7</a>\u001b[0m     \u001b[39mprint\u001b[39m(site\u001b[39m.\u001b[39mcmp_name)\n\u001b[1;32m      <a href='vscode-notebook-cell://ssh-remote%2Bvcm-34053.vm.duke.edu/home/kw336/dataverse_files/reproducibility/analysis.ipynb#Y665sdnNjb2RlLXJlbW90ZQ%3D%3D?line=7'>8</a>\u001b[0m     \u001b[39mprint\u001b[39m(site\u001b[39m.\u001b[39mnc_cmp_name)\n\u001b[0;32m---> <a href='vscode-notebook-cell://ssh-remote%2Bvcm-34053.vm.duke.edu/home/kw336/dataverse_files/reproducibility/analysis.ipynb#Y665sdnNjb2RlLXJlbW90ZQ%3D%3D?line=9'>10</a>\u001b[0m get_cmp(\u001b[39m'\u001b[39;49m\u001b[39mhttps://bmj.com\u001b[39;49m\u001b[39m'\u001b[39;49m)\n",
      "\u001b[1;32m/home/kw336/dataverse_files/reproducibility/analysis.ipynb Cell 77\u001b[0m in \u001b[0;36mget_cmp\u001b[0;34m(url, df)\u001b[0m\n\u001b[1;32m      <a href='vscode-notebook-cell://ssh-remote%2Bvcm-34053.vm.duke.edu/home/kw336/dataverse_files/reproducibility/analysis.ipynb#Y665sdnNjb2RlLXJlbW90ZQ%3D%3D?line=3'>4</a>\u001b[0m \u001b[39mif\u001b[39;00m site\u001b[39m.\u001b[39mempty:\n\u001b[1;32m      <a href='vscode-notebook-cell://ssh-remote%2Bvcm-34053.vm.duke.edu/home/kw336/dataverse_files/reproducibility/analysis.ipynb#Y665sdnNjb2RlLXJlbW90ZQ%3D%3D?line=4'>5</a>\u001b[0m     \u001b[39mraise\u001b[39;00m \u001b[39mException\u001b[39;00m(\u001b[39m'\u001b[39m\u001b[39mSite URL not found in the dataframe\u001b[39m\u001b[39m'\u001b[39m)\n\u001b[0;32m----> <a href='vscode-notebook-cell://ssh-remote%2Bvcm-34053.vm.duke.edu/home/kw336/dataverse_files/reproducibility/analysis.ipynb#Y665sdnNjb2RlLXJlbW90ZQ%3D%3D?line=6'>7</a>\u001b[0m \u001b[39mprint\u001b[39m(site\u001b[39m.\u001b[39;49mcmp_name)\n\u001b[1;32m      <a href='vscode-notebook-cell://ssh-remote%2Bvcm-34053.vm.duke.edu/home/kw336/dataverse_files/reproducibility/analysis.ipynb#Y665sdnNjb2RlLXJlbW90ZQ%3D%3D?line=7'>8</a>\u001b[0m \u001b[39mprint\u001b[39m(site\u001b[39m.\u001b[39mnc_cmp_name)\n",
      "File \u001b[0;32m~/miniconda3/envs/dataverse_files/lib/python3.10/site-packages/pandas/core/generic.py:5575\u001b[0m, in \u001b[0;36mNDFrame.__getattr__\u001b[0;34m(self, name)\u001b[0m\n\u001b[1;32m   5568\u001b[0m \u001b[39mif\u001b[39;00m (\n\u001b[1;32m   5569\u001b[0m     name \u001b[39mnot\u001b[39;00m \u001b[39min\u001b[39;00m \u001b[39mself\u001b[39m\u001b[39m.\u001b[39m_internal_names_set\n\u001b[1;32m   5570\u001b[0m     \u001b[39mand\u001b[39;00m name \u001b[39mnot\u001b[39;00m \u001b[39min\u001b[39;00m \u001b[39mself\u001b[39m\u001b[39m.\u001b[39m_metadata\n\u001b[1;32m   5571\u001b[0m     \u001b[39mand\u001b[39;00m name \u001b[39mnot\u001b[39;00m \u001b[39min\u001b[39;00m \u001b[39mself\u001b[39m\u001b[39m.\u001b[39m_accessors\n\u001b[1;32m   5572\u001b[0m     \u001b[39mand\u001b[39;00m \u001b[39mself\u001b[39m\u001b[39m.\u001b[39m_info_axis\u001b[39m.\u001b[39m_can_hold_identifiers_and_holds_name(name)\n\u001b[1;32m   5573\u001b[0m ):\n\u001b[1;32m   5574\u001b[0m     \u001b[39mreturn\u001b[39;00m \u001b[39mself\u001b[39m[name]\n\u001b[0;32m-> 5575\u001b[0m \u001b[39mreturn\u001b[39;00m \u001b[39mobject\u001b[39;49m\u001b[39m.\u001b[39;49m\u001b[39m__getattribute__\u001b[39;49m(\u001b[39mself\u001b[39;49m, name)\n",
      "\u001b[0;31mAttributeError\u001b[0m: 'DataFrame' object has no attribute 'cmp_name'"
     ]
    }
   ],
   "source": [
    "def get_cmp(url, df=map_des_finals['US East']):\n",
    "    site = df.loc[df['site_url'] == url]\n",
    "\n",
    "    if site.empty:\n",
    "        raise Exception('Site URL not found in the dataframe')\n",
    "\n",
    "    print(site.cmp_name)\n",
    "    print(site.nc_cmp_name)\n",
    "\n",
    "get_cmp('https://bmj.com')"
   ]
  },
  {
   "cell_type": "code",
   "execution_count": null,
   "id": "e32cfafe",
   "metadata": {
    "pycharm": {
     "name": "#%%\n"
    }
   },
   "outputs": [
    {
     "ename": "NameError",
     "evalue": "name 'rd_d' is not defined",
     "output_type": "error",
     "traceback": [
      "\u001b[0;31m---------------------------------------------------------------------------\u001b[0m",
      "\u001b[0;31mNameError\u001b[0m                                 Traceback (most recent call last)",
      "\u001b[1;32m/home/kw336/dataverse_files/reproducibility/analysis.ipynb Cell 78\u001b[0m in \u001b[0;36m<cell line: 25>\u001b[0;34m()\u001b[0m\n\u001b[1;32m     <a href='vscode-notebook-cell://ssh-remote%2Bvcm-34053.vm.duke.edu/home/kw336/dataverse_files/reproducibility/analysis.ipynb#Y666sdnNjb2RlLXJlbW90ZQ%3D%3D?line=20'>21</a>\u001b[0m     ax\u001b[39m.\u001b[39mfigure\u001b[39m.\u001b[39msavefig(FIG_DIR\u001b[39m+\u001b[39m\u001b[39m'\u001b[39m\u001b[39m/banners_cmp_pro_\u001b[39m\u001b[39m'\u001b[39m\u001b[39m+\u001b[39mname\u001b[39m+\u001b[39m\u001b[39m'\u001b[39m\u001b[39m.pdf\u001b[39m\u001b[39m'\u001b[39m, bbox_inches\u001b[39m=\u001b[39m\u001b[39m'\u001b[39m\u001b[39mtight\u001b[39m\u001b[39m'\u001b[39m)\n\u001b[1;32m     <a href='vscode-notebook-cell://ssh-remote%2Bvcm-34053.vm.duke.edu/home/kw336/dataverse_files/reproducibility/analysis.ipynb#Y666sdnNjb2RlLXJlbW90ZQ%3D%3D?line=21'>22</a>\u001b[0m     ax\u001b[39m.\u001b[39mfigure\u001b[39m.\u001b[39msavefig(FIG_DIR\u001b[39m+\u001b[39m\u001b[39m'\u001b[39m\u001b[39m/banners_cmp_pro_\u001b[39m\u001b[39m'\u001b[39m\u001b[39m+\u001b[39mname\u001b[39m+\u001b[39m\u001b[39m'\u001b[39m\u001b[39m.png\u001b[39m\u001b[39m'\u001b[39m, bbox_inches\u001b[39m=\u001b[39m\u001b[39m'\u001b[39m\u001b[39mtight\u001b[39m\u001b[39m'\u001b[39m, facecolor\u001b[39m=\u001b[39m\u001b[39m'\u001b[39m\u001b[39mwhite\u001b[39m\u001b[39m'\u001b[39m, dpi\u001b[39m=\u001b[39m\u001b[39m600\u001b[39m)\n\u001b[0;32m---> <a href='vscode-notebook-cell://ssh-remote%2Bvcm-34053.vm.duke.edu/home/kw336/dataverse_files/reproducibility/analysis.ipynb#Y666sdnNjb2RlLXJlbW90ZQ%3D%3D?line=24'>25</a>\u001b[0m df \u001b[39m=\u001b[39m rd_d[(rd_d\u001b[39m.\u001b[39mvisit_id\u001b[39m>\u001b[39m\u001b[39m=\u001b[39mOFFSET_REJECT)]\n\u001b[1;32m     <a href='vscode-notebook-cell://ssh-remote%2Bvcm-34053.vm.duke.edu/home/kw336/dataverse_files/reproducibility/analysis.ipynb#Y666sdnNjb2RlLXJlbW90ZQ%3D%3D?line=25'>26</a>\u001b[0m ff \u001b[39m=\u001b[39m df\u001b[39m.\u001b[39mfillna(\u001b[39m0\u001b[39m)\u001b[39m.\u001b[39mgroupby(\u001b[39m\"\u001b[39m\u001b[39mdomain\u001b[39m\u001b[39m\"\u001b[39m)\u001b[39m.\u001b[39many()\n\u001b[1;32m     <a href='vscode-notebook-cell://ssh-remote%2Bvcm-34053.vm.duke.edu/home/kw336/dataverse_files/reproducibility/analysis.ipynb#Y666sdnNjb2RlLXJlbW90ZQ%3D%3D?line=26'>27</a>\u001b[0m plot_banner_cmp_pro(ff)\n",
      "\u001b[0;31mNameError\u001b[0m: name 'rd_d' is not defined"
     ]
    }
   ],
   "source": [
    "# this function plot the bar plot of total number of banners in each VP. It also shows the proportion of the CMPs.\n",
    "def plot_banner_cmp_pro(df, name=\"\"):\n",
    "    num_reachble = df.shape[0]\n",
    "    banners = df[['banners'+make_suffix(aws_name) for aws_name in AWS_names]]\n",
    "    loc_ban = banners.astype(bool).sum()\n",
    "    cmps = df[['nc_cmp_name'+make_suffix(aws_name) for aws_name in AWS_names]].fillna(False)\n",
    "    loc_cmp = cmps.astype(bool).sum()\n",
    "    cmp_banners = pd.DataFrame((cmps.astype(bool).values*banners.astype(bool).values), columns=[AWS_to_loc[c].capitalize() for c in AWS_names])\n",
    "    loc_cmp_ban = cmp_banners.astype(bool).sum()\n",
    "    Banners_Proportion = [x / num_reachble for x in loc_ban.values]\n",
    "    CMP_Banners_Proportion = [x / num_reachble for x in loc_cmp_ban.values]\n",
    "    Banners_Proportion_Stack = [a_i - b_i for a_i, b_i in zip(Banners_Proportion, CMP_Banners_Proportion)]\n",
    "    # CMP_in_Banners = [(x / y) for x, y in zip(CMP_Banners_Proportion, Banners_Proportion)]\n",
    "    df_temp = pd.DataFrame({'Vantage point':[AWS_to_loc[c] for c in AWS_names], 'non-CMP banners proportion':Banners_Proportion_Stack, 'CMP banners proportion':CMP_Banners_Proportion})\n",
    "    df_temp.set_index('Vantage point', inplace=True)\n",
    "    df_temp[\"Total\"] = df_temp.sum(axis=1)\n",
    "    df_temp.sort_values(by='Total', ascending=False, inplace=True)\n",
    "    ax = df_temp.plot.bar(y=['non-CMP banners proportion','CMP banners proportion'], rot=25, stacked=True, figsize=(8, 6))\n",
    "    ax.set_ylabel(\"Fraction of websites\")\n",
    "    ax.figure.show()\n",
    "    ax.figure.savefig(FIG_DIR+'/banners_cmp_pro_'+name+'.pdf', bbox_inches='tight')\n",
    "    ax.figure.savefig(FIG_DIR+'/banners_cmp_pro_'+name+'.png', bbox_inches='tight', facecolor='white', dpi=600)\n",
    "\n",
    "\n",
    "df = rd_d[(rd_d.visit_id>=OFFSET_REJECT)]\n",
    "ff = df.fillna(0).groupby(\"domain\").any()\n",
    "plot_banner_cmp_pro(ff)\n",
    "wb_d = set(ff[ff.banners_us_east_1].index)\n",
    "\n"
   ]
  },
  {
   "cell_type": "code",
   "execution_count": null,
   "id": "151d658c",
   "metadata": {
    "pycharm": {
     "name": "#%%\n"
    }
   },
   "outputs": [
    {
     "ename": "KeyError",
     "evalue": "'desktop'",
     "output_type": "error",
     "traceback": [
      "\u001b[0;31m---------------------------------------------------------------------------\u001b[0m",
      "\u001b[0;31mKeyError\u001b[0m                                  Traceback (most recent call last)",
      "\u001b[1;32m/home/kw336/dataverse_files/reproducibility/analysis.ipynb Cell 79\u001b[0m in \u001b[0;36m<cell line: 21>\u001b[0;34m()\u001b[0m\n\u001b[1;32m     <a href='vscode-notebook-cell://ssh-remote%2Bvcm-34053.vm.duke.edu/home/kw336/dataverse_files/reproducibility/analysis.ipynb#Z1000sdnNjb2RlLXJlbW90ZQ%3D%3D?line=17'>18</a>\u001b[0m     dft\u001b[39m.\u001b[39msort_index(inplace\u001b[39m=\u001b[39m\u001b[39mTrue\u001b[39;00m)\n\u001b[1;32m     <a href='vscode-notebook-cell://ssh-remote%2Bvcm-34053.vm.duke.edu/home/kw336/dataverse_files/reproducibility/analysis.ipynb#Z1000sdnNjb2RlLXJlbW90ZQ%3D%3D?line=18'>19</a>\u001b[0m     \u001b[39mreturn\u001b[39;00m dft\n\u001b[0;32m---> <a href='vscode-notebook-cell://ssh-remote%2Bvcm-34053.vm.duke.edu/home/kw336/dataverse_files/reproducibility/analysis.ipynb#Z1000sdnNjb2RlLXJlbW90ZQ%3D%3D?line=20'>21</a>\u001b[0m banners_detected_by_domains \u001b[39m=\u001b[39m occurrence_of_banner_in_iterations(\u001b[39m\"\u001b[39;49m\u001b[39mdesktop\u001b[39;49m\u001b[39m\"\u001b[39;49m)\n\u001b[1;32m     <a href='vscode-notebook-cell://ssh-remote%2Bvcm-34053.vm.duke.edu/home/kw336/dataverse_files/reproducibility/analysis.ipynb#Z1000sdnNjb2RlLXJlbW90ZQ%3D%3D?line=21'>22</a>\u001b[0m banners_detected_by_domains\u001b[39m.\u001b[39mplot\u001b[39m.\u001b[39mline()\n",
      "\u001b[1;32m/home/kw336/dataverse_files/reproducibility/analysis.ipynb Cell 79\u001b[0m in \u001b[0;36moccurrence_of_banner_in_iterations\u001b[0;34m(run_name)\u001b[0m\n\u001b[1;32m      <a href='vscode-notebook-cell://ssh-remote%2Bvcm-34053.vm.duke.edu/home/kw336/dataverse_files/reproducibility/analysis.ipynb#Z1000sdnNjb2RlLXJlbW90ZQ%3D%3D?line=1'>2</a>\u001b[0m \u001b[39mdef\u001b[39;00m \u001b[39moccurrence_of_banner_in_iterations\u001b[39m(run_name):\n\u001b[1;32m      <a href='vscode-notebook-cell://ssh-remote%2Bvcm-34053.vm.duke.edu/home/kw336/dataverse_files/reproducibility/analysis.ipynb#Z1000sdnNjb2RlLXJlbW90ZQ%3D%3D?line=2'>3</a>\u001b[0m     Flag \u001b[39m=\u001b[39m \u001b[39mFalse\u001b[39;00m\n\u001b[0;32m----> <a href='vscode-notebook-cell://ssh-remote%2Bvcm-34053.vm.duke.edu/home/kw336/dataverse_files/reproducibility/analysis.ipynb#Z1000sdnNjb2RlLXJlbW90ZQ%3D%3D?line=3'>4</a>\u001b[0m     \u001b[39mfor\u001b[39;00m aws \u001b[39min\u001b[39;00m runs[run_name]\u001b[39m.\u001b[39mAWS_list:\n\u001b[1;32m      <a href='vscode-notebook-cell://ssh-remote%2Bvcm-34053.vm.duke.edu/home/kw336/dataverse_files/reproducibility/analysis.ipynb#Z1000sdnNjb2RlLXJlbW90ZQ%3D%3D?line=4'>5</a>\u001b[0m         dff \u001b[39m=\u001b[39m aws\u001b[39m.\u001b[39mvisits\n\u001b[1;32m      <a href='vscode-notebook-cell://ssh-remote%2Bvcm-34053.vm.duke.edu/home/kw336/dataverse_files/reproducibility/analysis.ipynb#Z1000sdnNjb2RlLXJlbW90ZQ%3D%3D?line=5'>6</a>\u001b[0m         dff[\u001b[39m'\u001b[39m\u001b[39mbanners\u001b[39m\u001b[39m'\u001b[39m] \u001b[39m=\u001b[39m dff[\u001b[39m'\u001b[39m\u001b[39mbanners\u001b[39m\u001b[39m'\u001b[39m]\u001b[39m.\u001b[39mastype(\u001b[39m'\u001b[39m\u001b[39mbool\u001b[39m\u001b[39m'\u001b[39m)\n",
      "\u001b[0;31mKeyError\u001b[0m: 'desktop'"
     ]
    }
   ],
   "source": [
    "# This function plots the frequency of banners detected in 15 interations for each domain.\n",
    "def occurrence_of_banner_in_iterations(run_name):\n",
    "    Flag = False\n",
    "    for aws in runs[run_name].AWS_list:\n",
    "        dff = aws.visits\n",
    "        dff['banners'] = dff['banners'].astype('bool')\n",
    "        sizes = dff.groupby(\"domain\").size()\n",
    "        bans = dff.groupby(\"domain\").sum().banners\n",
    "        res = (bans / sizes * 15).astype(int).value_counts()\n",
    "        res.rename(aws.name, inplace=True)\n",
    "        if Flag == False:\n",
    "            dft = res\n",
    "            Flag = True\n",
    "        else:\n",
    "            dft = pd.concat([dft, res], axis=1)\n",
    "\n",
    "    dft.fillna(0, inplace=True)\n",
    "    dft.sort_index(inplace=True)\n",
    "    return dft\n",
    "\n",
    "banners_detected_by_domains = occurrence_of_banner_in_iterations(\"desktop\")\n",
    "banners_detected_by_domains.plot.line()"
   ]
  },
  {
   "cell_type": "code",
   "execution_count": null,
   "id": "8a0a8b25",
   "metadata": {
    "pycharm": {
     "name": "#%%\n"
    }
   },
   "outputs": [],
   "source": [
    "top_x = 6\n",
    "eu_v = runs['desktop'].us_east.visits\n",
    "reject_v = eu_v[eu_v.visit_id>=OFFSET_REJECT]\n",
    "\n",
    "cmpname = reject_v.cmp_name\n",
    "cmpname_nc = reject_v.nc_cmp_name\n",
    "cmp_freq = cmpname.value_counts()\n",
    "cmp_freq_nc = cmpname_nc.value_counts()\n",
    "ot_nc = reject_v[(reject_v.nc_cmp_name == 'onetrust') & (reject_v.cmp_name != 'OneTrust LLC')].shape[0]\n",
    "didomi_nc = reject_v[(reject_v.nc_cmp_name == 'Didomi') & (reject_v.cmp_name != 'Didomi')].shape[0]\n",
    "reject_v['other'] = (reject_v.nc_cmp_name.astype(bool) | reject_v.cmp_name.astype(bool)) & (reject_v.nc_cmp_name != 'Didomi') & (reject_v.nc_cmp_name != 'onetrust') & ~(reject_v.cmp_name.isin(cmp_freq[:top_x].index))\n",
    "reject_v['merged'] = reject_v.cmp_name.str.cat(reject_v.nc_cmp_name,sep=\" \")\n",
    "others = reject_v['other'].astype(bool).sum()\n",
    "cmp_freq_merged = cmp_freq.copy()\n",
    "cmp_freq_merged[\"OneTrust LLC\"] = cmp_freq[\"OneTrust LLC\"] + ot_nc\n",
    "# cmp_freq_merged[\"Didomi\"] = cmp_freq[\"Didomi\"] + didomi_nc\n"
   ]
  },
  {
   "cell_type": "code",
   "execution_count": null,
   "id": "3b59f2b7-a20b-4617-8047-47a6cbbe24e5",
   "metadata": {
    "pycharm": {
     "is_executing": true,
     "name": "#%%\n"
    }
   },
   "outputs": [
    {
     "data": {
      "image/png": "[encoded data removed]",
      "text/plain": [
       "<Figure size 432x288 with 1 Axes>"
      ]
     },
     "metadata": {},
     "output_type": "display_data"
    }
   ],
   "source": [
    "# Market share of CMPs detected by __tcfapi()\n",
    "tops = cmp_freq[:top_x]\n",
    "tops.at['Others'] = cmp_freq[top_x:].sum()\n",
    "tops.name = \"\"\n",
    "ax = tops.plot.pie()\n",
    "ax.yaxis.set_label_coords(0.4,0.5)\n",
    "ax.figure.savefig(FIG_DIR + '/ms_total_1k.png', bbox_inches='tight', dpi=600, facecolor='white')"
   ]
  },
  {
   "cell_type": "code",
   "execution_count": null,
   "id": "77e181e3-d55f-486a-b213-1703ef475d05",
   "metadata": {
    "pycharm": {
     "is_executing": true,
     "name": "#%%\n"
    }
   },
   "outputs": [
    {
     "data": {
      "image/png": "[encoded data removed]",
      "text/plain": [
       "<Figure size 432x288 with 1 Axes>"
      ]
     },
     "metadata": {},
     "output_type": "display_data"
    }
   ],
   "source": [
    "# Market share of CMPs detected by NeverConsent addon\n",
    "tops = cmp_freq_nc[:top_x]\n",
    "tops.at['Others'] = cmp_freq_nc[top_x:].sum()\n",
    "tops.name = \"CMP Marketshare\\n(TrancoTop1k)\"\n",
    "ax = tops.plot.pie()\n",
    "ax.yaxis.set_label_coords(-0.4,0.5)\n",
    "# ax.figure.show()\n",
    "# ax.figure.savefig('./ms_total_1k.png', bbox_inches='tight')"
   ]
  },
  {
   "cell_type": "code",
   "execution_count": null,
   "id": "0b6256c8-701c-4f8c-9e5c-f480439faa88",
   "metadata": {
    "pycharm": {
     "is_executing": true,
     "name": "#%%\n"
    }
   },
   "outputs": [
    {
     "data": {
      "image/png": "[encoded data removed]",
      "text/plain": [
       "<Figure size 432x288 with 1 Axes>"
      ]
     },
     "metadata": {},
     "output_type": "display_data"
    }
   ],
   "source": [
    "# Market share of CMPs detected by union of __tcfapi() and NeverConsent addon\n",
    "tops = cmp_freq_merged[:top_x]\n",
    "tops.at['Others'] = others\n",
    "tops.name = \"CMP marketshare\"\n",
    "tops.index = [x.split()[0] for x in tops.index]\n",
    "ax = tops.plot.pie()\n",
    "ax.yaxis.set_label_coords(-0.7,0.5)\n",
    "# ax.figure.show()\n",
    "ax.figure.savefig(FIG_DIR+'/CMP_share.png', bbox_inches='tight', dpi=600, facecolor='white')"
   ]
  },
  {
   "cell_type": "code",
   "execution_count": null,
   "id": "2c4b928c",
   "metadata": {
    "pycharm": {
     "name": "#%%\n"
    }
   },
   "outputs": [
    {
     "data": {
      "image/png": "[encoded data removed]",
      "text/plain": [
       "<Figure size 241.2x210.96 with 1 Axes>"
      ]
     },
     "metadata": {},
     "output_type": "display_data"
    },
    {
     "data": {
      "image/png": "[encoded data removed]",
      "text/plain": [
       "<Figure size 241.2x210.96 with 1 Axes>"
      ]
     },
     "metadata": {},
     "output_type": "display_data"
    }
   ],
   "source": [
    "# Barplot for banner detected in different location\n",
    "def plot_btn_pro(df, name=\"\", AWSs=AWS_names):\n",
    "    num_reachble = df[df.visit_id<OFFSET_ACCEPT].shape[0]\n",
    "        \n",
    "    banners = df[df.visit_id<OFFSET_ACCEPT][['banners'+make_suffix(aws_name) for aws_name in AWSs]]\n",
    "    loc_ban = banners.astype(bool).sum()\n",
    "    Banners_Proportion = [x / num_reachble for x in loc_ban.values]\n",
    "\n",
    "    num_reachble = df[(df.visit_id>=OFFSET_ACCEPT)&(df.visit_id<OFFSET_REJECT)].shape[0]\n",
    "    btn_status = df[(df.visit_id>=OFFSET_ACCEPT)&(df.visit_id<OFFSET_REJECT)][['btn_status'+make_suffix(aws_name) for aws_name in AWSs]]\n",
    "    loc_btn_ban = btn_status.fillna(0).astype(bool).sum()\n",
    "    Btn_Status_Proportion = [x / num_reachble for x in loc_btn_ban.values]\n",
    "\n",
    "    num_reachble = df[(df.visit_id>=OFFSET_REJECT)].shape[0]\n",
    "    btn_status_r = df[(df.visit_id>=OFFSET_REJECT)][['btn_status'+make_suffix(aws_name) for aws_name in AWSs]]\n",
    "    btn_set_status = df[(df.visit_id>=OFFSET_REJECT)][['btn_set_status'+make_suffix(aws_name) for aws_name in AWSs]]\n",
    "    loc_btn_ban_r = btn_status_r.fillna(0).astype(bool).sum()\n",
    "    loc_btn_set_ban = btn_set_status.applymap(lambda x: x==1).sum()\n",
    "    Btn_Status_R_Proportion = [(x + y) / num_reachble for x, y in zip(loc_btn_ban_r.values, loc_btn_set_ban.values)]\n",
    "\n",
    "    df = pd.DataFrame({'Vantage point':[AWS_to_loc[c] for c in AWSs], 'Detected':Banners_Proportion, 'Accepted':Btn_Status_Proportion, 'Rejected':Btn_Status_R_Proportion})\n",
    "    df.sort_values('Detected', inplace=True, ascending=False)\n",
    "        \n",
    "    ax = df.plot.bar(x='Vantage point', y=['Detected','Accepted','Rejected'], rot=0, stacked=False, figsize=(single_col_width, single_col_width-.42))\n",
    "    if len(AWSs)==1:\n",
    "        ax.set_ylim(0, .59)\n",
    "        ax.tick_params(bottom=False, top=False, left=True, right=False)\n",
    "        ax.get_xaxis().set_ticks([])\n",
    "    else:\n",
    "        ax.set_xticklabels(ax.get_xticklabels(), rotation=30, ha=\"right\")\n",
    "        dx = 7 / 72.\n",
    "        dy = 6 / 72.\n",
    "\n",
    "    ax.xaxis.label.set_visible(False)\n",
    "    ax.set_ylabel(\"Fraction of websites\")\n",
    "    ax.figure.show()\n",
    "    ax.figure.savefig(FIG_DIR+'/banners_btn_pro_'+name+'.pdf', bbox_inches='tight')\n",
    "\n",
    "plot_btn_pro(rd_d, name=\"10kd\")\n",
    "\n",
    "plot_btn_pro(rd_d, name=\"germany\", AWSs=[\"eu-central-1\"])\n",
    "accept_d = df[(df.visit_id>=OFFSET_ACCEPT)&(df.visit_id<OFFSET_REJECT)&(df.btn_status_eu_central_1.fillna(0).astype(bool))]\n"
   ]
  },
  {
   "cell_type": "code",
   "execution_count": null,
   "id": "cf62d485",
   "metadata": {
    "pycharm": {
     "name": "#%%\n"
    }
   },
   "outputs": [
    {
     "ename": "KeyError",
     "evalue": "'Sweden'",
     "output_type": "error",
     "traceback": [
      "\u001b[0;31m---------------------------------------------------------------------------\u001b[0m",
      "\u001b[0;31mKeyError\u001b[0m                                  Traceback (most recent call last)",
      "\u001b[1;32m/home/kw336/dataverse_files/reproducibility/analysis.ipynb Cell 85\u001b[0m in \u001b[0;36m<cell line: 2>\u001b[0;34m()\u001b[0m\n\u001b[1;32m      <a href='vscode-notebook-cell://ssh-remote%2Bvcm-34053.vm.duke.edu/home/kw336/dataverse_files/reproducibility/analysis.ipynb#Z1006sdnNjb2RlLXJlbW90ZQ%3D%3D?line=0'>1</a>\u001b[0m \u001b[39m# boxplot, comparering EU and nonEU coutries w.r.t tracking cookie dist for different mode of interactions.\u001b[39;00m\n\u001b[0;32m----> <a href='vscode-notebook-cell://ssh-remote%2Bvcm-34053.vm.duke.edu/home/kw336/dataverse_files/reproducibility/analysis.ipynb#Z1006sdnNjb2RlLXJlbW90ZQ%3D%3D?line=1'>2</a>\u001b[0m temp_intersection_merged \u001b[39m=\u001b[39m pd\u001b[39m.\u001b[39mmerge(map_des_intersection[\u001b[39m\"\u001b[39;49m\u001b[39mSweden\u001b[39;49m\u001b[39m\"\u001b[39;49m], map_des_intersection[\u001b[39m\"\u001b[39m\u001b[39mIndia\u001b[39m\u001b[39m\"\u001b[39m], on\u001b[39m=\u001b[39m[\u001b[39m\"\u001b[39m\u001b[39msite_url\u001b[39m\u001b[39m\"\u001b[39m,\u001b[39m\"\u001b[39m\u001b[39mclicked\u001b[39m\u001b[39m\"\u001b[39m],how\u001b[39m=\u001b[39m\u001b[39m\"\u001b[39m\u001b[39minner\u001b[39m\u001b[39m\"\u001b[39m, suffixes\u001b[39m=\u001b[39m[\u001b[39m\"\u001b[39m\u001b[39m_s\u001b[39m\u001b[39m\"\u001b[39m,\u001b[39m\"\u001b[39m\u001b[39m_i\u001b[39m\u001b[39m\"\u001b[39m])\n\u001b[1;32m      <a href='vscode-notebook-cell://ssh-remote%2Bvcm-34053.vm.duke.edu/home/kw336/dataverse_files/reproducibility/analysis.ipynb#Z1006sdnNjb2RlLXJlbW90ZQ%3D%3D?line=2'>3</a>\u001b[0m temp_intersection_merged\u001b[39m.\u001b[39mrename(columns \u001b[39m=\u001b[39m {\u001b[39m'\u001b[39m\u001b[39mcount_tr_s\u001b[39m\u001b[39m'\u001b[39m:\u001b[39m'\u001b[39m\u001b[39mSweden\u001b[39m\u001b[39m'\u001b[39m, \u001b[39m'\u001b[39m\u001b[39mcount_tr_i\u001b[39m\u001b[39m'\u001b[39m:\u001b[39m'\u001b[39m\u001b[39mIndia\u001b[39m\u001b[39m'\u001b[39m}, inplace \u001b[39m=\u001b[39m \u001b[39mTrue\u001b[39;00m)\n\u001b[1;32m      <a href='vscode-notebook-cell://ssh-remote%2Bvcm-34053.vm.duke.edu/home/kw336/dataverse_files/reproducibility/analysis.ipynb#Z1006sdnNjb2RlLXJlbW90ZQ%3D%3D?line=3'>4</a>\u001b[0m dd\u001b[39m=\u001b[39mpd\u001b[39m.\u001b[39mmelt(temp_intersection_merged,id_vars\u001b[39m=\u001b[39m[\u001b[39m'\u001b[39m\u001b[39mclicked\u001b[39m\u001b[39m'\u001b[39m],value_vars\u001b[39m=\u001b[39m[\u001b[39m'\u001b[39m\u001b[39mSweden\u001b[39m\u001b[39m'\u001b[39m,\u001b[39m'\u001b[39m\u001b[39mIndia\u001b[39m\u001b[39m'\u001b[39m],var_name\u001b[39m=\u001b[39m\u001b[39m'\u001b[39m\u001b[39mVantage Point\u001b[39m\u001b[39m'\u001b[39m, value_name\u001b[39m=\u001b[39m\u001b[39m\"\u001b[39m\u001b[39mTracking Cookies\u001b[39m\u001b[39m\"\u001b[39m)\n",
      "\u001b[0;31mKeyError\u001b[0m: 'Sweden'"
     ]
    }
   ],
   "source": [
    "# boxplot, comparering EU and nonEU coutries w.r.t tracking cookie dist for different mode of interactions.\n",
    "temp_intersection_merged = pd.merge(map_des_intersection[\"Sweden\"], map_des_intersection[\"India\"], on=[\"site_url\",\"clicked\"],how=\"inner\", suffixes=[\"_s\",\"_i\"])\n",
    "temp_intersection_merged.rename(columns = {'count_tr_s':'Sweden', 'count_tr_i':'India'}, inplace = True)\n",
    "dd=pd.melt(temp_intersection_merged,id_vars=['clicked'],value_vars=['Sweden','India'],var_name='Vantage Point', value_name=\"Tracking Cookies\")\n",
    "sns.boxplot(x='clicked',y='Tracking Cookies',data=dd,hue='Vantage Point')"
   ]
  },
  {
   "attachments": {},
   "cell_type": "markdown",
   "id": "3f0ef347",
   "metadata": {
    "tags": [],
    "toc-hr-collapsed": true
   },
   "source": [
    "## 3. Data Collection and Approach"
   ]
  },
  {
   "attachments": {},
   "cell_type": "markdown",
   "id": "a653ebdc-05f1-492b-a14b-dc17c5999145",
   "metadata": {
    "pycharm": {
     "name": "#%% md\n"
    }
   },
   "source": [
    "#### Section 3.1 details"
   ]
  },
  {
   "cell_type": "code",
   "execution_count": null,
   "id": "d6315dca",
   "metadata": {
    "pycharm": {
     "name": "#%%\n"
    }
   },
   "outputs": [
    {
     "data": {
      "text/html": [
       "<div>\n",
       "<style scoped>\n",
       "    .dataframe tbody tr th:only-of-type {\n",
       "        vertical-align: middle;\n",
       "    }\n",
       "\n",
       "    .dataframe tbody tr th {\n",
       "        vertical-align: top;\n",
       "    }\n",
       "\n",
       "    .dataframe thead th {\n",
       "        text-align: right;\n",
       "    }\n",
       "</style>\n",
       "<table border=\"1\" class=\"dataframe\">\n",
       "  <thead>\n",
       "    <tr style=\"text-align: right;\">\n",
       "      <th></th>\n",
       "      <th>site_url</th>\n",
       "      <th>site_rank</th>\n",
       "      <th>dtg_eu-central-1</th>\n",
       "      <th>dtg_eu-north-1</th>\n",
       "      <th>dtg_us-east-1</th>\n",
       "      <th>dtg_us-west-1</th>\n",
       "      <th>dtg_ap-south-1</th>\n",
       "      <th>dtg_sa-east-1</th>\n",
       "      <th>dtg_af-south-1</th>\n",
       "      <th>dtg_ap-southeast-2</th>\n",
       "      <th>max</th>\n",
       "      <th>min</th>\n",
       "      <th>max_i</th>\n",
       "      <th>min_i</th>\n",
       "      <th>def</th>\n",
       "    </tr>\n",
       "  </thead>\n",
       "  <tbody>\n",
       "    <tr>\n",
       "      <th>0</th>\n",
       "      <td>https://google.com</td>\n",
       "      <td>0</td>\n",
       "      <td>2022-03-08 21:03:15</td>\n",
       "      <td>2022-03-08 21:02:52</td>\n",
       "      <td>2022-03-08 21:03:19</td>\n",
       "      <td>2022-03-08 21:02:51</td>\n",
       "      <td>2022-03-08 21:03:18</td>\n",
       "      <td>2022-03-08 21:02:54</td>\n",
       "      <td>2022-03-08 21:02:54</td>\n",
       "      <td>2022-03-08 21:02:57</td>\n",
       "      <td>2022-03-08 21:03:19</td>\n",
       "      <td>2022-03-08 21:02:51</td>\n",
       "      <td>1646773399000000000</td>\n",
       "      <td>1646773371000000000</td>\n",
       "      <td>28.0</td>\n",
       "    </tr>\n",
       "    <tr>\n",
       "      <th>1</th>\n",
       "      <td>https://google.com</td>\n",
       "      <td>10000000</td>\n",
       "      <td>2022-03-08 21:03:15</td>\n",
       "      <td>2022-03-08 21:02:52</td>\n",
       "      <td>2022-03-08 21:03:19</td>\n",
       "      <td>2022-03-08 21:02:51</td>\n",
       "      <td>2022-03-08 21:03:18</td>\n",
       "      <td>2022-03-08 21:02:54</td>\n",
       "      <td>2022-03-08 21:02:54</td>\n",
       "      <td>2022-03-08 21:02:57</td>\n",
       "      <td>2022-03-08 21:03:19</td>\n",
       "      <td>2022-03-08 21:02:51</td>\n",
       "      <td>1646773399000000000</td>\n",
       "      <td>1646773371000000000</td>\n",
       "      <td>28.0</td>\n",
       "    </tr>\n",
       "    <tr>\n",
       "      <th>2</th>\n",
       "      <td>https://google.com</td>\n",
       "      <td>20000000</td>\n",
       "      <td>2022-03-08 21:03:15</td>\n",
       "      <td>2022-03-08 21:02:52</td>\n",
       "      <td>2022-03-08 21:03:19</td>\n",
       "      <td>2022-03-08 21:02:51</td>\n",
       "      <td>2022-03-08 21:03:18</td>\n",
       "      <td>2022-03-08 21:02:54</td>\n",
       "      <td>2022-03-08 21:02:54</td>\n",
       "      <td>2022-03-08 21:02:57</td>\n",
       "      <td>2022-03-08 21:03:19</td>\n",
       "      <td>2022-03-08 21:02:51</td>\n",
       "      <td>1646773399000000000</td>\n",
       "      <td>1646773371000000000</td>\n",
       "      <td>28.0</td>\n",
       "    </tr>\n",
       "    <tr>\n",
       "      <th>3</th>\n",
       "      <td>https://google.com</td>\n",
       "      <td>1</td>\n",
       "      <td>2022-03-08 21:03:15</td>\n",
       "      <td>2022-03-08 21:02:52</td>\n",
       "      <td>2022-03-08 21:03:19</td>\n",
       "      <td>2022-03-08 21:02:51</td>\n",
       "      <td>2022-03-08 21:03:18</td>\n",
       "      <td>2022-03-08 21:02:54</td>\n",
       "      <td>2022-03-08 21:02:54</td>\n",
       "      <td>2022-03-08 21:02:57</td>\n",
       "      <td>2022-03-08 21:03:19</td>\n",
       "      <td>2022-03-08 21:02:51</td>\n",
       "      <td>1646773399000000000</td>\n",
       "      <td>1646773371000000000</td>\n",
       "      <td>28.0</td>\n",
       "    </tr>\n",
       "    <tr>\n",
       "      <th>4</th>\n",
       "      <td>https://google.com</td>\n",
       "      <td>20000001</td>\n",
       "      <td>2022-03-08 21:03:15</td>\n",
       "      <td>2022-03-08 21:02:52</td>\n",
       "      <td>2022-03-08 21:03:19</td>\n",
       "      <td>2022-03-08 21:02:51</td>\n",
       "      <td>2022-03-08 21:03:18</td>\n",
       "      <td>2022-03-08 21:02:54</td>\n",
       "      <td>2022-03-08 21:02:54</td>\n",
       "      <td>2022-03-08 21:02:57</td>\n",
       "      <td>2022-03-08 21:03:19</td>\n",
       "      <td>2022-03-08 21:02:51</td>\n",
       "      <td>1646773399000000000</td>\n",
       "      <td>1646773371000000000</td>\n",
       "      <td>28.0</td>\n",
       "    </tr>\n",
       "    <tr>\n",
       "      <th>...</th>\n",
       "      <td>...</td>\n",
       "      <td>...</td>\n",
       "      <td>...</td>\n",
       "      <td>...</td>\n",
       "      <td>...</td>\n",
       "      <td>...</td>\n",
       "      <td>...</td>\n",
       "      <td>...</td>\n",
       "      <td>...</td>\n",
       "      <td>...</td>\n",
       "      <td>...</td>\n",
       "      <td>...</td>\n",
       "      <td>...</td>\n",
       "      <td>...</td>\n",
       "      <td>...</td>\n",
       "    </tr>\n",
       "    <tr>\n",
       "      <th>37600</th>\n",
       "      <td>https://valueimpression.com/privacy.html</td>\n",
       "      <td>10012533</td>\n",
       "      <td>2022-03-12 13:59:36</td>\n",
       "      <td>2022-03-12 14:21:22</td>\n",
       "      <td>2022-03-12 18:12:29</td>\n",
       "      <td>2022-03-12 14:52:05</td>\n",
       "      <td>2022-03-12 16:37:27</td>\n",
       "      <td>2022-03-12 16:33:22</td>\n",
       "      <td>2022-03-12 16:33:18</td>\n",
       "      <td>2022-03-12 17:38:05</td>\n",
       "      <td>2022-03-12 18:12:29</td>\n",
       "      <td>2022-03-12 13:59:36</td>\n",
       "      <td>1647108749000000000</td>\n",
       "      <td>1647093576000000000</td>\n",
       "      <td>15173.0</td>\n",
       "    </tr>\n",
       "    <tr>\n",
       "      <th>37601</th>\n",
       "      <td>https://valueimpression.com/privacy.html</td>\n",
       "      <td>20012533</td>\n",
       "      <td>2022-03-12 13:59:39</td>\n",
       "      <td>2022-03-12 14:21:27</td>\n",
       "      <td>2022-03-12 18:12:34</td>\n",
       "      <td>2022-03-12 14:52:12</td>\n",
       "      <td>2022-03-12 16:37:32</td>\n",
       "      <td>2022-03-12 16:33:37</td>\n",
       "      <td>2022-03-12 16:33:21</td>\n",
       "      <td>2022-03-12 17:38:06</td>\n",
       "      <td>2022-03-12 18:12:34</td>\n",
       "      <td>2022-03-12 13:59:39</td>\n",
       "      <td>1647108754000000000</td>\n",
       "      <td>1647093579000000000</td>\n",
       "      <td>15175.0</td>\n",
       "    </tr>\n",
       "    <tr>\n",
       "      <th>37602</th>\n",
       "      <td>https://valueimpression.com/privacy.html</td>\n",
       "      <td>12534</td>\n",
       "      <td>2022-03-12 13:59:48</td>\n",
       "      <td>2022-03-12 14:21:35</td>\n",
       "      <td>2022-03-12 18:12:51</td>\n",
       "      <td>2022-03-12 14:52:16</td>\n",
       "      <td>2022-03-12 16:37:33</td>\n",
       "      <td>2022-03-12 16:33:42</td>\n",
       "      <td>2022-03-12 16:33:36</td>\n",
       "      <td>2022-03-12 17:38:14</td>\n",
       "      <td>2022-03-12 18:12:51</td>\n",
       "      <td>2022-03-12 13:59:48</td>\n",
       "      <td>1647108771000000000</td>\n",
       "      <td>1647093588000000000</td>\n",
       "      <td>15183.0</td>\n",
       "    </tr>\n",
       "    <tr>\n",
       "      <th>37603</th>\n",
       "      <td>https://valueimpression.com/privacy.html</td>\n",
       "      <td>10012534</td>\n",
       "      <td>2022-03-12 13:59:50</td>\n",
       "      <td>2022-03-12 14:21:36</td>\n",
       "      <td>2022-03-12 18:12:57</td>\n",
       "      <td>2022-03-12 14:52:23</td>\n",
       "      <td>2022-03-12 16:37:39</td>\n",
       "      <td>2022-03-12 16:33:44</td>\n",
       "      <td>2022-03-12 16:33:47</td>\n",
       "      <td>2022-03-12 17:38:16</td>\n",
       "      <td>2022-03-12 18:12:57</td>\n",
       "      <td>2022-03-12 13:59:50</td>\n",
       "      <td>1647108777000000000</td>\n",
       "      <td>1647093590000000000</td>\n",
       "      <td>15187.0</td>\n",
       "    </tr>\n",
       "    <tr>\n",
       "      <th>37604</th>\n",
       "      <td>https://valueimpression.com/privacy.html</td>\n",
       "      <td>20012534</td>\n",
       "      <td>2022-03-12 13:59:56</td>\n",
       "      <td>2022-03-12 14:21:45</td>\n",
       "      <td>2022-03-12 18:13:01</td>\n",
       "      <td>2022-03-12 14:52:36</td>\n",
       "      <td>2022-03-12 16:37:52</td>\n",
       "      <td>2022-03-12 16:33:52</td>\n",
       "      <td>2022-03-12 16:33:52</td>\n",
       "      <td>2022-03-12 17:38:27</td>\n",
       "      <td>2022-03-12 18:13:01</td>\n",
       "      <td>2022-03-12 13:59:56</td>\n",
       "      <td>1647108781000000000</td>\n",
       "      <td>1647093596000000000</td>\n",
       "      <td>15185.0</td>\n",
       "    </tr>\n",
       "  </tbody>\n",
       "</table>\n",
       "<p>37605 rows × 15 columns</p>\n",
       "</div>"
      ],
      "text/plain": [
       "                                       site_url  site_rank  \\\n",
       "0                            https://google.com          0   \n",
       "1                            https://google.com   10000000   \n",
       "2                            https://google.com   20000000   \n",
       "3                            https://google.com          1   \n",
       "4                            https://google.com   20000001   \n",
       "...                                         ...        ...   \n",
       "37600  https://valueimpression.com/privacy.html   10012533   \n",
       "37601  https://valueimpression.com/privacy.html   20012533   \n",
       "37602  https://valueimpression.com/privacy.html      12534   \n",
       "37603  https://valueimpression.com/privacy.html   10012534   \n",
       "37604  https://valueimpression.com/privacy.html   20012534   \n",
       "\n",
       "          dtg_eu-central-1       dtg_eu-north-1        dtg_us-east-1  \\\n",
       "0      2022-03-08 21:03:15  2022-03-08 21:02:52  2022-03-08 21:03:19   \n",
       "1      2022-03-08 21:03:15  2022-03-08 21:02:52  2022-03-08 21:03:19   \n",
       "2      2022-03-08 21:03:15  2022-03-08 21:02:52  2022-03-08 21:03:19   \n",
       "3      2022-03-08 21:03:15  2022-03-08 21:02:52  2022-03-08 21:03:19   \n",
       "4      2022-03-08 21:03:15  2022-03-08 21:02:52  2022-03-08 21:03:19   \n",
       "...                    ...                  ...                  ...   \n",
       "37600  2022-03-12 13:59:36  2022-03-12 14:21:22  2022-03-12 18:12:29   \n",
       "37601  2022-03-12 13:59:39  2022-03-12 14:21:27  2022-03-12 18:12:34   \n",
       "37602  2022-03-12 13:59:48  2022-03-12 14:21:35  2022-03-12 18:12:51   \n",
       "37603  2022-03-12 13:59:50  2022-03-12 14:21:36  2022-03-12 18:12:57   \n",
       "37604  2022-03-12 13:59:56  2022-03-12 14:21:45  2022-03-12 18:13:01   \n",
       "\n",
       "             dtg_us-west-1       dtg_ap-south-1        dtg_sa-east-1  \\\n",
       "0      2022-03-08 21:02:51  2022-03-08 21:03:18  2022-03-08 21:02:54   \n",
       "1      2022-03-08 21:02:51  2022-03-08 21:03:18  2022-03-08 21:02:54   \n",
       "2      2022-03-08 21:02:51  2022-03-08 21:03:18  2022-03-08 21:02:54   \n",
       "3      2022-03-08 21:02:51  2022-03-08 21:03:18  2022-03-08 21:02:54   \n",
       "4      2022-03-08 21:02:51  2022-03-08 21:03:18  2022-03-08 21:02:54   \n",
       "...                    ...                  ...                  ...   \n",
       "37600  2022-03-12 14:52:05  2022-03-12 16:37:27  2022-03-12 16:33:22   \n",
       "37601  2022-03-12 14:52:12  2022-03-12 16:37:32  2022-03-12 16:33:37   \n",
       "37602  2022-03-12 14:52:16  2022-03-12 16:37:33  2022-03-12 16:33:42   \n",
       "37603  2022-03-12 14:52:23  2022-03-12 16:37:39  2022-03-12 16:33:44   \n",
       "37604  2022-03-12 14:52:36  2022-03-12 16:37:52  2022-03-12 16:33:52   \n",
       "\n",
       "            dtg_af-south-1   dtg_ap-southeast-2                  max  \\\n",
       "0      2022-03-08 21:02:54  2022-03-08 21:02:57  2022-03-08 21:03:19   \n",
       "1      2022-03-08 21:02:54  2022-03-08 21:02:57  2022-03-08 21:03:19   \n",
       "2      2022-03-08 21:02:54  2022-03-08 21:02:57  2022-03-08 21:03:19   \n",
       "3      2022-03-08 21:02:54  2022-03-08 21:02:57  2022-03-08 21:03:19   \n",
       "4      2022-03-08 21:02:54  2022-03-08 21:02:57  2022-03-08 21:03:19   \n",
       "...                    ...                  ...                  ...   \n",
       "37600  2022-03-12 16:33:18  2022-03-12 17:38:05  2022-03-12 18:12:29   \n",
       "37601  2022-03-12 16:33:21  2022-03-12 17:38:06  2022-03-12 18:12:34   \n",
       "37602  2022-03-12 16:33:36  2022-03-12 17:38:14  2022-03-12 18:12:51   \n",
       "37603  2022-03-12 16:33:47  2022-03-12 17:38:16  2022-03-12 18:12:57   \n",
       "37604  2022-03-12 16:33:52  2022-03-12 17:38:27  2022-03-12 18:13:01   \n",
       "\n",
       "                       min                max_i                min_i      def  \n",
       "0      2022-03-08 21:02:51  1646773399000000000  1646773371000000000     28.0  \n",
       "1      2022-03-08 21:02:51  1646773399000000000  1646773371000000000     28.0  \n",
       "2      2022-03-08 21:02:51  1646773399000000000  1646773371000000000     28.0  \n",
       "3      2022-03-08 21:02:51  1646773399000000000  1646773371000000000     28.0  \n",
       "4      2022-03-08 21:02:51  1646773399000000000  1646773371000000000     28.0  \n",
       "...                    ...                  ...                  ...      ...  \n",
       "37600  2022-03-12 13:59:36  1647108749000000000  1647093576000000000  15173.0  \n",
       "37601  2022-03-12 13:59:39  1647108754000000000  1647093579000000000  15175.0  \n",
       "37602  2022-03-12 13:59:48  1647108771000000000  1647093588000000000  15183.0  \n",
       "37603  2022-03-12 13:59:50  1647108777000000000  1647093590000000000  15187.0  \n",
       "37604  2022-03-12 13:59:56  1647108781000000000  1647093596000000000  15185.0  \n",
       "\n",
       "[37605 rows x 15 columns]"
      ]
     },
     "execution_count": 48,
     "metadata": {},
     "output_type": "execute_result"
    }
   ],
   "source": [
    "calc_max_min_time_def_for_all_vps()"
   ]
  },
  {
   "attachments": {},
   "cell_type": "markdown",
   "id": "b8202e79",
   "metadata": {
    "pycharm": {
     "name": "#%% md\n"
    }
   },
   "source": [
    "#### Section 3.3 details"
   ]
  },
  {
   "cell_type": "code",
   "execution_count": null,
   "id": "5543c4e7",
   "metadata": {
    "pycharm": {
     "name": "#%%\n"
    }
   },
   "outputs": [],
   "source": [
    "# This fumction is to fetch the javascript_cookies table to get the most frequent trackers.\n",
    "def get_js_cookies(run='desktop', location=\"Sweden\"):\n",
    "    AWS_obj = get_AWS_obj(run, location)\n",
    "    javascript_cookies = AWS_obj.javascript_cookies\n",
    "    incomplete_visits = AWS_obj.incomplete_visits\n",
    "    site_visits  = AWS_obj.site_visits\n",
    "    visits = AWS_obj.visits\n",
    "    \n",
    "    incomplete_visits.drop_duplicates(inplace=True)\n",
    "    incomplete_visits[\"complete\"] = False\n",
    "    javascript_cookies = javascript_cookies.sort_values(by=[\"visit_id\", \"event_ordinal\"]).drop_duplicates(subset=[\"visit_id\", \"host\", \"name\"], keep=\"last\")\n",
    "    javascript_cookies = javascript_cookies[javascript_cookies[\"record_type\"] == \"added-or-changed\"]\n",
    "    site_visits = pd.merge(site_visits, incomplete_visits, on=\"visit_id\", how=\"left\").fillna(\"True\")\n",
    "    site_visits = site_visits.astype({\"complete\": bool})\n",
    "    \n",
    "    site_visits = pd.merge(site_visits, visits, left_on=\"site_rank\", right_on=\"visit_id\", how=\"left\", suffixes=(\"\", \"_dropme\")).drop(columns=\"visit_id_dropme\").fillna(0)\n",
    "    \n",
    "    site_visits[\"accept_clicked\"] = site_visits.apply(lambda x: abs(x[\"btn_status\"]) == 1, axis=1)\n",
    "    site_visits[\"reject_clicked\"] = site_visits.apply(lambda x: abs(x[\"btn_status\"]) == 2 or x[\"btn_set_status\"] == 1, axis=1)\n",
    "    \n",
    "    site_visits.drop_duplicates(subset=[\"site_url\"], keep=\"last\",inplace=True)\n",
    "\n",
    "    site_visits_cookies = pd.merge(site_visits, javascript_cookies, on=\"visit_id\")\n",
    "    site_visits_cookies[\"is_first_party\"] = site_visits_cookies.apply(lambda x: is_first_party(x[\"site_url\"], x[\"host\"], psl), axis=1)\n",
    "    \n",
    "    tracking_list = get_tracking_list(tracking_lists)\n",
    "    site_visits_cookies[\"is_tracking\"] = site_visits_cookies.apply(lambda x: is_tracking(x[\"site_url\"], x[\"host\"], psl, tracking_list), axis=1)\n",
    "    site_visits_cookies[\"reject\"] = site_visits_cookies[\"site_rank\"] >= OFFSET_REJECT\n",
    "    site_visits_cookies[\"accept\"] = (site_visits_cookies[\"site_rank\"] < OFFSET_REJECT) & (site_visits_cookies[\"site_rank\"] >= OFFSET_ACCEPT)\n",
    "    site_visits_cookies[\"interaction\"] = site_visits_cookies.apply(lambda x: get_interaction_mode(x[\"accept\"], x[\"reject\"]), axis=1)\n",
    "    return site_visits_cookies\n",
    "\n",
    "# This function shows the top trackers for the top websites with most tracking cookies.\n",
    "def show_top_trackers_in_domains_with_most_tracking(top_domains=50, top_trackers=50, loc=\"Germany\"):\n",
    "    df_js = get_js_cookies(run='desktop', location=loc)\n",
    "    des_grouped = groupby_url_and_interaction_mode(map_des_finals[loc])\n",
    "    top_tracking_domains = list(des_grouped[des_grouped.interaction==\"No interaction\"].sort_values(ascending=False, by=\"count_tr\").head(top_domains).site_url)\n",
    "    df_top_domains_js_temp = df_js[df_js.site_url.isin(top_tracking_domains)]\n",
    "    df_top_domains_js_temp[\"host\"] = df_top_domains_js_temp.apply(lambda x: psl.get_public_suffix(x[\"host\"]), axis=1)\n",
    "    df_top_domains_js = df_top_domains_js_temp.drop_duplicates(subset=[\"visit_id\", \"host\"], keep=\"last\")\n",
    "    return df_top_domains_js.host.value_counts().head(top_trackers)\n"
   ]
  },
  {
   "cell_type": "code",
   "execution_count": null,
   "id": "5a5cb16c",
   "metadata": {},
   "outputs": [
    {
     "data": {
      "text/plain": [
       "bidswitch.net            50\n",
       "yahoo.com                49\n",
       "adnxs.com                49\n",
       "doubleclick.net          49\n",
       "pubmatic.com             48\n",
       "adsrvr.org               48\n",
       "mathtag.com              48\n",
       "adform.net               48\n",
       "turn.com                 46\n",
       "everesttech.net          45\n",
       "casalemedia.com          45\n",
       "adition.com              45\n",
       "w55c.net                 45\n",
       "onaudience.com           44\n",
       "simpli.fi                44\n",
       "quantserve.com           44\n",
       "stackadapt.com           43\n",
       "bidr.io                  43\n",
       "zeotap.com               41\n",
       "taboola.com              41\n",
       "audrte.com               41\n",
       "de17a.com                41\n",
       "ipredictive.com          40\n",
       "semasio.net              40\n",
       "loopme.me                40\n",
       "technoratimedia.com      38\n",
       "bidtheatre.com           37\n",
       "tribalfusion.com         36\n",
       "fiftyt.com               36\n",
       "erne.co                  35\n",
       "playground.xyz           35\n",
       "rubiconproject.com       34\n",
       "weborama.fr              34\n",
       "360yield.com             33\n",
       "bnmla.com                32\n",
       "contextweb.com           29\n",
       "lijit.com                28\n",
       "creative-serving.com     28\n",
       "rfihub.com               26\n",
       "spotxchange.com          25\n",
       "facebook.com             25\n",
       "advertising.com          25\n",
       "crwdcntrl.net            25\n",
       "3lift.com                22\n",
       "scorecardresearch.com    22\n",
       "gumgum.com               22\n",
       "sonobi.com               20\n",
       "a-mo.net                 19\n",
       "criteo.com               18\n",
       "bluekai.com              18\n",
       "Name: host, dtype: int64"
      ]
     },
     "execution_count": 50,
     "metadata": {},
     "output_type": "execute_result"
    }
   ],
   "source": [
    "show_top_trackers_in_domains_with_most_tracking()"
   ]
  },
  {
   "cell_type": "code",
   "execution_count": null,
   "id": "40057959",
   "metadata": {
    "pycharm": {
     "name": "#%%\n"
    }
   },
   "outputs": [],
   "source": []
  },
  {
   "attachments": {},
   "cell_type": "markdown",
   "id": "26008fb5-a183-4824-9f1e-06dc4a90a7be",
   "metadata": {
    "pycharm": {
     "name": "#%% md\n"
    }
   },
   "source": [
    "#### Section 3.4 details"
   ]
  },
  {
   "cell_type": "code",
   "execution_count": null,
   "id": "1c18b2d1-c4cf-400a-a2fb-9d0a0fbc4d4b",
   "metadata": {
    "pycharm": {
     "is_executing": true,
     "name": "#%%\n"
    }
   },
   "outputs": [
    {
     "name": "stdout",
     "output_type": "stream",
     "text": [
      "eu-central-1   detect 64239 and 15434 websites with banners and CMP respectively out of 149545 entries in DB.\n",
      "eu-north-1     detect 64560 and 15537 websites with banners and CMP respectively out of 149622 entries in DB.\n",
      "us-east-1      detect 38982 and 11199 websites with banners and CMP respectively out of 149831 entries in DB.\n",
      "us-west-1      detect 42347 and 11395 websites with banners and CMP respectively out of 149864 entries in DB.\n",
      "ap-south-1     detect 38471 and 10862 websites with banners and CMP respectively out of 149921 entries in DB.\n",
      "sa-east-1      detect 41390 and 11250 websites with banners and CMP respectively out of 149916 entries in DB.\n",
      "af-south-1     detect 38859 and 10983 websites with banners and CMP respectively out of 149889 entries in DB.\n",
      "ap-southeast-2 detect 38568 and 11016 websites with banners and CMP respectively out of 149876 entries in DB.\n"
     ]
    }
   ],
   "source": [
    "show_detection_status(\"desktop\")"
   ]
  },
  {
   "cell_type": "code",
   "execution_count": null,
   "id": "69f4f581",
   "metadata": {
    "pycharm": {
     "is_executing": true,
     "name": "#%%\n"
    }
   },
   "outputs": [
    {
     "name": "stdout",
     "output_type": "stream",
     "text": [
      "eu-central-1   reachable: 138018, selenium timeout: 946, unreachable: 10175, exception during banner detection 406.\n",
      "eu-north-1     reachable: 138112, selenium timeout: 939, unreachable: 10164, exception during banner detection 407.\n",
      "us-east-1      reachable: 138490, selenium timeout: 930, unreachable: 10028, exception during banner detection 383.\n",
      "us-west-1      reachable: 138435, selenium timeout: 890, unreachable: 10127, exception during banner detection 412.\n",
      "ap-south-1     reachable: 138345, selenium timeout: 961, unreachable: 10203, exception during banner detection 412.\n",
      "sa-east-1      reachable: 137925, selenium timeout: 1125, unreachable: 10415, exception during banner detection 451.\n",
      "af-south-1     reachable: 137381, selenium timeout: 1528, unreachable: 10417, exception during banner detection 563.\n",
      "ap-southeast-2 reachable: 138325, selenium timeout: 891, unreachable: 10240, exception during banner detection 420.\n"
     ]
    }
   ],
   "source": [
    "show_run_status(\"desktop\")"
   ]
  },
  {
   "cell_type": "code",
   "execution_count": null,
   "id": "2ba2597f",
   "metadata": {
    "pycharm": {
     "name": "#%%\n"
    }
   },
   "outputs": [],
   "source": []
  },
  {
   "attachments": {},
   "cell_type": "markdown",
   "id": "11bb65dd",
   "metadata": {
    "pycharm": {
     "name": "#%% md\n"
    },
    "tags": [],
    "toc-hr-collapsed": true
   },
   "source": [
    "## 4. Effect of Cookie Banners"
   ]
  },
  {
   "cell_type": "code",
   "execution_count": null,
   "id": "cafb481c",
   "metadata": {
    "pycharm": {
     "name": "#%%\n"
    }
   },
   "outputs": [],
   "source": [
    "# this fuction plots the boxplot for distribution of different cookies (FP, TP and tracking) for three differen mode of interactions.\n",
    "def plot_boxplot_for_cookie_dist(df):\n",
    "    f, axes = plt.subplots(1, 3, figsize=(double_col_width, single_col_width))\n",
    "    colors = ['#78C850', '#F08030', '#6890F0','#F8D030', '#F85888', '#705898', '#B42C63','#EC5B49']\n",
    "\n",
    "    bp =sns.boxplot(x=\"clicked\", y=\"count_fp\", data=df, palette=colors, showfliers=False, saturation=0.65, ax = axes[0], orient=\"v\")\n",
    "    axes[0].set(ylabel=\"Average number of cookies\", xlabel=\"\")\n",
    "    axes[0].set(yscale=\"symlog\")\n",
    "    axes[0].set(ylim=(0,10**2))\n",
    "    axes[0].set(title=\"First Party\")\n",
    "    # axes[0].set(xticklabels(rotation=30, ha=\"right\"))\n",
    "    xtl = axes[0].get_xticklabels()\n",
    "    yaxis = bp.yaxis\n",
    "    yaxis.set_minor_locator(MinorSymLogLocator(1e-1))\n",
    "    axes[0].set_xticklabels(labels=xtl,rotation=20, )\n",
    "    axes[0].tick_params(axis='y',which='both',left=True)\n",
    "\n",
    "\n",
    "    bp =sns.boxplot(x=\"clicked\", y=\"count_tp\", data=df, palette=colors, showfliers=False, saturation=0.65, ax = axes[1], orient=\"v\")\n",
    "    axes[1].set(ylabel=\"\",xlabel=\"\")\n",
    "    axes[1].set(yscale=\"symlog\")\n",
    "    axes[1].set(ylim=(0,10**2))\n",
    "    axes[1].set(title=\"Third Party\")\n",
    "    xtl = axes[0].get_xticklabels()\n",
    "    yaxis = bp.yaxis\n",
    "    yaxis.set_minor_locator(MinorSymLogLocator(1e-1))\n",
    "    axes[1].set_xticklabels(labels=xtl,rotation=20)\n",
    "    axes[1].tick_params(axis='y',which='both',left=True)\n",
    "\n",
    "\n",
    "    bp =sns.boxplot(x=\"clicked\", y=\"count_tr\", data=df, palette=colors, showfliers=False, saturation=0.65, ax = axes[2], orient=\"v\")\n",
    "    axes[2].set(ylabel=\"\",xlabel=\"\")\n",
    "    axes[2].set(yscale=\"symlog\")\n",
    "    axes[2].set(ylim=(0,10**2))\n",
    "    axes[2].set(title=\"Tracking\")\n",
    "    xtl = axes[0].get_xticklabels()\n",
    "    yaxis = bp.yaxis\n",
    "    yaxis.set_minor_locator(MinorSymLogLocator(1e-1))\n",
    "    axes[2].set_xticklabels(labels=xtl,rotation=20)\n",
    "    axes[2].tick_params(axis='y',which='both',left=True)\n",
    "\n",
    "    plt.ylim( (0,10**2) )\n",
    "\n",
    "    # f.savefig(FIG_DIR+'/boxplot_type.pdf', bbox_inches='tight')\n",
    "    plt.savefig(FIG_DIR+'/boxplot_type.png', dpi=600, facecolor='white', bbox_inches='tight')\n",
    "    \n"
   ]
  },
  {
   "attachments": {},
   "cell_type": "markdown",
   "id": "a9d3e674",
   "metadata": {
    "pycharm": {
     "name": "#%% md\n"
    }
   },
   "source": [
    "#### Fig. 2"
   ]
  },
  {
   "cell_type": "code",
   "execution_count": null,
   "id": "ac6e4b06",
   "metadata": {},
   "outputs": [
    {
     "ename": "NameError",
     "evalue": "name 'plot_boxplot_for_cookie_dist' is not defined",
     "output_type": "error",
     "traceback": [
      "\u001b[0;31m---------------------------------------------------------------------------\u001b[0m",
      "\u001b[0;31mNameError\u001b[0m                                 Traceback (most recent call last)",
      "\u001b[1;32m/home/kw336/dataverse_files/reproducibility/opencookieDB_analysis.ipynb Cell 106\u001b[0m in \u001b[0;36m<cell line: 5>\u001b[0;34m()\u001b[0m\n\u001b[1;32m      <a href='vscode-notebook-cell://ssh-remote%2Bvcm-34053.vm.duke.edu/home/kw336/dataverse_files/reproducibility/opencookieDB_analysis.ipynb#Y210sdnNjb2RlLXJlbW90ZQ%3D%3D?line=1'>2</a>\u001b[0m mpl\u001b[39m.\u001b[39mrcParams\u001b[39m.\u001b[39mupdate(mpl\u001b[39m.\u001b[39mrcParamsDefault)\n\u001b[1;32m      <a href='vscode-notebook-cell://ssh-remote%2Bvcm-34053.vm.duke.edu/home/kw336/dataverse_files/reproducibility/opencookieDB_analysis.ipynb#Y210sdnNjb2RlLXJlbW90ZQ%3D%3D?line=3'>4</a>\u001b[0m get_ipython()\u001b[39m.\u001b[39mrun_line_magic(\u001b[39m'\u001b[39m\u001b[39mmatplotlib\u001b[39m\u001b[39m'\u001b[39m, \u001b[39m'\u001b[39m\u001b[39minline\u001b[39m\u001b[39m'\u001b[39m)\n\u001b[0;32m----> <a href='vscode-notebook-cell://ssh-remote%2Bvcm-34053.vm.duke.edu/home/kw336/dataverse_files/reproducibility/opencookieDB_analysis.ipynb#Y210sdnNjb2RlLXJlbW90ZQ%3D%3D?line=4'>5</a>\u001b[0m plot_boxplot_for_cookie_dist(map_des_intersection[\u001b[39m\"\u001b[39m\u001b[39mUS East\u001b[39m\u001b[39m\"\u001b[39m])\n",
      "\u001b[0;31mNameError\u001b[0m: name 'plot_boxplot_for_cookie_dist' is not defined"
     ]
    }
   ],
   "source": [
    "import matplotlib as mpl\n",
    "mpl.rcParams.update(mpl.rcParamsDefault)\n",
    "\n",
    "%matplotlib inline\n",
    "plot_boxplot_for_cookie_dist(map_des_intersection[\"US East\"])"
   ]
  },
  {
   "cell_type": "code",
   "execution_count": null,
   "id": "bd8593b5-a16e-42c7-b346-d3d039150589",
   "metadata": {
    "pycharm": {
     "is_executing": true,
     "name": "#%%\n"
    }
   },
   "outputs": [],
   "source": [
    "def top_cmp(run):\n",
    "        top_cmps = pd.DataFrame()\n",
    "        for cmp in cmp_freq.index[:6]:\n",
    "            cmp_name = cmp.split()[0].lower()\n",
    "            cmp_sorted = reject_v.groupby('domain').first().set_index('visit_id').cmp_name.sort_index()\n",
    "            cmp_bool_series = cmp_sorted.map(lambda x: 1 if type(x)==str and cmp_name in x.lower() else 0)\n",
    "            temp_df = cmp_bool_series.cumsum()\n",
    "            temp_df.index -= OFFSET_REJECT\n",
    "            temp_df.index /= 5\n",
    "            temp_df = temp_df/(temp_df.index) * 100\n",
    "            top_cmps[cmp.split()[0]] = temp_df\n",
    "        temp_df = reject_v.groupby('domain').first().set_index('visit_id').other.sort_index()\n",
    "        temp_df.index -= OFFSET_REJECT\n",
    "        temp_df.index /= 5\n",
    "        temp_df = temp_df.cumsum()\n",
    "        temp_df = temp_df/(temp_df.index) * 100\n",
    "        top_cmps[\"Others\"] = temp_df\n",
    "        return top_cmps\n",
    "            \n",
    "def plot_dist_ranked_top10k(run='desktop'):\n",
    "    tops = [10, 50, 100, 250, 500, 1000, 2000, 3000, 5000, 7500, 10000]\n",
    "    l = len(tops)\n",
    "    a = np.arange(l)\n",
    "    temp_df = top_cmp(run)\n",
    "    ax = temp_df.plot.area(figsize=(double_col_width, single_col_width-0.42), linewidth = 0)\n",
    "    ax.yaxis.set_major_formatter(mtick.PercentFormatter(decimals=0))\n",
    "    ax.legend(ncol=2, loc='center left',  bbox_to_anchor=(0.53, 0.77))\n",
    "    ax.set(xlabel=\"Toplist rank\", ylabel=\"Cumulative market share\")\n",
    "    ax.set_xlim(0, 10000)\n",
    "    ax.set_ylim(0, 22)\n",
    "    xlabels = [0 if x==0 else '{:,.0f}'.format(x) + 'k' for x in ax.get_xticks()/1000]\n",
    "    ax.tick_params(bottom=True, top=False, left=True, right=False)\n",
    "    ax.set_xticklabels(xlabels)\n",
    "    ax.figure.savefig(FIG_DIR+'/cumulative_ms_10k.pdf', bbox_inches='tight')\n",
    "\n",
    "    "
   ]
  },
  {
   "attachments": {},
   "cell_type": "markdown",
   "id": "7e13a55c",
   "metadata": {
    "pycharm": {
     "name": "#%% md\n"
    }
   },
   "source": [
    "#### Fig. 3"
   ]
  },
  {
   "cell_type": "code",
   "execution_count": null,
   "id": "ce7e715f",
   "metadata": {},
   "outputs": [
    {
     "ename": "NameError",
     "evalue": "name 'cmp_freq' is not defined",
     "output_type": "error",
     "traceback": [
      "\u001b[0;31m---------------------------------------------------------------------------\u001b[0m",
      "\u001b[0;31mNameError\u001b[0m                                 Traceback (most recent call last)",
      "\u001b[1;32m/home/kw336/dataverse_files/reproducibility/opencookieDB_analysis.ipynb Cell 109\u001b[0m in \u001b[0;36m<cell line: 1>\u001b[0;34m()\u001b[0m\n\u001b[0;32m----> <a href='vscode-notebook-cell://ssh-remote%2Bvcm-34053.vm.duke.edu/home/kw336/dataverse_files/reproducibility/opencookieDB_analysis.ipynb#Y213sdnNjb2RlLXJlbW90ZQ%3D%3D?line=0'>1</a>\u001b[0m plot_dist_ranked_top10k()\n",
      "\u001b[1;32m/home/kw336/dataverse_files/reproducibility/opencookieDB_analysis.ipynb Cell 109\u001b[0m in \u001b[0;36mplot_dist_ranked_top10k\u001b[0;34m(run)\u001b[0m\n\u001b[1;32m     <a href='vscode-notebook-cell://ssh-remote%2Bvcm-34053.vm.duke.edu/home/kw336/dataverse_files/reproducibility/opencookieDB_analysis.ipynb#Y213sdnNjb2RlLXJlbW90ZQ%3D%3D?line=21'>22</a>\u001b[0m l \u001b[39m=\u001b[39m \u001b[39mlen\u001b[39m(tops)\n\u001b[1;32m     <a href='vscode-notebook-cell://ssh-remote%2Bvcm-34053.vm.duke.edu/home/kw336/dataverse_files/reproducibility/opencookieDB_analysis.ipynb#Y213sdnNjb2RlLXJlbW90ZQ%3D%3D?line=22'>23</a>\u001b[0m a \u001b[39m=\u001b[39m np\u001b[39m.\u001b[39marange(l)\n\u001b[0;32m---> <a href='vscode-notebook-cell://ssh-remote%2Bvcm-34053.vm.duke.edu/home/kw336/dataverse_files/reproducibility/opencookieDB_analysis.ipynb#Y213sdnNjb2RlLXJlbW90ZQ%3D%3D?line=23'>24</a>\u001b[0m temp_df \u001b[39m=\u001b[39m top_cmp(run)\n\u001b[1;32m     <a href='vscode-notebook-cell://ssh-remote%2Bvcm-34053.vm.duke.edu/home/kw336/dataverse_files/reproducibility/opencookieDB_analysis.ipynb#Y213sdnNjb2RlLXJlbW90ZQ%3D%3D?line=24'>25</a>\u001b[0m ax \u001b[39m=\u001b[39m temp_df\u001b[39m.\u001b[39mplot\u001b[39m.\u001b[39marea(figsize\u001b[39m=\u001b[39m(double_col_width, single_col_width\u001b[39m-\u001b[39m\u001b[39m0.42\u001b[39m), linewidth \u001b[39m=\u001b[39m \u001b[39m0\u001b[39m)\n\u001b[1;32m     <a href='vscode-notebook-cell://ssh-remote%2Bvcm-34053.vm.duke.edu/home/kw336/dataverse_files/reproducibility/opencookieDB_analysis.ipynb#Y213sdnNjb2RlLXJlbW90ZQ%3D%3D?line=25'>26</a>\u001b[0m ax\u001b[39m.\u001b[39myaxis\u001b[39m.\u001b[39mset_major_formatter(mtick\u001b[39m.\u001b[39mPercentFormatter(decimals\u001b[39m=\u001b[39m\u001b[39m0\u001b[39m))\n",
      "\u001b[1;32m/home/kw336/dataverse_files/reproducibility/opencookieDB_analysis.ipynb Cell 109\u001b[0m in \u001b[0;36mtop_cmp\u001b[0;34m(run)\u001b[0m\n\u001b[1;32m      <a href='vscode-notebook-cell://ssh-remote%2Bvcm-34053.vm.duke.edu/home/kw336/dataverse_files/reproducibility/opencookieDB_analysis.ipynb#Y213sdnNjb2RlLXJlbW90ZQ%3D%3D?line=0'>1</a>\u001b[0m \u001b[39mdef\u001b[39;00m \u001b[39mtop_cmp\u001b[39m(run):\n\u001b[1;32m      <a href='vscode-notebook-cell://ssh-remote%2Bvcm-34053.vm.duke.edu/home/kw336/dataverse_files/reproducibility/opencookieDB_analysis.ipynb#Y213sdnNjb2RlLXJlbW90ZQ%3D%3D?line=1'>2</a>\u001b[0m         top_cmps \u001b[39m=\u001b[39m pd\u001b[39m.\u001b[39mDataFrame()\n\u001b[0;32m----> <a href='vscode-notebook-cell://ssh-remote%2Bvcm-34053.vm.duke.edu/home/kw336/dataverse_files/reproducibility/opencookieDB_analysis.ipynb#Y213sdnNjb2RlLXJlbW90ZQ%3D%3D?line=2'>3</a>\u001b[0m         \u001b[39mfor\u001b[39;00m cmp \u001b[39min\u001b[39;00m cmp_freq\u001b[39m.\u001b[39mindex[:\u001b[39m6\u001b[39m]:\n\u001b[1;32m      <a href='vscode-notebook-cell://ssh-remote%2Bvcm-34053.vm.duke.edu/home/kw336/dataverse_files/reproducibility/opencookieDB_analysis.ipynb#Y213sdnNjb2RlLXJlbW90ZQ%3D%3D?line=3'>4</a>\u001b[0m             cmp_name \u001b[39m=\u001b[39m cmp\u001b[39m.\u001b[39msplit()[\u001b[39m0\u001b[39m]\u001b[39m.\u001b[39mlower()\n\u001b[1;32m      <a href='vscode-notebook-cell://ssh-remote%2Bvcm-34053.vm.duke.edu/home/kw336/dataverse_files/reproducibility/opencookieDB_analysis.ipynb#Y213sdnNjb2RlLXJlbW90ZQ%3D%3D?line=4'>5</a>\u001b[0m             cmp_sorted \u001b[39m=\u001b[39m reject_v\u001b[39m.\u001b[39mgroupby(\u001b[39m'\u001b[39m\u001b[39mdomain\u001b[39m\u001b[39m'\u001b[39m)\u001b[39m.\u001b[39mfirst()\u001b[39m.\u001b[39mset_index(\u001b[39m'\u001b[39m\u001b[39mvisit_id\u001b[39m\u001b[39m'\u001b[39m)\u001b[39m.\u001b[39mcmp_name\u001b[39m.\u001b[39msort_index()\n",
      "\u001b[0;31mNameError\u001b[0m: name 'cmp_freq' is not defined"
     ]
    }
   ],
   "source": [
    "plot_dist_ranked_top10k()"
   ]
  },
  {
   "cell_type": "code",
   "execution_count": null,
   "id": "9998d026-6474-4e2e-be34-606ec9b3bdb5",
   "metadata": {
    "pycharm": {
     "is_executing": true,
     "name": "#%%\n"
    }
   },
   "outputs": [
    {
     "data": {
      "image/png": "[encoded data removed]",
      "text/plain": [
       "<Figure size 192.96x132.66 with 1 Axes>"
      ]
     },
     "metadata": {},
     "output_type": "display_data"
    }
   ],
   "source": [
    "def plot_dist_ranked_top100(run='desktop'):\n",
    "    temp_df = top_cmp('desktop')\n",
    "    ax = temp_df.plot.area(legend=False, figsize=(single_col_width*.8, single_col_width*.55), linewidth = 0)\n",
    "    ax.xaxis.label.set_visible(False)\n",
    "    ax.yaxis.set_major_formatter(mtick.PercentFormatter(decimals=0))\n",
    "    ax.set_xlim(0, 100)\n",
    "    ax.set_ylim(0, 12)\n",
    "    ax.tick_params(bottom=True, top=False, left=True, right=False)\n",
    "    ax.figure.savefig(FIG_DIR+'/cumulative_ms_100.png', bbox_inches='tight')\n",
    "    \n",
    "plot_dist_ranked_top100()"
   ]
  },
  {
   "cell_type": "code",
   "execution_count": null,
   "id": "fbfd76ca",
   "metadata": {
    "pycharm": {
     "name": "#%%\n"
    }
   },
   "outputs": [],
   "source": []
  },
  {
   "attachments": {},
   "cell_type": "markdown",
   "id": "36a5937d",
   "metadata": {
    "pycharm": {
     "name": "#%% md\n"
    },
    "toc-hr-collapsed": true
   },
   "source": [
    "## 5. Impact of Geographical Location"
   ]
  },
  {
   "cell_type": "code",
   "execution_count": null,
   "id": "703e3e3f-383e-4dca-9ed8-5a4ea43a46ad",
   "metadata": {
    "pycharm": {
     "is_executing": true,
     "name": "#%%\n"
    }
   },
   "outputs": [],
   "source": [
    "# for keeping track of rejected but not accepted cases\n",
    "r_na = None\n",
    "\n",
    "# this method is used for printing number of rejection and acceptance and diefference of them for a given \n",
    "def method_name(accept_offset, reject_offset, btn_status, btn_status_r):\n",
    "    global r_na\n",
    "    rej_vps = btn_status_r.fillna(0).astype(bool)\n",
    "    rej = rej_vps.any(axis=1)\n",
    "    rej_domains = set(reject_offset[rej].domain.unique())\n",
    "    acc_vps = btn_status.fillna(0).astype(bool)\n",
    "    acc = acc_vps.any(axis=1)\n",
    "    acc_domains = set(accept_offset[acc].domain.unique())\n",
    "    # print(len(acc_domains))\n",
    "    # print(len(rej_domains.intersection(acc_domains)))\n",
    "    # print(len(rej_domains.difference(acc_domains)))\n",
    "    r_na = rej_domains.difference(acc_domains)\n",
    "\n",
    "\n",
    "def plot_btn_pro(df, name=\"\", AWSs=AWS_names):\n",
    "    num_reachble = df[df.visit_id < OFFSET_ACCEPT].shape[0]\n",
    "\n",
    "    banners = df[df.visit_id < OFFSET_ACCEPT][['banners' + make_suffix(aws_name) for aws_name in AWSs]]\n",
    "    loc_ban = banners.astype(bool).sum()\n",
    "    Banners_Proportion = [x / num_reachble for x in loc_ban.values]\n",
    "\n",
    "    accept_offset = df[(df.visit_id >= OFFSET_ACCEPT) & (df.visit_id < OFFSET_REJECT)]\n",
    "    num_reachble = accept_offset.shape[0]\n",
    "    btn_status = accept_offset[['btn_status' + make_suffix(aws_name) for aws_name in AWSs]]\n",
    "    loc_btn_ban = btn_status.fillna(0).astype(bool).sum()\n",
    "    Btn_Status_Proportion = [x / num_reachble for x in loc_btn_ban.values]\n",
    "    reject_offset = df[(df.visit_id >= OFFSET_REJECT)]\n",
    "    num_reachble = reject_offset.shape[0]\n",
    "    btn_status_r = reject_offset[['btn_status' + make_suffix(aws_name) for aws_name in AWSs]]\n",
    "    btn_set_status = reject_offset[['btn_set_status' + make_suffix(aws_name) for aws_name in AWSs]]\n",
    "    loc_btn_ban_r = btn_status_r.fillna(0).astype(bool).sum()\n",
    "    loc_btn_set_ban = btn_set_status.applymap(lambda x: x == 1).sum()\n",
    "    Btn_Status_R_Proportion = [(x + y) / num_reachble for x, y in zip(loc_btn_ban_r.values, loc_btn_set_ban.values)]\n",
    "    method_name(accept_offset, reject_offset, btn_status, btn_status_r)\n",
    "    Banners_Proportion_Stack = [a_i - b_i for a_i, b_i in zip(Banners_Proportion, Btn_Status_Proportion)]\n",
    "    Btn_Status_Proportion_Stack = [a_i - b_i for a_i, b_i in zip(Btn_Status_Proportion, Btn_Status_R_Proportion)]\n",
    "    df = pd.DataFrame(\n",
    "        {'Vantage point': [AWS_to_loc[c] for c in AWSs], 'Det. $\\cap$ Acc. $\\cap$ Rej.': Btn_Status_R_Proportion,\n",
    "         'Det. $\\cap$ Acc.': Btn_Status_Proportion_Stack, 'Det.': Banners_Proportion_Stack,\n",
    "         'Banners': Banners_Proportion})\n",
    "    df.sort_values('Banners', inplace=True, ascending=False)\n",
    "    if len(AWSs) > 1:\n",
    "        rotate_deg = 35\n",
    "    else:\n",
    "        rotate_deg = 0\n",
    "    # colors = [\"#006D2C\", \"#74C476\",\"#EFEFEF\"]\n",
    "    ax = df.plot.bar(x='Vantage point', y=['Det. $\\cap$ Acc. $\\cap$ Rej.', 'Det. $\\cap$ Acc.', 'Det.'], rot=rotate_deg,\n",
    "                     stacked=True, figsize=(single_col_width, single_col_width))\n",
    "    # print(df)\n",
    "    handles, labels = ax.get_legend_handles_labels()\n",
    "    by_label = dict(zip(labels, handles))\n",
    "    v = list(by_label.values())\n",
    "    v.reverse()\n",
    "    k = list(by_label.keys())\n",
    "    k.reverse()\n",
    "    ax.legend(v, k)\n",
    "    ax.set_ylabel(\"Fraction of websites\")\n",
    "    ax.tick_params(bottom=True, top=False, left=True, right=False)\n",
    "    ax.set_xticklabels(ax.get_xticklabels(), rotation=rotate_deg, ha=\"right\")\n",
    "\n",
    "    # move the position of xticks\n",
    "    dx = 7 / 72.\n",
    "    dy = 2 / 72.\n",
    "    # offset = mpl.transforms.ScaledTranslation(dx, dy, fig.dpi_scale_trans)\n",
    "    #\n",
    "    # # apply offset transform to all x ticklabels.\n",
    "    # for label in ax.xaxis.get_majorticklabels():\n",
    "    #     label.set_transform(label.get_transform() + offset)\n",
    "    ax.xaxis.label.set_visible(False)\n",
    "    ax.figure.show()\n",
    "    ax.figure.savefig(FIG_DIR+'/banners_btn_pro_' + name + '.pdf', bbox_inches='tight')\n",
    "\n"
   ]
  },
  {
   "attachments": {},
   "cell_type": "markdown",
   "id": "5fe25b64",
   "metadata": {
    "pycharm": {
     "name": "#%% md\n"
    }
   },
   "source": [
    "#### Fig. 4"
   ]
  },
  {
   "cell_type": "code",
   "execution_count": null,
   "id": "517d6407",
   "metadata": {},
   "outputs": [
    {
     "data": {
      "image/png": "[encoded data removed]",
      "text/plain": [
       "<Figure size 241.2x241.2 with 1 Axes>"
      ]
     },
     "metadata": {},
     "output_type": "display_data"
    }
   ],
   "source": [
    "plot_btn_pro(rd_d)"
   ]
  },
  {
   "cell_type": "code",
   "execution_count": null,
   "id": "1e97c4ba",
   "metadata": {
    "pycharm": {
     "name": "#%%\n"
    }
   },
   "outputs": [],
   "source": [
    "def plot_cookies_dif_EU_nonEU():\n",
    "    EU_nonEU_concat = get_EU_nonEU_acc_no()\n",
    "    f, axes = plt.subplots(1, 2, figsize=(double_col_width, single_col_width))\n",
    "\n",
    "    #f.set_size_inches(single_col_width, single_col_width)\n",
    "    plt.subplots_adjust(hspace=0.9, wspace=0.3)\n",
    "\n",
    "    colors = ['#e69500', '#6890F0', '#6890F0']\n",
    "    bp = sns.ecdfplot(data=EU_nonEU_concat, x=\"count_tp\", hue=\"mode\", hue_order=['No interaction non-EU', 'No interaction EU', 'Accept EU'], linewidth=2, palette=colors, ax = axes[0])\n",
    "    axes[0].set(xlabel=\"Third Party\")\n",
    "    # axes[0].set(ylim=(0, 1.02), xlabel ='Difference in Tracking cookies: Desktop vs. Mobile', ylabel = \"Fraction of websites\")\n",
    "    axes[0].set(xscale=\"log\")\n",
    "    axes[0].legend_.set_title(None)\n",
    "    axes[0].set(title=\"Third Party\")\n",
    "    axes[0].set(ylabel= \"Fraction of websites\",xlabel=\"Avg. number of cookies\")\n",
    "    axes[0].lines[0].set_linestyle(\"--\")\n",
    "    axes[0].legend(['Accept EU','No interaction EU', 'No interaction non-EU'])\n",
    "    axes[0].tick_params(axis='x',which='both',bottom=True)\n",
    "    bp.set(ylim=(0, 1.02))\n",
    "    # bp.set(xlim=(0, 300))\n",
    "    bp.grid()\n",
    "\n",
    "    bp = sns.ecdfplot(data=EU_nonEU_concat, x=\"count_tr\", hue=\"mode\", hue_order=['No interaction non-EU', 'No interaction EU', 'Accept EU'], linewidth=2, palette=colors, ax = axes[1])\n",
    "    # axes[1].set(ylabel=\"Average number of first party cookies\", xlabel=\"\")\n",
    "    # axes[1].set(ylim=(0, 1.02), xlabel ='Difference in Tracking cookies: Desktop vs. Mobile', ylabel = \"Fraction of websites\")\n",
    "    axes[1].set(xscale=\"log\")\n",
    "    axes[1].legend_.set_title(None)\n",
    "    axes[1].set(title=\"Tracking\")\n",
    "    axes[1].set(ylabel= \"\",xlabel=\"Avg. number of cookies\")\n",
    "    axes[1].lines[0].set_linestyle(\"--\")\n",
    "    axes[1].legend(['Accept EU','No interaction EU', 'No interaction non-EU'])\n",
    "    axes[1].tick_params(axis='x',which='both',bottom=True)\n",
    "    plt.ylabel(r' ')\n",
    "    bp.set(ylim=(0, 1.02))\n",
    "    # bp.set(xlim=(0, 300))\n",
    "    plt.grid()\n",
    "    f.suptitle(\"\", fontsize=16, y=-0.05, verticalalignment='bottom')\n",
    "    f.savefig(FIG_DIR+'/eu_vs_noneu.pdf', bbox_inches='tight')"
   ]
  },
  {
   "attachments": {},
   "cell_type": "markdown",
   "id": "4202fb2a-bed4-4590-976d-897b1b420206",
   "metadata": {},
   "source": [
    "#### Fig. 5"
   ]
  },
  {
   "cell_type": "code",
   "execution_count": null,
   "id": "28487986-4571-4a96-8a08-20a27dc6eb23",
   "metadata": {},
   "outputs": [
    {
     "data": {
      "image/png": "[encoded data removed]",
      "text/plain": [
       "<Figure size 506.16x241.2 with 2 Axes>"
      ]
     },
     "metadata": {},
     "output_type": "display_data"
    }
   ],
   "source": [
    "plot_cookies_dif_EU_nonEU()"
   ]
  },
  {
   "attachments": {},
   "cell_type": "markdown",
   "id": "25a42263",
   "metadata": {
    "pycharm": {
     "name": "#%%\n"
    }
   },
   "source": [
    "## 6. Website Cookie Consistency"
   ]
  },
  {
   "cell_type": "code",
   "execution_count": null,
   "id": "5a107597-baa3-4c2e-a723-0c35c2c14b00",
   "metadata": {},
   "outputs": [],
   "source": [
    "def get_tranco_rank_consistency(site_rank, offset=1):\n",
    "\n",
    "    # Reject\n",
    "    if site_rank >= OFFSET_REJECT:\n",
    "        site_rank -= OFFSET_REJECT\n",
    "        \n",
    "    # Accept\n",
    "    elif site_rank >= OFFSET_ACCEPT:\n",
    "        site_rank -= OFFSET_ACCEPT\n",
    "        \n",
    "    # No interaction\n",
    "    else:\n",
    "        pass\n",
    "\n",
    "    return offset+int(site_rank/100)\n"
   ]
  },
  {
   "cell_type": "code",
   "execution_count": null,
   "id": "faa6d199",
   "metadata": {},
   "outputs": [],
   "source": [
    "map_consist_finals = map_of_finals(run=\"consistency\")"
   ]
  },
  {
   "cell_type": "code",
   "execution_count": null,
   "id": "3836327a-43dc-40b6-a144-a579c7d6cda0",
   "metadata": {},
   "outputs": [],
   "source": [
    "def get_consist_merge():\n",
    "    df_cons = None\n",
    "\n",
    "    for loc in locations:\n",
    "        temp = map_consist_finals[loc]\n",
    "        temp[\"site_url\"] = temp[\"site_url\"].apply(lambda x: x.strip())\n",
    "        temp[\"location\"] = loc\n",
    "\n",
    "        if df_cons is None:\n",
    "            df_cons = temp\n",
    "        else:\n",
    "            df_cons = df_cons.append(temp)\n",
    "    \n",
    "    df_cons[\"reject\"] = df_cons[\"site_rank\"] >= OFFSET_REJECT\n",
    "    df_cons[\"accept\"] = (df_cons[\"site_rank\"] < OFFSET_REJECT) & (df_cons[\"site_rank\"] >= OFFSET_ACCEPT)\n",
    "    df_cons_complete = df_cons[df_cons[\"complete\"]]    \n",
    "    df_cons_complete[\"count_fp\"] = df_cons_complete.count_fp.astype(int)\n",
    "    df_cons_complete[\"count_tp\"] = df_cons_complete.count_tp.astype(int)\n",
    "    return df_cons_complete\n"
   ]
  },
  {
   "cell_type": "code",
   "execution_count": null,
   "id": "0e3686d6-f6fb-4bc8-a386-c28b5a611551",
   "metadata": {},
   "outputs": [],
   "source": [
    "def get_df_for_inter_loc_consist():\n",
    "    alpha = 0.05\n",
    "    cons_common_tuples_mw_tp = None\n",
    "    df_temp = get_consist_merge()\n",
    "\n",
    "    for accept, reject in [(False, False), (True, False), (False, True)]:\n",
    "        for w in df_temp[\"site_url\"].unique():\n",
    "            ss = df_temp[(df_temp[\"accept\"] == accept) & (df_temp[\"reject\"] == reject) & (df_temp[\"site_url\"] == w)]\n",
    "            temp = sp.posthoc_mannwhitney(df_temp[(df_temp[\"accept\"] == accept) & (df_temp[\"reject\"] == reject) & (df_temp[\"site_url\"] == w)], val_col=\"count_tp\", group_col=\"location\", p_adjust=\"holm\")\n",
    "\n",
    "            # Select significant results as '1', others are set to '0'\n",
    "            temp = temp.apply(lambda x: [1 if y < alpha else 0 for y in x])\n",
    "\n",
    "            # Skip locations where we do not have responses from all countries\n",
    "            if len(temp.index) != len(locations) or len(temp.columns) != len(locations):\n",
    "                print(\"Skipped \", w, accept, reject, \" due to \", len(temp.columns), \" instead of \", len(locations), \" locations\")\n",
    "                continue\n",
    "            if cons_common_tuples_mw_tp is None:\n",
    "                    cons_common_tuples_mw_tp = temp\n",
    "            else:\n",
    "                cons_common_tuples_mw_tp += temp\n",
    "\n",
    "    cons_common_tuples_mw_tp_str = dict()\n",
    "\n",
    "    for loc1 in locations:\n",
    "        for loc2 in locations:\n",
    "            if loc1 >= loc2:\n",
    "                continue\n",
    "\n",
    "            cons_common_tuples_mw_tp_str[loc1 + \" vs. \" + loc2] = cons_common_tuples_mw_tp.loc[loc1,loc2]\n",
    "    \n",
    "    return cons_common_tuples_mw_tp_str\n"
   ]
  },
  {
   "cell_type": "code",
   "execution_count": null,
   "id": "4379623e-88dc-4337-8b3f-3f9c9235a7a1",
   "metadata": {},
   "outputs": [
    {
     "name": "stdout",
     "output_type": "stream",
     "text": [
      "Skipped  https://gujarat.gov.in False False  due to  6  instead of  8  locations\n",
      "Skipped  https://gujarat.gov.in True False  due to  7  instead of  8  locations\n",
      "Skipped  https://gujarat.gov.in False True  due to  6  instead of  8  locations\n"
     ]
    }
   ],
   "source": [
    "cons_common_tuples_mw_tp_str = get_df_for_inter_loc_consist()"
   ]
  },
  {
   "cell_type": "code",
   "execution_count": null,
   "id": "2f35bea3-2e56-48b1-9dab-0467cd1f1dea",
   "metadata": {},
   "outputs": [],
   "source": [
    "def plot_heatmap():\n",
    "    df_temp = get_consist_merge()\n",
    "    df = pd.DataFrame(columns=['s','d'])\n",
    "    vps = set()\n",
    "    keys = cons_common_tuples_mw_tp_str.keys()\n",
    "    maxi = 0\n",
    "    for x in keys:\n",
    "        v = cons_common_tuples_mw_tp_str[x]\n",
    "        if v>maxi:\n",
    "            maxi = v\n",
    "    keys = cons_common_tuples_mw_tp_str.keys()\n",
    "    denom = 900\n",
    "    for x in keys:\n",
    "        s, d = x.split('vs.')\n",
    "        s, d = [vp.strip() for vp in x.split('vs.')]\n",
    "        vps.add(s)\n",
    "        vps.add(d)\n",
    "        v = cons_common_tuples_mw_tp_str[x]\n",
    "        df = pd.concat([df, pd.DataFrame.from_records([{'s' : s, 'd' : d, 'v' : v/denom}])], ignore_index=True)\n",
    "        df = pd.concat([df, pd.DataFrame.from_records([{'s' : d, 'd' : s, 'v' : v/denom}])], ignore_index=True)\n",
    "\n",
    "    df = df.pivot(\"s\", \"d\", \"v\")\n",
    "    df = df.fillna(0)\n",
    "    new_clm_order = [\"Germany\", \"Sweden\", \"Australia\", \"Brazil\", \"India\", \"US East\", \"US West\", \"South Africa\"]\n",
    "    df = df[new_clm_order]\n",
    "    df = df.reindex(new_clm_order)\n",
    "\n",
    "    f, axes = plt.subplots(1, 2, figsize=(double_col_width, single_col_width))\n",
    "\n",
    "    for loc in locations:\n",
    "        bp = sns.ecdfplot(df_temp[df_temp[\"location\"] == loc].groupby([\"site_url\", \"accept\", \"reject\"])[\"count_tp\"].agg(list).apply(lambda x: scipy.stats.variation(x)).fillna(0), label=loc, ax = axes[0])\n",
    "\n",
    "    axes[0].legend(ncol=2)\n",
    "    axes[0].set(xscale=\"log\")\n",
    "    axes[0].set(xlabel=\"Coefficient of variation of TP cookies\")\n",
    "    axes[0].set(ylabel=\"Fraction of website-interaction tuples\")\n",
    "    bp.set(ylim=(0, 1.05))\n",
    "\n",
    "    axes[0].set_title('(a)', y=-0.45)\n",
    "\n",
    "\n",
    "    bp = sns.heatmap(df, cmap=\"coolwarm\", ax = axes[1]) \n",
    "\n",
    "    labels = axes[1].get_xticklabels()\n",
    "    for label in labels:\n",
    "        label.set_text(label.get_text().replace(\"Germany\", r\"\\textbf{Germany}\"))\n",
    "        label.set_text(label.get_text().replace(\"Sweden\", r\"\\textbf{Sweden}\"))\n",
    "    axes[1].set_xticklabels(labels)\n",
    "\n",
    "    labels = axes[1].get_yticklabels()\n",
    "    for label in labels:\n",
    "        label.set_text(label.get_text().replace(\"Germany\", r\"\\textbf{Germany}\"))\n",
    "        label.set_text(label.get_text().replace(\"Sweden\", r\"\\textbf{Sweden}\"))\n",
    "    axes[1].set_yticklabels(labels)\n",
    "\n",
    "    axes[1].set(xlabel=None)\n",
    "    axes[1].set(ylabel=None)\n",
    "    axes[1].set_title('(b)', y=-0.45)\n",
    "    f.suptitle(\"\", fontsize=16, y=-0.05, verticalalignment='bottom')\n",
    "    f.savefig(FIG_DIR+\"/thread_heatmap.pdf\", bbox_inches='tight')"
   ]
  },
  {
   "cell_type": "code",
   "execution_count": null,
   "id": "3b6fa3bb-6b9f-40de-b72d-72a03d92dfb9",
   "metadata": {},
   "outputs": [
    {
     "data": {
      "image/png": "[encoded data removed]",
      "text/plain": [
       "<Figure size 506.16x241.2 with 3 Axes>"
      ]
     },
     "metadata": {},
     "output_type": "display_data"
    }
   ],
   "source": [
    "plot_heatmap()"
   ]
  },
  {
   "attachments": {},
   "cell_type": "markdown",
   "id": "a2f7f250",
   "metadata": {
    "pycharm": {
     "name": "#%% md\n"
    },
    "toc-hr-collapsed": true
   },
   "source": [
    "## 7. Landing vs. Inner pages"
   ]
  },
  {
   "cell_type": "code",
   "execution_count": null,
   "id": "d7c1451c",
   "metadata": {},
   "outputs": [],
   "source": [
    "merged_landing_inner = get_complete_df_for_landing_inner()"
   ]
  },
  {
   "cell_type": "code",
   "execution_count": null,
   "id": "1cf39f3d",
   "metadata": {
    "pycharm": {
     "name": "#%%\n"
    }
   },
   "outputs": [],
   "source": [
    "#This function plot landing vs. inner pages differences.\n",
    "def plot_landing_inner_dif():\n",
    "    f, axes = plt.subplots(1, 2, figsize=(double_col_width, single_col_width))\n",
    "\n",
    "    #f.set_size_inches(single_col_width, single_col_width)\n",
    "    plt.subplots_adjust(hspace=0.9, wspace=0.3)\n",
    "\n",
    "    colors = ['#78C850', '#F08030', '#6890F0','#F8D030', '#F85888', '#705898', '#B42C63','#EC5B49']\n",
    "    bp = sns.ecdfplot(x=\"tp_in_land_dif\", data=merged_landing_inner[(merged_landing_inner.interaction==\"No interaction\")&(merged_landing_inner[\"loc\"].isin([\"Germany\", \"US East\", \"Brazil\"]))],hue='loc', ax = axes[0])\n",
    "    axes[0].set(xlabel=\"Third Party\")\n",
    "    # axes[0].set(ylim=(0, 1.02), xlabel ='Difference in Tracking cookies: Desktop vs. Mobile', ylabel = \"Fraction of websites\")\n",
    "    axes[0].set(xscale=\"symlog\")\n",
    "    axes[0].text(1, 0.5, u'Inner $>$ Landing')\n",
    "    axes[0].text(-30, 0.5, u\"Landing $>$ Inner\")\n",
    "    axes[0].legend_.set_title(None)\n",
    "    axes[0].set(title=\"Third Party\")\n",
    "    axes[0].set(ylabel= \"Fraction of websites\",xlabel=\"Avg. cookie difference\")\n",
    "    plt.ylim(0, 1.02)\n",
    "    plt.xlim(-111, 115)\n",
    "    bp.grid()\n",
    "\n",
    "    bp = sns.ecdfplot(x=\"tr_in_land_dif\", data=merged_landing_inner[(merged_landing_inner.interaction==\"No interaction\")&(merged_landing_inner[\"loc\"].isin([\"Germany\", \"US East\", \"Brazil\"]))],hue='loc', ax = axes[1])# axes[1].set(ylabel=\"Average number of first party cookies\", xlabel=\"\")\n",
    "    # axes[1].set(ylim=(0, 1.02), xlabel ='Difference in Tracking cookies: Desktop vs. Mobile', ylabel = \"Fraction of websites\")\n",
    "    axes[1].set(xscale=\"symlog\")\n",
    "    axes[1].text(1, 0.5, u'Inner $>$ Landing')\n",
    "    axes[1].text(-30, 0.5, u\"Landing $>$ Inner\")\n",
    "    axes[1].legend_.set_title(None)\n",
    "    axes[1].set(title=\"Tracking\")\n",
    "    axes[1].set(ylabel= \"\",xlabel=\"Avg. cookie difference\")\n",
    "    plt.ylabel(r' ')\n",
    "    plt.ylim(0, 1.02)\n",
    "    plt.xlim(-111, 115)\n",
    "    plt.grid()\n",
    "    f.suptitle(\"\", fontsize=16, y=-0.05, verticalalignment='bottom')\n",
    "    f.savefig(FIG_DIR+'/inner_vs_landing.pdf', bbox_inches='tight')"
   ]
  },
  {
   "attachments": {},
   "cell_type": "markdown",
   "id": "c4280f2c",
   "metadata": {},
   "source": [
    "#### Fig. 7"
   ]
  },
  {
   "cell_type": "code",
   "execution_count": null,
   "id": "d9b5038d",
   "metadata": {},
   "outputs": [
    {
     "data": {
      "image/png": "[encoded data removed]",
      "text/plain": [
       "<Figure size 506.16x241.2 with 2 Axes>"
      ]
     },
     "metadata": {},
     "output_type": "display_data"
    }
   ],
   "source": [
    "plot_landing_inner_dif()"
   ]
  },
  {
   "attachments": {},
   "cell_type": "markdown",
   "id": "e89c9cf3",
   "metadata": {},
   "source": [
    "#### Section 7 details"
   ]
  },
  {
   "cell_type": "code",
   "execution_count": null,
   "id": "514ef371",
   "metadata": {
    "pycharm": {
     "name": "#%%\n"
    }
   },
   "outputs": [],
   "source": [
    "#This function plots the percentage of differences for inner vs. landing page for each VP and for All together.\n",
    "def print_inner_landing_dif_percentage(df=merged_landing_inner):\n",
    "    temp = df[df.interaction==\"No interaction\"]\n",
    "    temp[\"more_landing_tp\"] = temp['tp_in_land_dif'] < 0\n",
    "    temp[\"more_inner_tp\"] = temp['tp_in_land_dif'] > 0\n",
    "    temp[\"more_landing_tr\"] = temp['tr_in_land_dif'] < 0\n",
    "    temp[\"more_inner_tr\"] = temp['tr_in_land_dif'] > 0\n",
    "    temp[\"eq_tp\"] = temp['tp_in_land_dif'] == 0\n",
    "    temp[\"eq_tr\"] = temp['tr_in_land_dif'] == 0\n",
    "    df_bools = temp[[\"domain\", \"more_landing_tp\", \"more_inner_tp\", \"more_landing_tr\", \"more_inner_tr\", \"eq_tp\", \"eq_tr\", \"loc\"]]\n",
    "    df_bools.reset_index(inplace=True, drop=True)\n",
    "    grouped_domain_loc = df_bools.groupby([\"domain\", \"loc\"]).agg(\"all\").reset_index()\n",
    "    for loc in locations:\n",
    "        temp_loc = grouped_domain_loc[grouped_domain_loc[\"loc\"]==loc]\n",
    "        print(f'location: {loc}')\n",
    "        print(f\"{'% of more TP in landing page:':<{37}} {temp_loc[temp_loc.more_landing_tp].shape[0]/temp_loc.shape[0]*100}\")\n",
    "        print(f\"{'% of more TP in inner pages:':<{37}} {temp_loc[temp_loc.more_inner_tp].shape[0]/temp_loc.shape[0]*100}\")\n",
    "        print(f\"{'% of more tracking in landing page:':<{37}} {temp_loc[temp_loc.more_landing_tr].shape[0]/temp_loc.shape[0]*100}\")\n",
    "        print(f\"{'% of more tracking in inner pages:':<{37}} {temp_loc[temp_loc.more_inner_tr].shape[0]/temp_loc.shape[0]*100}\")\n",
    "    \n",
    "    grouped_domain = grouped_domain_loc.groupby([\"domain\"]).agg(\"all\").reset_index()\n",
    "    print(f'\\nlocation: All')\n",
    "    print(f\"{'% of more TP in landing page:':<{37}} {grouped_domain[grouped_domain.more_landing_tp].shape[0]/grouped_domain.shape[0]*100}\")\n",
    "    print(f\"{'% of more TP in inner pages:':<{37}} {grouped_domain[grouped_domain.more_inner_tp].shape[0]/grouped_domain.shape[0]*100}\")\n",
    "    print(f\"{'% of more tracking in landing page:':<{37}} {grouped_domain[grouped_domain.more_landing_tr].shape[0]/grouped_domain.shape[0]*100}\")\n",
    "    print(f\"{'% of more tracking in inner pages:':<{37}} {grouped_domain[grouped_domain.more_inner_tr].shape[0]/grouped_domain.shape[0]*100}\")         \n"
   ]
  },
  {
   "cell_type": "code",
   "execution_count": null,
   "id": "ecc2ce59",
   "metadata": {},
   "outputs": [
    {
     "name": "stdout",
     "output_type": "stream",
     "text": [
      "location: Germany\n",
      "% of more TP in landing page:         28.31858407079646\n",
      "% of more TP in inner pages:          39.38053097345133\n",
      "% of more tracking in landing page:   16.371681415929203\n",
      "% of more tracking in inner pages:    20.79646017699115\n",
      "location: Sweden\n",
      "% of more TP in landing page:         27.876106194690266\n",
      "% of more TP in inner pages:          38.05309734513274\n",
      "% of more tracking in landing page:   16.8141592920354\n",
      "% of more tracking in inner pages:    18.58407079646018\n",
      "location: US East\n",
      "% of more TP in landing page:         42.47787610619469\n",
      "% of more TP in inner pages:          30.08849557522124\n",
      "% of more tracking in landing page:   32.743362831858406\n",
      "% of more tracking in inner pages:    21.238938053097346\n",
      "location: US West\n",
      "% of more TP in landing page:         39.38053097345133\n",
      "% of more TP in inner pages:          31.858407079646017\n",
      "% of more tracking in landing page:   28.761061946902654\n",
      "% of more tracking in inner pages:    22.123893805309734\n",
      "location: India\n",
      "% of more TP in landing page:         34.070796460176986\n",
      "% of more TP in inner pages:          36.283185840707965\n",
      "% of more tracking in landing page:   26.991150442477874\n",
      "% of more tracking in inner pages:    23.451327433628318\n",
      "location: Brazil\n",
      "% of more TP in landing page:         34.95575221238938\n",
      "% of more TP in inner pages:          35.84070796460177\n",
      "% of more tracking in landing page:   24.778761061946902\n",
      "% of more tracking in inner pages:    20.353982300884958\n",
      "location: South Africa\n",
      "% of more TP in landing page:         34.51327433628318\n",
      "% of more TP in inner pages:          37.610619469026545\n",
      "% of more tracking in landing page:   26.991150442477874\n",
      "% of more tracking in inner pages:    25.663716814159294\n",
      "location: Australia\n",
      "% of more TP in landing page:         38.49557522123894\n",
      "% of more TP in inner pages:          32.743362831858406\n",
      "% of more tracking in landing page:   28.761061946902654\n",
      "% of more tracking in inner pages:    23.893805309734514\n",
      "\n",
      "location: All\n",
      "% of more TP in landing page:         18.141592920353983\n",
      "% of more TP in inner pages:          19.469026548672566\n",
      "% of more tracking in landing page:   10.619469026548673\n",
      "% of more tracking in inner pages:    10.176991150442479\n"
     ]
    }
   ],
   "source": [
    "print_inner_landing_dif_percentage()"
   ]
  },
  {
   "attachments": {},
   "cell_type": "markdown",
   "id": "0430f050",
   "metadata": {},
   "source": [
    "#### Section 7 details"
   ]
  },
  {
   "cell_type": "code",
   "execution_count": null,
   "id": "a166e40e",
   "metadata": {},
   "outputs": [],
   "source": [
    "#this function shows the number of banners in Inner vs Landing pages\n",
    "def show_percentage_of_banners_in_land_vs_inner():\n",
    "    vp_dfs = map_inner_finals.values()\n",
    "    valid_landing_domains = get_intersection_column(vp_dfs)\n",
    "    len(valid_landing_domains)\n",
    "    for loc in locations:\n",
    "        temp_df = map_inner_finals[loc]\n",
    "        temp_inner = temp_df[temp_df.is_inner]\n",
    "        temp_landing = temp_df[~temp_df.is_inner]\n",
    "        df1 = temp_inner[temp_inner.domain.isin(valid_landing_domains)]\n",
    "        df2 = temp_landing[temp_landing.domain.isin(valid_landing_domains)]\n",
    "        print(f\"\\nLocation: {loc}\")\n",
    "        print(f\"% inner pages with banners:   {calc_banners(df1)*100}\")\n",
    "        print(f\"% landing pages with banners: {calc_banners(df2)*100}\")"
   ]
  },
  {
   "cell_type": "code",
   "execution_count": null,
   "id": "8df0994a",
   "metadata": {
    "scrolled": true
   },
   "outputs": [
    {
     "name": "stdout",
     "output_type": "stream",
     "text": [
      "\n",
      "Location: Germany\n",
      "% inner pages with banners:   49.93694090042528\n",
      "% landing pages with banners: 51.36752136752136\n",
      "\n",
      "Location: Sweden\n",
      "% inner pages with banners:   51.02800997213668\n",
      "% landing pages with banners: 51.85185185185185\n",
      "\n",
      "Location: US East\n",
      "% inner pages with banners:   25.338026103534244\n",
      "% landing pages with banners: 22.364672364672362\n",
      "\n",
      "Location: US West\n",
      "% inner pages with banners:   28.106760522070683\n",
      "% landing pages with banners: 25.954415954415953\n",
      "\n",
      "Location: India\n",
      "% inner pages with banners:   27.10074791025077\n",
      "% landing pages with banners: 23.475783475783476\n",
      "\n",
      "Location: Brazil\n",
      "% inner pages with banners:   30.937087549494063\n",
      "% landing pages with banners: 29.287749287749286\n",
      "\n",
      "Location: South Africa\n",
      "% inner pages with banners:   26.405631324241092\n",
      "% landing pages with banners: 24.017094017094017\n",
      "\n",
      "Location: Australia\n",
      "% inner pages with banners:   26.739991201055872\n",
      "% landing pages with banners: 23.61823361823362\n"
     ]
    }
   ],
   "source": [
    "show_percentage_of_banners_in_land_vs_inner()"
   ]
  },
  {
   "attachments": {},
   "cell_type": "markdown",
   "id": "a0df3c4e",
   "metadata": {
    "pycharm": {
     "name": "#%% md\n"
    },
    "tags": [],
    "toc-hr-collapsed": true
   },
   "source": [
    "## 8. Mobile vs. Desktop"
   ]
  },
  {
   "cell_type": "code",
   "execution_count": null,
   "id": "58127a11",
   "metadata": {
    "pycharm": {
     "name": "#%%\n"
    }
   },
   "outputs": [],
   "source": [
    "#This function plot Desktop vs. Mobile agent cookies differences.\n",
    "def plot_des_mob_dif():\n",
    "    f, axes = plt.subplots(1, 2, figsize=(double_col_width, single_col_width))\n",
    "    #f.set_size_inches(single_col_width, single_col_width)\n",
    "    plt.subplots_adjust(hspace=0.9, wspace=0.3)\n",
    "    \n",
    "    temp_df = merged_des_mob[(merged_des_mob.interaction==\"No interaction\")&(merged_des_mob[\"loc\"].isin([\"Germany\", \"US East\", \"Brazil\"]))].reset_index()\n",
    "    colors = ['#78C850', '#F08030', '#6890F0','#F8D030', '#F85888', '#705898', '#B42C63','#EC5B49']\n",
    "    bp = sns.ecdfplot(x=\"tp_des_mob_dif\", data=temp_df,hue='loc', ax = axes[0])\n",
    "    axes[0].set(xlabel=\"Third Party\")\n",
    "    # axes[0].set(ylim=(0, 1.02), xlabel ='Difference in Tracking cookies: Desktop vs. Mobile', ylabel = \"Fraction of websites\")\n",
    "    axes[0].set(xscale=\"symlog\")\n",
    "    axes[0].text(1, 0.5, u'Desktop $>$ Mobile')\n",
    "    axes[0].text(-25, 0.5, u\"Mobile $>$ Desktop\")\n",
    "    axes[0].legend_.set_title(None)\n",
    "    axes[0].set(title=\"Third Party\")\n",
    "    axes[0].set(ylabel= \"Fraction of websites\",xlabel=\"Avg. cookie difference\")\n",
    "    plt.ylim(0, 1.02)\n",
    "    plt.xlim(-111, 115)\n",
    "    bp.grid()\n",
    "\n",
    "    bp = sns.ecdfplot(x=\"tr_des_mob_dif\", data=temp_df,hue='loc', ax = axes[1])\n",
    "    # axes[1].set(ylabel=\"Average number of first party cookies\", xlabel=\"\")\n",
    "    # axes[1].set(ylim=(0, 1.02), xlabel ='Difference in Tracking cookies: Desktop vs. Mobile', ylabel = \"Fraction of websites\")\n",
    "    axes[1].set(xscale=\"symlog\")\n",
    "    axes[1].text(1, 0.5, u'Desktop $>$ Mobile')\n",
    "    axes[1].text(-25, 0.5, u\"Mobile $>$ Desktop\")\n",
    "    axes[1].legend_.set_title(None)\n",
    "    axes[1].set(title=\"Tracking\")\n",
    "    axes[1].set(ylabel= \"\",xlabel=\"Avg. cookie difference\")\n",
    "    plt.ylabel(r' ')\n",
    "    plt.ylim(0, 1.02)\n",
    "    plt.xlim(-111, 115)\n",
    "    plt.grid()\n",
    "    # f.suptitle(\"Difference in avg. cookies: Mobile vs. Desktop\", fontsize=16, y=-0.05, verticalalignment='bottom')\n",
    "    f.savefig(FIG_DIR+'/mob_vs_des.pdf', bbox_inches='tight')"
   ]
  },
  {
   "attachments": {},
   "cell_type": "markdown",
   "id": "447a797a",
   "metadata": {},
   "source": [
    "#### Fig. 8"
   ]
  },
  {
   "cell_type": "code",
   "execution_count": null,
   "id": "eca535f5",
   "metadata": {
    "pycharm": {
     "name": "#%%\n"
    }
   },
   "outputs": [
    {
     "data": {
      "image/png": "[encoded data removed]",
      "text/plain": [
       "<Figure size 506.16x241.2 with 2 Axes>"
      ]
     },
     "metadata": {},
     "output_type": "display_data"
    }
   ],
   "source": [
    "plot_des_mob_dif()"
   ]
  },
  {
   "attachments": {},
   "cell_type": "markdown",
   "id": "1409714f",
   "metadata": {},
   "source": [
    "#### Section 8 details"
   ]
  },
  {
   "cell_type": "code",
   "execution_count": null,
   "id": "1da706ea",
   "metadata": {
    "pycharm": {
     "name": "#%%\n"
    }
   },
   "outputs": [],
   "source": [
    "#This function plots the percentage of differences for Desktop vs. Mobile agent for each VP and for All together.\n",
    "def print_des_mob_dif_percentage(df=merged_des_mob):\n",
    "    temp = df[df.interaction==\"No interaction\"]\n",
    "    temp[\"more_mob_tp\"] = temp['tp_des_mob_dif'] < 0\n",
    "    temp[\"more_des_tp\"] = temp['tp_des_mob_dif'] > 0\n",
    "    temp[\"more_mob_tr\"] = temp['tr_des_mob_dif'] < 0\n",
    "    temp[\"more_des_tr\"] = temp['tr_des_mob_dif'] > 0\n",
    "    temp[\"eq_tp\"] = temp['tp_des_mob_dif'] == 0\n",
    "    temp[\"eq_tr\"] = temp['tr_des_mob_dif'] == 0\n",
    "    df_bools = temp[[\"site_url\", \"more_des_tp\", \"more_mob_tp\", \"more_des_tr\", \"more_mob_tr\", \"eq_tp\", \"eq_tr\", \"loc\"]]\n",
    "    df_bools.reset_index(inplace=True, drop=True)\n",
    "    grouped_domain_loc = df_bools.groupby([\"site_url\", \"loc\"]).agg(\"all\").reset_index()\n",
    "    for loc in locations:\n",
    "        temp_loc = grouped_domain_loc[grouped_domain_loc[\"loc\"]==loc]\n",
    "        print(f'location: {loc}')\n",
    "        print(f\"{'% of more TP in Desktop:':<{37}} {temp_loc[temp_loc.more_des_tp].shape[0]/temp_loc.shape[0]*100}\")\n",
    "        print(f\"{'% of more TP in Mobile:':<{37}} {temp_loc[temp_loc.more_mob_tp].shape[0]/temp_loc.shape[0]*100}\")\n",
    "        print(f\"{'% of more tracking in Desktop:':<{37}} {temp_loc[temp_loc.more_des_tr].shape[0]/temp_loc.shape[0]*100}\")\n",
    "        print(f\"{'% of more tracking in Mobile:':<{37}} {temp_loc[temp_loc.more_mob_tr].shape[0]/temp_loc.shape[0]*100}\")\n",
    "    \n",
    "    grouped_domain = grouped_domain_loc.groupby([\"site_url\"]).agg(\"all\").reset_index()\n",
    "    print(f'\\nlocation: All')\n",
    "    print(f\"{'% of more TP in Desktop:':<{37}} {grouped_domain[grouped_domain.more_des_tp].shape[0]/grouped_domain.shape[0]*100}\")\n",
    "    print(f\"{'% of more TP in Mobile:':<{37}} {grouped_domain[grouped_domain.more_mob_tp].shape[0]/grouped_domain.shape[0]*100}\")\n",
    "    print(f\"{'% of more tracking in Desktop:':<{37}} {grouped_domain[grouped_domain.more_des_tr].shape[0]/grouped_domain.shape[0]*100}\")\n",
    "    print(f\"{'% of more tracking in Mobile:':<{37}} {grouped_domain[grouped_domain.more_mob_tr].shape[0]/grouped_domain.shape[0]*100}\")         \n"
   ]
  },
  {
   "cell_type": "code",
   "execution_count": null,
   "id": "cfcbb6a1",
   "metadata": {
    "pycharm": {
     "name": "#%%\n"
    },
    "scrolled": true
   },
   "outputs": [
    {
     "name": "stdout",
     "output_type": "stream",
     "text": [
      "location: Germany\n",
      "% of more TP in Desktop:              19.666666666666664\n",
      "% of more TP in Mobile:               17.0\n",
      "% of more tracking in Desktop:        9.666666666666666\n",
      "% of more tracking in Mobile:         10.333333333333334\n",
      "location: Sweden\n",
      "% of more TP in Desktop:              21.666666666666668\n",
      "% of more TP in Mobile:               15.666666666666668\n",
      "% of more tracking in Desktop:        8.666666666666668\n",
      "% of more tracking in Mobile:         12.666666666666668\n",
      "location: US East\n",
      "% of more TP in Desktop:              27.666666666666668\n",
      "% of more TP in Mobile:               22.666666666666664\n",
      "% of more tracking in Desktop:        17.333333333333336\n",
      "% of more tracking in Mobile:         19.666666666666664\n",
      "location: US West\n",
      "% of more TP in Desktop:              25.0\n",
      "% of more TP in Mobile:               26.0\n",
      "% of more tracking in Desktop:        14.000000000000002\n",
      "% of more tracking in Mobile:         23.333333333333332\n",
      "location: India\n",
      "% of more TP in Desktop:              21.333333333333336\n",
      "% of more TP in Mobile:               25.333333333333336\n",
      "% of more tracking in Desktop:        13.333333333333334\n",
      "% of more tracking in Mobile:         19.666666666666664\n",
      "location: Brazil\n",
      "% of more TP in Desktop:              17.333333333333336\n",
      "% of more TP in Mobile:               28.000000000000004\n",
      "% of more tracking in Desktop:        11.333333333333332\n",
      "% of more tracking in Mobile:         22.0\n",
      "location: South Africa\n",
      "% of more TP in Desktop:              24.333333333333336\n",
      "% of more TP in Mobile:               24.0\n",
      "% of more tracking in Desktop:        17.0\n",
      "% of more tracking in Mobile:         18.333333333333332\n",
      "location: Australia\n",
      "% of more TP in Desktop:              24.666666666666668\n",
      "% of more TP in Mobile:               23.0\n",
      "% of more tracking in Desktop:        17.0\n",
      "% of more tracking in Mobile:         19.333333333333332\n",
      "\n",
      "location: All\n",
      "% of more TP in Desktop:              7.333333333333333\n",
      "% of more TP in Mobile:               7.333333333333333\n",
      "% of more tracking in Desktop:        2.666666666666667\n",
      "% of more tracking in Mobile:         6.333333333333334\n"
     ]
    }
   ],
   "source": [
    "print_des_mob_dif_percentage()"
   ]
  },
  {
   "attachments": {},
   "cell_type": "markdown",
   "id": "29c95cb8",
   "metadata": {
    "pycharm": {
     "name": "#%% md\n"
    },
    "toc-hr-collapsed": true
   },
   "source": [
    "## 9. Impact of CCPA"
   ]
  },
  {
   "cell_type": "code",
   "execution_count": null,
   "id": "7e62a726",
   "metadata": {
    "pycharm": {
     "name": "#%%\n"
    }
   },
   "outputs": [],
   "source": [
    "def plot_cookies_comparison_dnsmpi(dnsmpi_10kscale=False, loc=\"US West\"):\n",
    "    rand = []\n",
    "    ccpa = []\n",
    "    if dnsmpi_10kscale:\n",
    "        ran = ran10k\n",
    "        ccp = ccp10k\n",
    "    else: \n",
    "        ran = ran1k\n",
    "        ccp = ccp1k\n",
    "    for i in ran:\n",
    "        rand.append(\"https://\"+i)\n",
    "    for i in ccp:\n",
    "        ccpa.append(\"https://\"+i)\n",
    "    dft = map_des_finals[loc].groupby([\"site_url\", \"interaction\"]).agg(\"mean\").reset_index()\n",
    "    temp_rand = dft[(dft.interaction==\"No interaction\")&dft['site_url'].isin(rand)]\n",
    "    temp_ccpa = dft[(dft.interaction==\"No interaction\")&dft['site_url'].isin(ccpa)]\n",
    "    temp_rand[\"CCPA\"]=\"Without DNSMPI\"\n",
    "    temp_ccpa[\"CCPA\"]=\"With DNSMPI\"\n",
    "    temp_ccpa = pd.concat([temp_rand, temp_ccpa])\n",
    "    \n",
    "    fig, ax = plt.subplots(figsize=(single_col_width, single_col_width))\n",
    "    axes1 =sns.ecdfplot(ax=ax, x=\"count_tp\", data=temp_ccpa,hue='CCPA', linewidth=2)\n",
    "    axes1.set(ylim=(0, 1.02), xlabel =f\"Average number of TP cookies ({loc})\", ylabel = \"Fraction of websites\", xscale=\"log\")\n",
    "    axes1.set_xlim(left=1, right=None)\n",
    "    axes1.tick_params(axis='x',which='both',bottom=True)\n",
    "    axes1.legend_.set_title(None)\n",
    "    plt.grid()"
   ]
  },
  {
   "attachments": {},
   "cell_type": "markdown",
   "id": "ae6c0556",
   "metadata": {},
   "source": [
    "#### Fig. 9"
   ]
  },
  {
   "cell_type": "code",
   "execution_count": null,
   "id": "c2c5df1c",
   "metadata": {
    "pycharm": {
     "name": "#%%\n"
    },
    "scrolled": true
   },
   "outputs": [
    {
     "data": {
      "image/png": "[encoded data removed]",
      "text/plain": [
       "<Figure size 241.2x241.2 with 1 Axes>"
      ]
     },
     "metadata": {},
     "output_type": "display_data"
    }
   ],
   "source": [
    "plot_cookies_comparison_dnsmpi()"
   ]
  },
  {
   "attachments": {},
   "cell_type": "markdown",
   "id": "5ce5e4de",
   "metadata": {},
   "source": [
    "#### Section 9 details"
   ]
  },
  {
   "cell_type": "code",
   "execution_count": null,
   "id": "4e441778",
   "metadata": {},
   "outputs": [
    {
     "data": {
      "image/png": "[encoded data removed]",
      "text/plain": [
       "<Figure size 241.2x241.2 with 1 Axes>"
      ]
     },
     "metadata": {},
     "output_type": "display_data"
    }
   ],
   "source": [
    "plot_cookies_comparison_dnsmpi(dnsmpi_10kscale=True)"
   ]
  },
  {
   "cell_type": "code",
   "execution_count": null,
   "id": "4fe7fbb7",
   "metadata": {
    "pycharm": {
     "name": "#%%\n"
    }
   },
   "outputs": [
    {
     "data": {
      "text/plain": [
       "7"
      ]
     },
     "execution_count": 84,
     "metadata": {},
     "output_type": "execute_result"
    }
   ],
   "source": [
    "# Run dnsmpi_detection() for us_west.\n",
    "temp = runs['ccpa'].us_west.htmls\n",
    "temp = temp[temp.domain.isin(runs['ccpa'].polished.domain)]\n",
    "html_df = temp\n",
    "dnsmpi_us_west = dnsmpi_detection(html_df)\n",
    "len(dnsmpi_us_west)"
   ]
  },
  {
   "cell_type": "code",
   "execution_count": null,
   "id": "88b3e23d",
   "metadata": {
    "pycharm": {
     "name": "#%%\n"
    }
   },
   "outputs": [
    {
     "data": {
      "text/plain": [
       "1"
      ]
     },
     "execution_count": 85,
     "metadata": {},
     "output_type": "execute_result"
    }
   ],
   "source": [
    "# Run dnsmpi_detection() for us_east.\n",
    "temp = runs['ccpa'].us_east.htmls\n",
    "temp = temp[temp.domain.isin(runs['ccpa'].polished.domain)]\n",
    "html_df = temp\n",
    "dnsmpi_us_east = dnsmpi_detection(html_df)\n",
    "len(dnsmpi_us_east)"
   ]
  },
  {
   "cell_type": "code",
   "execution_count": null,
   "id": "5fb2727e",
   "metadata": {
    "pycharm": {
     "name": "#%%\n"
    }
   },
   "outputs": [
    {
     "data": {
      "text/plain": [
       "0"
      ]
     },
     "execution_count": 86,
     "metadata": {},
     "output_type": "execute_result"
    }
   ],
   "source": [
    "# Run dnsmpi_detection() for eu_central.\n",
    "temp = runs['ccpa'].eu_central.htmls\n",
    "temp = temp[temp.domain.isin(runs['ccpa'].polished.domain)]\n",
    "html_df = temp\n",
    "dnsmpi_eu_central = dnsmpi_detection(html_df)\n",
    "len(dnsmpi_eu_central)"
   ]
  },
  {
   "cell_type": "code",
   "execution_count": null,
   "id": "b1fc4c61",
   "metadata": {
    "pycharm": {
     "name": "#%%\n"
    }
   },
   "outputs": [
    {
     "data": {
      "text/plain": [
       "0"
      ]
     },
     "execution_count": 87,
     "metadata": {},
     "output_type": "execute_result"
    }
   ],
   "source": [
    "# Run dnsmpi_detection() for ap_south.\n",
    "temp = runs['ccpa'].ap_south.htmls\n",
    "temp = temp[temp.domain.isin(runs['ccpa'].polished.domain)]\n",
    "html_df = temp\n",
    "dnsmpi_ap_south = dnsmpi_detection(html_df)\n",
    "len(dnsmpi_ap_south)"
   ]
  },
  {
   "attachments": {},
   "cell_type": "markdown",
   "id": "dcab3c93",
   "metadata": {
    "pycharm": {
     "name": "#%% md\n"
    },
    "toc-hr-collapsed": true
   },
   "source": [
    "## Appendix"
   ]
  },
  {
   "cell_type": "code",
   "execution_count": null,
   "id": "c2812cff-f140-499b-9c91-c6b131ee82f0",
   "metadata": {},
   "outputs": [],
   "source": [
    "def extract_words(text: str):\n",
    "    if not text:\n",
    "        return []\n",
    "    delimeter = ';|,|\\*|\\n|\\s+|\\!|\\&|-|_'\n",
    "    # words = re.findall(r'[A-Za-z]+', text)\n",
    "    words = [word.capitalize() for word in re.split(delimeter, text)]\n",
    "    \n",
    "    if len(words) > 4:\n",
    "        return []\n",
    "    return words\n",
    "\n",
    "def get_words_list_in_btn(lang=\"de\"):\n",
    "    extract_mode = 1   # 0.all 1.text 2.class 3.id\n",
    "    mode = None\n",
    "    flag = False\n",
    "    banners_with_btn = 0\n",
    "    num_banners = 0\n",
    "    words_en = []\n",
    "    words_lang = []\n",
    "    domains_with_help = []\n",
    "    domains_with_sth = []\n",
    "    no_btn = []\n",
    "    htmls = runs[\"words-extraction\"].eu_north.htmls[runs[\"words-extraction\"].eu_north.htmls.visit_id<10000]\n",
    "    visits = runs[\"words-extraction\"].eu_north.visits\n",
    "    num_lang = 0\n",
    "    with_euro = []\n",
    "    with_dollar = []\n",
    "    print('number of total banners: ' + str(len(htmls)))\n",
    "\n",
    "    for index, row in htmls.iterrows():\n",
    "        try:\n",
    "            flag = False\n",
    "            soup = bs(row.html, features=\"html\")\n",
    "            tx = soup.get_text()\n",
    "            for b in soup.find_all('button'):\n",
    "                flag = True\n",
    "                words_to_add = [row.domain]\n",
    "                if row.visit_id == 7493:\n",
    "                    j = 10\n",
    "\n",
    "                if extract_mode == 1 or extract_mode == 0:\n",
    "                    words_to_add = extract_words(b.getText())\n",
    "                    mode = \"text\"\n",
    "                if extract_mode == 2 or extract_mode == 0:\n",
    "                    if b.has_attr('class'):\n",
    "                        for c in b['class']:\n",
    "                            class_words = extract_words(c)\n",
    "                            words_to_add.extend(class_words)\n",
    "                    mode = \"class\"\n",
    "                if extract_mode == 3 or extract_mode == 0:\n",
    "                    if b.has_attr('id'):\n",
    "                        class_words = extract_words(b['id'])\n",
    "                        words_to_add.extend(class_words)\n",
    "                    mode = \"id\"\n",
    "                if 'Help' in words_to_add:\n",
    "                    domains_with_help.append(row.domain)\n",
    "                    continue\n",
    "\n",
    "                if lang == 'all':\n",
    "                    if 'Purposes' in words_to_add:\n",
    "                        domains_with_sth.append((row.visit_id, row.domain))\n",
    "                    words.extend(words_to_add)\n",
    "                elif \"en\" in visits.loc[visits['visit_id'] == row.visit_id].iloc[0].lang:\n",
    "                    if 'Vendor' in words_to_add:\n",
    "                        domains_with_sth.append((row.visit_id, row.domain))\n",
    "                    words_en.extend(words_to_add)\n",
    "                elif lang in visits.loc[visits['visit_id'] == row.visit_id].iloc[0].lang:\n",
    "                    if 'Vendor' in words_to_add:\n",
    "                        domains_with_sth.append((row.visit_id, row.domain))\n",
    "                    words_lang.extend(words_to_add)\n",
    "            if lang == 'all':\n",
    "                num_lang += 1\n",
    "            elif lang in visits.loc[visits['visit_id'] == row.visit_id].iloc[0].lang:\n",
    "                num_lang += 1\n",
    "        except Exception as E:\n",
    "\n",
    "            pass\n",
    "        if flag:\n",
    "            banners_with_btn += 1\n",
    "        else:\n",
    "            no_btn.append(row.domain)\n",
    "        num_banners += 1\n",
    "\n",
    "    return pd.Series(words_en), pd.Series(words_lang)\n"
   ]
  },
  {
   "cell_type": "code",
   "execution_count": null,
   "id": "1233a10c-9e06-4902-ae11-c3ee8ea02ce8",
   "metadata": {},
   "outputs": [
    {
     "name": "stdout",
     "output_type": "stream",
     "text": [
      "number of total banners: 4404\n"
     ]
    }
   ],
   "source": [
    "ser_en, ser_lang = get_words_list_in_btn(lang=\"de\")"
   ]
  },
  {
   "cell_type": "code",
   "execution_count": null,
   "id": "9db69fde-3fb5-41ee-bcca-cb6c74b05966",
   "metadata": {},
   "outputs": [],
   "source": [
    "def plot_words_freq(word_series=ser_en):\n",
    "    words_to_plot = [\"Accept\", \"Settings\", \"Reject\", \"Options\", \"Agree\", \"Preferences\", \"Close\", \"Confirm\", \"Consent\", \"Allow\", \"Continue\", \"Decline\", \"Got\", \"Disagree\", \"Enable\", \"Deny\"]\n",
    "    words_to_plot = [\"Accept\", \"Settings\", \"Reject\", \"Options\", \"Agree\", \"Preferences\", \"Close\", \"Confirm\", \"Consent\", \"Allow\", \"Continue\", \"Decline\", \"Got\", \"Disagree\", \"Enable\", \"Deny\"]\n",
    "    vc1_en = word_series.value_counts()\n",
    "    vc = vc1_en[words_to_plot]\n",
    "    words_to_plot[words_to_plot.index(\"Got\")] = \"Got it\"\n",
    "    got_it_freq = vc[\"Got\"]\n",
    "    vc = vc.reindex(words_to_plot, fill_value=got_it_freq)\n",
    "    words_to_plot.insert(0, '')\n",
    "    vc = vc.reindex(words_to_plot, fill_value=0)\n",
    "    ax = vc.cumsum().plot.line(figsize=(single_col_width, single_col_width), marker='h', markerfacecolor='lightgreen', markeredgewidth=1,\n",
    "             markersize=3, markevery=1)\n",
    "    x = [list(vc.index).index(word) for word in vc.index]\n",
    "    y = list(vc.cumsum())\n",
    "    i = 0\n",
    "    for x,y in zip(x,y):\n",
    "        _x = -5 - len(words_to_plot[x]) * 1.2\n",
    "        _y = 2\n",
    "        ax.annotate(words_to_plot[x], # this is the text\n",
    "                     (x,y), # these are the coordinates to position the label\n",
    "                     textcoords=\"offset points\", # how to position the text\n",
    "                     xytext=(_x,_y), # distance from text to points (x,y)\n",
    "                     ha='center',\n",
    "                     rotation=-20-i) # horizontal alignment can be left, right or center\n",
    "        i = i + 1.7\n",
    "    ax.axes.xaxis.set_ticklabels([])\n",
    "    ax.set(xlabel=\"Words\", ylabel=\"Cumulative frequency\")\n",
    "    ax.set_ylim(0, 5300)\n",
    "    ax.set_xlim(-2.1, 16.33)\n",
    "    ax.tick_params(bottom=False, top=False, left=True, right=False)\n",
    "    ax.figure.savefig(FIG_DIR+'/words_freq_en.pdf', bbox_inches='tight')"
   ]
  },
  {
   "attachments": {},
   "cell_type": "markdown",
   "id": "fc0dad38-b1ef-499b-a272-4446656d65d9",
   "metadata": {},
   "source": [
    "#### Fig. 10"
   ]
  },
  {
   "cell_type": "code",
   "execution_count": null,
   "id": "c41c92bc-f54f-4f96-807e-6762a5a074c8",
   "metadata": {},
   "outputs": [
    {
     "data": {
      "image/png": "[encoded data removed]",
      "text/plain": [
       "<Figure size 241.2x241.2 with 1 Axes>"
      ]
     },
     "metadata": {},
     "output_type": "display_data"
    }
   ],
   "source": [
    "plot_words_freq()"
   ]
  }
 ],
 "metadata": {
  "kernelspec": {
   "display_name": "Python 3 (ipykernel)",
   "language": "python",
   "name": "python3"
  },
  "language_info": {
   "codemirror_mode": {
    "name": "ipython",
    "version": 3
   },
   "file_extension": ".py",
   "mimetype": "text/x-python",
   "name": "python",
   "nbconvert_exporter": "python",
   "pygments_lexer": "ipython3",
   "version": "3.10.4"
  }
 },
 "nbformat": 4,
 "nbformat_minor": 5
}
